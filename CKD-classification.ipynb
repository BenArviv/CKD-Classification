{
 "cells": [
  {
   "cell_type": "markdown",
   "metadata": {},
   "source": [
    "# CKD-Classification"
   ]
  },
  {
   "cell_type": "markdown",
   "metadata": {},
   "source": [
    "This is an assignment given in the **Open University of Israel**'s course: **Data Mining**, in which I was asked to define the problem, preproccess the data, and solve the problem using classification algorithms."
   ]
  },
  {
   "cell_type": "code",
   "execution_count": 1,
   "metadata": {},
   "outputs": [],
   "source": [
    "import numpy as np\n",
    "import pandas as pd\n",
    "import matplotlib.pyplot as plt\n",
    "import graphviz\n",
    "import seaborn as sns\n",
    "from sklearn import tree\n",
    "from sklearn.tree import export_graphviz\n",
    "from IPython.display import display\n",
    "from sklearn.linear_model import LogisticRegression\n",
    "from sklearn.tree import DecisionTreeClassifier\n",
    "from sklearn.ensemble import RandomForestClassifier\n",
    "from sklearn.decomposition import PCA\n",
    "from sklearn.naive_bayes import GaussianNB\n",
    "from sklearn.cluster import DBSCAN\n",
    "from sklearn.neural_network import MLPClassifier\n",
    "from sklearn.model_selection import train_test_split\n",
    "from sklearn.metrics import roc_curve, roc_auc_score, auc, homogeneity_score, completeness_score, v_measure_score, adjusted_rand_score, adjusted_mutual_info_score, silhouette_score, log_loss, accuracy_score\n",
    "from scipy.io.arff import loadarff\n",
    "import random\n",
    "import math\n",
    "import warnings\n",
    "\n",
    "warnings.filterwarnings('ignore')"
   ]
  },
  {
   "cell_type": "markdown",
   "metadata": {},
   "source": [
    "## Defining the Problem"
   ]
  },
  {
   "cell_type": "markdown",
   "metadata": {},
   "source": [
    "The purpose of the data mining process regarding **Chronic Kidney Disease** (CKDs) is to reveal patterns, dependencies or hidden meanings in the following set of features, describing people's health conditions. Using statistical tools, algorithms and models, we can check the influence of the given 24 attributes on the possibility of being diagnosed with CKD. This proccess will help us understand the factors affecting kidney disease, diagnose it earlier and suggest the best treatment method, or even prevent the disease in the future."
   ]
  },
  {
   "cell_type": "markdown",
   "metadata": {},
   "source": [
    "## Defining the Attributes"
   ]
  },
  {
   "cell_type": "markdown",
   "metadata": {},
   "source": [
    "| # | Attribute name | Description | Data type | Unit measures | Range of values | Average | Standard deviation |\n",
    "| - | -------------- | ---------- | --------- | -------------- | ------------------ | ------- | ------------------ |\n",
    "| 1 | age | Age | numeric | years | 2-90 | 51.48338 | 17.16971 |\n",
    "| 2 | bp | Blood pressure | numeric | Mm/Hg | 50-180 | 76.46907 | 13.68364 |\n",
    "| 3 | sg | Specific gravity | nominal | | {1.005,1.010,1.015,1.020,1.025} | | |\n",
    "| 4 | al | Albumin | nominal | | {0,1,2,3,4,5} | | |\n",
    "| 5 | su | Sugar | nominal | | {0,1,2,3,4,5} | | |\n",
    "| 6 | rbc | Red blood cells | nominal | | {Normal, Abnormal} | | |\n",
    "| 7 | pc | Pus cell | nominal | | {Normal, Abnormal} | | |\n",
    "| 8 | pcc | Puss cell clumps | nominal | | {Present, Not present} | | |\n",
    "| 9 | ba | Bacteria | nominal | | {Present, Not present} | | |\n",
    "| 10 | bgr | Blood glucose random | numeric | Mgs/Dl | 22-490 | 148.0365 | 72.28171 |\n",
    "| 11 | bu | Blood urea | numeric | Mgs/Dl | 1.5-391 | 57.42572 | 50.50301 |\n",
    "| 12 | sc | Serum creatinine | numeric | Mgs/Dl | 0.4-76 | 3.072454 | 5.741126 |\n",
    "| 13 | sod | Sodium | numeric |mEq/L | 4.5-163 | 137.5288 | 10.40875 |\n",
    "| 14 | pot | Potassium | numeric | mEq/L | 2.5-47 | 4.627244 | 3.19304 |\n",
    "| 15 | hemo | Hemoglobin | numeric | Gms | 3.1-17.8 | 12.52644 | 2.912587 |\n",
    "| 16 | pcv | Packed cell volume | numeric | | 9-54 | 38.8845 | 8.990105 |\n",
    "| 17 | wc | White blood cell count | numeric | Cells/cumm | 2200-26400 | 8406.122 | 2944.474 |\n",
    "|18 | rc | Red blood cell count | numeric | Millions/cmm | 2.1-8 | 4.707435 | 1.025323 |\n",
    "| 19 | htn | Hypertension | nominal | | {yes, No} | | |\n",
    "| 20 | dm | Diabetes mellitus | nominal | | {yes, No} | | |\n",
    "| 21 | cad | Coronay artery disease | nominal | | {yes, No} | | |\n",
    "| 22 | appet | Appetite | nominal | | {Good, Poor} | | |\n",
    "| 23 | pe | Pedel edema | nominal | | {yes, No} | | |\n",
    "| 24 | ane | Anemia | nominal | | {yes, No} | | |\n"
   ]
  },
  {
   "cell_type": "code",
   "execution_count": 2,
   "metadata": {},
   "outputs": [],
   "source": [
    "k = 10 # 10-fold cross validation\n",
    "data = loadarff('chronic_kidney_disease.arff')\n",
    "df = pd.DataFrame(data[0])\n",
    "columns = df.columns"
   ]
  },
  {
   "cell_type": "markdown",
   "metadata": {},
   "source": [
    "## Defining the KDD Steps"
   ]
  },
  {
   "cell_type": "markdown",
   "metadata": {},
   "source": [
    "- KDD: Knowledge discovery in databases"
   ]
  },
  {
   "cell_type": "markdown",
   "metadata": {},
   "source": [
    "### Defining Data Mining Goals"
   ]
  },
  {
   "cell_type": "markdown",
   "metadata": {},
   "source": [
    "Prediction of the presence of **CKD**, depending on different medical indices of a patient."
   ]
  },
  {
   "cell_type": "markdown",
   "metadata": {},
   "source": [
    "### Data Collection and Storage"
   ]
  },
  {
   "cell_type": "markdown",
   "metadata": {},
   "source": [
    "The data is taken from a single dataset from Bangladesh, and therefore there is no need in integration from different sources."
   ]
  },
  {
   "cell_type": "markdown",
   "metadata": {},
   "source": [
    "### Data Cleaning"
   ]
  },
  {
   "cell_type": "markdown",
   "metadata": {},
   "source": [
    "The data contains missing values, so we want to fix the dataset by deleting observations or filling those values with close values, or by smoothing. In this case, I chose to fill in missing values using mean (for continous values) and mode (for discrete values)."
   ]
  },
  {
   "cell_type": "code",
   "execution_count": 3,
   "metadata": {},
   "outputs": [],
   "source": [
    "\"data decoding\"\n",
    "nom_att = ['sg', 'al', 'su', 'rbc', 'pc', 'pcc', 'ba', 'htn', 'dm', 'cad', 'appet', 'pe', 'ane', 'class']\n",
    "\n",
    "for att in nom_att:\n",
    "    df[att] = df[att].str.decode('utf-8')"
   ]
  },
  {
   "cell_type": "code",
   "execution_count": 4,
   "metadata": {},
   "outputs": [],
   "source": [
    "\"missing values\"\n",
    "df[['htn','dm','cad','pe','ane']] = df[['htn','dm','cad','pe','ane']].replace(to_replace={'yes':1,'no':0, '?':np.nan}) # yes/no/? -> 1/0/NaN\n",
    "df[['rbc', 'pc']] = df[['rbc', 'pc']].replace(to_replace={'abnormal':1,'normal':0, '?':np.nan}) # abnormal/normal/? -> 1/0/NaN \n",
    "df[['pcc', 'ba']] = df[['pcc', 'ba']].replace(to_replace={'present':1,'notpresent':0, '?':np.nan}) # present/notpresent/? -> 1/0/NaN\n",
    "df[['appet']] = df[['appet']].replace(to_replace={'good':1,'poor':0, '?':np.nan}) # good/poor/? -> 1/0/NaN\n",
    "df[['class']] = df[['class']].replace(to_replace={'ckd':1,'notckd':0, '?':np.nan}) # ckd/notckd/? -> 1/0/NaN\n",
    "df[['sg', 'al', 'su']] = df[['sg', 'al', 'su']].replace(to_replace={'?':np.nan}) # ? -> NaN\n",
    "\n",
    "for col in df.columns:\n",
    "    df[col] = pd.to_numeric(df[col], errors='coerce')  # convert to numeric\n",
    "\n",
    "for col in df.columns:\n",
    "    if col in ['sg', 'al', 'su', 'htn', 'dm', 'cad', 'pe', 'ane', 'rbc', 'pc', 'pcc', 'ba', 'appet']: # categorical data\n",
    "        df[col] = df[col].fillna(df[col].mode()[0]) # fill NaN with mode\n",
    "    else: # numerical data\n",
    "        df[col] = df[col].fillna(df[col].mean()) # fill NaN with mean"
   ]
  },
  {
   "cell_type": "code",
   "execution_count": 5,
   "metadata": {},
   "outputs": [],
   "source": [
    "\"outliers\"\n",
    "for col in ['bgr', 'bu', 'sc', 'pot', 'wbcc']: # columns with high standard deviation\n",
    "    average = df[col].mean()\n",
    "    sd = df[col].std()\n",
    "    for i in range(len(df[col])): # for each row\n",
    "        if df[col][i] > average + 2 * sd:\n",
    "            if col == 'wbcc':\n",
    "                df[col][i] = df[col][i] / 5 # divide by 5\n",
    "                continue\n",
    "            df[col][i] = df[col][i] / 10 # divide by 10\n",
    "        elif df[col][i] < average - 2 * sd:\n",
    "            if col == 'wbcc':\n",
    "                df[col][i] = df[col][i] * 5 # divide by 5\n",
    "                continue\n",
    "            df[col][i] = df[col][i] * 10 # multiply by 10"
   ]
  },
  {
   "cell_type": "markdown",
   "metadata": {},
   "source": [
    "### Data Reduction and Transformation"
   ]
  },
  {
   "cell_type": "markdown",
   "metadata": {},
   "source": [
    "Analyzing if there is a need for data reduction, by deleting observation or irrelevant features, as well as discretizing and normalizing the data. Notice that some values greatly exceeds the standard deviation, so we fix them."
   ]
  },
  {
   "cell_type": "code",
   "execution_count": 6,
   "metadata": {},
   "outputs": [],
   "source": [
    "\"data normalization\"\n",
    "def normalize_transform(df, cls): # performs data normalization\n",
    "    for col in ['age', 'bp', 'bgr', 'bu', 'sc', 'sod', 'pot', 'hemo', 'pcv', 'wbcc', 'rbcc']: # numerical data\n",
    "        df[col] = (df[col] - df[col].min()) / (df[col].max() - df[col].min()) # min-max normalization\n",
    "\n",
    "    X = df.drop(cls, axis = 1)\n",
    "    X = X.to_numpy()\n",
    "    y = df[cls]\n",
    "    y = y.to_numpy()\n",
    "    \n",
    "    return X, y"
   ]
  },
  {
   "cell_type": "code",
   "execution_count": 7,
   "metadata": {},
   "outputs": [],
   "source": [
    "\"data discretization\"\n",
    "def discretize_transform(df, cls): # performs data discretization \n",
    "    for col in ['age', 'bp', 'bgr', 'bu', 'sc', 'sod', 'pot', 'hemo', 'pcv', 'wbcc', 'rbcc']:\n",
    "        average = df[col].mean()\n",
    "        ds = df[col].std()\n",
    "        factor = int(average / (2 * ds) + 1)\n",
    "        df[col] = pd.qcut(df[col], factor, labels = False, duplicates = 'drop') # equal frequency discretization\n",
    "        \n",
    "    X = df.drop(cls, axis = 1)\n",
    "    print(X.shape)\n",
    "    X = X.to_numpy()\n",
    "    y = df[cls]\n",
    "    y = y.to_numpy()\n",
    "    \n",
    "    return X, y"
   ]
  },
  {
   "cell_type": "markdown",
   "metadata": {},
   "source": [
    "### Choosing Methods and Tools for Data Mining"
   ]
  },
  {
   "cell_type": "markdown",
   "metadata": {},
   "source": [
    "I've used `Excel` for organising the data, as well as `Python` for data proccessing and running ML algorithms."
   ]
  },
  {
   "cell_type": "markdown",
   "metadata": {},
   "source": [
    "### Matching the Data for Chosen Data Mining Methods"
   ]
  },
  {
   "cell_type": "markdown",
   "metadata": {},
   "source": [
    "To ensure that the data is suitable for the various classification algorithms, we will normalize the values. This normalization process will prevent any single value from having a disproportionate impact on the classification results."
   ]
  },
  {
   "cell_type": "markdown",
   "metadata": {},
   "source": [
    "Transformation for `Decision Tree` classifier:"
   ]
  },
  {
   "cell_type": "code",
   "execution_count": 8,
   "metadata": {},
   "outputs": [
    {
     "name": "stdout",
     "output_type": "stream",
     "text": [
      "(400, 24)\n"
     ]
    }
   ],
   "source": [
    "df_x_dt, df_y_dt = discretize_transform(df.copy(), 'class') # discretized data"
   ]
  },
  {
   "cell_type": "markdown",
   "metadata": {},
   "source": [
    "Transformation for `Logistic Regression` classifier:"
   ]
  },
  {
   "cell_type": "code",
   "execution_count": 9,
   "metadata": {},
   "outputs": [],
   "source": [
    "df_x_lr, df_y_lr = normalize_transform(df.copy(), 'class') # normalized data for logistic regression"
   ]
  },
  {
   "cell_type": "markdown",
   "metadata": {},
   "source": [
    "### Actual Data Mining Process"
   ]
  },
  {
   "cell_type": "markdown",
   "metadata": {},
   "source": [
    "Run the chosen classification algorithms on the optimized data, using `Python`."
   ]
  },
  {
   "cell_type": "code",
   "execution_count": 10,
   "metadata": {},
   "outputs": [],
   "source": [
    "def bootstrap_sample(X, y, n):\n",
    "    X_res = []\n",
    "    y_res = []\n",
    "    length = len(X)\n",
    "    indices = np.zeros(length)\n",
    "    index = -1\n",
    "    \n",
    "    for i in range(n):\n",
    "        index = random.randint(0, length - 1)\n",
    "        X_res.append(X[index])\n",
    "        y_res.append(y[index])\n",
    "        indices[index] = 1\n",
    "        \n",
    "    return X_res, y_res, indices"
   ]
  },
  {
   "cell_type": "code",
   "execution_count": 11,
   "metadata": {},
   "outputs": [],
   "source": [
    "def detailed_accuracy(y_test, y_pred, TPR, FPR, auc): # detailed accuracy\n",
    "    df = pd.DataFrame(columns=['TP', 'FP', 'Precision', 'Recall', 'F-Measure', 'AUC', 'Class', 'Accuracy', 'Error Rate'])\n",
    "    TP, FP, TN, FN = 0, 0, 0, 0\n",
    "    \n",
    "    for i in range(len(y_pred)):\n",
    "        if y_test[i] == 0 and y_pred[i] == 0:\n",
    "            TN += 1\n",
    "        elif y_test[i] == 0 and y_pred[i] == 1:\n",
    "            FN += 1\n",
    "        elif y_test[i] == 1 and y_pred[i] == 0:\n",
    "            FP += 1\n",
    "        elif y_test[i] == 1 and y_pred[i] == 1:\n",
    "            TP += 1\n",
    "            \n",
    "    Precision = TP / (TP + FP)\n",
    "    NPV = TN / (TN + FN)\n",
    "    Recall = TP / (TP + FN)\n",
    "    Specificity = TN / (TN + FP)\n",
    "    F_Measure = 2 * Precision * Recall / (Precision + Recall)\n",
    "    Accuracy = (TP + TN) / (TP + TN + FP + FN)\n",
    "    Error_Rate = (FP + FN) / (TP + TN + FP + FN)\n",
    "    \n",
    "    df.loc[1] = [TP, FP, Precision, Recall, F_Measure, auc, 'ckd', '', '']\n",
    "    df.loc[2] = [TN, FN, NPV, Specificity, F_Measure, auc, 'notckd', '', '']\n",
    "    df.loc[3] = ['', '', '', '', '', '', 'Total:', Accuracy, Error_Rate]\n",
    "    \n",
    "    return df"
   ]
  },
  {
   "cell_type": "markdown",
   "metadata": {},
   "source": [
    "`Decision Tree` classifier:"
   ]
  },
  {
   "cell_type": "code",
   "execution_count": 12,
   "metadata": {},
   "outputs": [],
   "source": [
    "def decision_tree_model(X, y, crit, k): # decision tree model\n",
    "    accuracy = []\n",
    "    sum = 0\n",
    "    dectree = DecisionTreeClassifier(criterion = crit)\n",
    "    \n",
    "    for i in range(k): # k-fold cross validation\n",
    "        X_train, y_train, indices = bootstrap_sample(X, y, int(len(X) * 0.8)) # bootstrap sampling for 80% of the data\n",
    "        X_test, y_test = [], []\n",
    "        score = 0 # accuracy score\n",
    "        \n",
    "        for j in range(len(indices)):\n",
    "            if indices[j] == 0:\n",
    "                X_test.append(X[j])\n",
    "                y_test.append(y[j])\n",
    "        \n",
    "        dectree.fit(X_train, y_train)\n",
    "        y_pred = dectree.predict(X_test)\n",
    "        length = len(y_pred)\n",
    "        \n",
    "        for j in range(length):\n",
    "            if y_pred[j] == y_test[j]: # if prediction is correct\n",
    "                score += 1\n",
    "        \n",
    "        accuracy.append(score / length)\n",
    "        \n",
    "    for i in range(len(accuracy)):\n",
    "        sum += accuracy[i]\n",
    "    accuracy = sum / len(accuracy) # average accuracy\n",
    "    dectree.fit(X, y) # fit the model with all the data\n",
    "    \n",
    "    return dectree, accuracy"
   ]
  },
  {
   "cell_type": "code",
   "execution_count": 13,
   "metadata": {},
   "outputs": [],
   "source": [
    "id3_model, id3_accuracy = decision_tree_model(df_x_dt, df_y_dt, 'entropy', k)\n",
    "cart_model, cart_accuracy = decision_tree_model(df_x_dt, df_y_dt, 'gini', k)"
   ]
  },
  {
   "cell_type": "markdown",
   "metadata": {},
   "source": [
    "`Logistic Regression` classifier:"
   ]
  },
  {
   "cell_type": "code",
   "execution_count": 14,
   "metadata": {},
   "outputs": [],
   "source": [
    "def logistic_regression_model(X, y, k): # logistic regression model\n",
    "    accuracy = []\n",
    "    sum = 0\n",
    "    logreg = LogisticRegression()\n",
    "    \n",
    "    for i in range(k): # k-fold cross validation\n",
    "        X_train, y_train, indices = bootstrap_sample(X, y, int(len(X) * 0.8)) # bootstrap sampling for 80% of the data\n",
    "        X_test, y_test = [], []\n",
    "        score = 0 # accuracy score\n",
    "        \n",
    "        for j in range(len(indices)):\n",
    "            if indices[j] == 0:\n",
    "                X_test.append(X[j])\n",
    "                y_test.append(y[j])\n",
    "        \n",
    "        logreg.fit(X_train, y_train)\n",
    "        y_pred = logreg.predict(X_test)\n",
    "        length = len(y_pred)\n",
    "        \n",
    "        for j in range(length):\n",
    "            if y_pred[j] == y_test[j]: # if prediction is correct\n",
    "                score += 1\n",
    "\n",
    "        score /= length\n",
    "        accuracy.append(score)\n",
    "    \n",
    "    for i in range(len(accuracy)):\n",
    "        sum += accuracy[i]\n",
    "    accuracy = sum / len(accuracy) # average accuracy\n",
    "    logreg.fit(X, y) # fit the model with all the data\n",
    "    coeffs = logreg.coef_\n",
    "    fpr, tpr, thresholds = roc_curve(y_test, y_pred)\n",
    "    auc_score = roc_auc_score(y_test, y_pred)\n",
    "    roc_auc = auc(fpr, tpr)\n",
    "    \n",
    "    print(\"Detailed accuracy: \\n\", detailed_accuracy(y_test, y_pred, fpr, tpr, auc_score))\n",
    "    \n",
    "    return logreg, accuracy, coeffs, fpr, tpr, thresholds, roc_auc"
   ]
  },
  {
   "cell_type": "code",
   "execution_count": 15,
   "metadata": {},
   "outputs": [
    {
     "name": "stdout",
     "output_type": "stream",
     "text": [
      "Detailed accuracy: \n",
      "    TP  FP Precision    Recall F-Measure       AUC   Class  Accuracy Error Rate\n",
      "1  99  14  0.876106       1.0  0.933962  0.938053     ckd                     \n",
      "2  58   0       1.0  0.805556  0.933962  0.938053  notckd                     \n",
      "3                                                  Total:  0.918129   0.081871\n"
     ]
    }
   ],
   "source": [
    "logreg_model, logreg_accuracy, logreg_coeff, fpr, tpr, thrs, roc_auc = logistic_regression_model(df_x_lr, df_y_lr, k)"
   ]
  },
  {
   "cell_type": "markdown",
   "metadata": {},
   "source": [
    "### Analysis of the Results"
   ]
  },
  {
   "cell_type": "markdown",
   "metadata": {},
   "source": [
    "Analyzing the results derived from the classification algorithm, and assessing them based on metrics like _accuracy_, _relevance_, _simplicity_ and so on, through the use of statistical data analysis.\n",
    "After examination, the results can be either of the following: "
   ]
  },
  {
   "cell_type": "markdown",
   "metadata": {},
   "source": [
    "1. **The results are satisfactory** <br>\n",
    "  In this case, we move forward to the next step - conclusions.<br>\n",
    "2. **The results aren't satisfactory** <br>\n",
    "  In this case, we repeat the process while changing some parts of it (e.g data deletion, discretization, different transformations, different algorithms etc.). This action will be repeated until a model is found that satisfies the needs of the test, or until it is decided to stop the process."
   ]
  },
  {
   "cell_type": "markdown",
   "metadata": {},
   "source": [
    "### Conclusions"
   ]
  },
  {
   "cell_type": "markdown",
   "metadata": {},
   "source": [
    "Using the optimal model found to predict the presence of CKD in future patients. Depending on the chosen model, we can present it visually using a mathematical formula, an inference rule, a decision tree or the source code of the algorithm."
   ]
  },
  {
   "cell_type": "markdown",
   "metadata": {},
   "source": [
    "Logistic Regression ROC Curve:"
   ]
  },
  {
   "cell_type": "code",
   "execution_count": 16,
   "metadata": {},
   "outputs": [
    {
     "data": {
      "image/png": "[encoded data removed]",
      "text/plain": [
       "<Figure size 640x480 with 1 Axes>"
      ]
     },
     "metadata": {},
     "output_type": "display_data"
    }
   ],
   "source": [
    "plt.figure()\n",
    "plt.plot(fpr, tpr, color='darkorange', lw=2, label=f'ROC curve (area = {roc_auc:.2f})')\n",
    "plt.plot([0, 1], [0, 1], color='navy', lw=2, linestyle='--')\n",
    "plt.xlabel('False Positive Rate')\n",
    "plt.ylabel('True Positive Rate')\n",
    "plt.title('ROC Curve')\n",
    "plt.legend(loc='lower right')\n",
    "plt.show()"
   ]
  },
  {
   "cell_type": "markdown",
   "metadata": {},
   "source": [
    "ID3 Decision Tree:"
   ]
  },
  {
   "cell_type": "code",
   "execution_count": 17,
   "metadata": {},
   "outputs": [
    {
     "data": {
      "image/svg+xml": [
       "<?xml version=\"1.0\" encoding=\"UTF-8\" standalone=\"no\"?>\n",
       "<!DOCTYPE svg PUBLIC \"-//W3C//DTD SVG 1.1//EN\"\n",
       " \"http://www.w3.org/Graphics/SVG/1.1/DTD/svg11.dtd\">\n",
       "<!-- Generated by graphviz version 2.50.0 (0)\n",
       " -->\n",
       "<!-- Title: Tree Pages: 1 -->\n",
       "<svg width=\"1170pt\" height=\"1385pt\"\n",
       " viewBox=\"0.00 0.00 1170.00 1385.00\" xmlns=\"http://www.w3.org/2000/svg\" xmlns:xlink=\"http://www.w3.org/1999/xlink\">\n",
       "<g id=\"graph0\" class=\"graph\" transform=\"scale(1 1) rotate(0) translate(4 1381)\">\n",
       "<title>Tree</title>\n",
       "<polygon fill=\"white\" stroke=\"transparent\" points=\"-4,4 -4,-1381 1166,-1381 1166,4 -4,4\"/>\n",
       "<!-- 0 -->\n",
       "<g id=\"node1\" class=\"node\">\n",
       "<title>0</title>\n",
       "<path fill=\"#b0d8f5\" stroke=\"black\" d=\"M847,-1377C847,-1377 746,-1377 746,-1377 740,-1377 734,-1371 734,-1365 734,-1365 734,-1306 734,-1306 734,-1300 740,-1294 746,-1294 746,-1294 847,-1294 847,-1294 853,-1294 859,-1300 859,-1306 859,-1306 859,-1365 859,-1365 859,-1371 853,-1377 847,-1377\"/>\n",
       "<text text-anchor=\"start\" x=\"762\" y=\"-1361.8\" font-family=\"Helvetica,sans-Serif\" font-size=\"14.00\">hemo ≤ 1.5</text>\n",
       "<text text-anchor=\"start\" x=\"749\" y=\"-1346.8\" font-family=\"Helvetica,sans-Serif\" font-size=\"14.00\">entropy = 0.954</text>\n",
       "<text text-anchor=\"start\" x=\"751.5\" y=\"-1331.8\" font-family=\"Helvetica,sans-Serif\" font-size=\"14.00\">samples = 400</text>\n",
       "<text text-anchor=\"start\" x=\"742\" y=\"-1316.8\" font-family=\"Helvetica,sans-Serif\" font-size=\"14.00\">value = [150, 250]</text>\n",
       "<text text-anchor=\"start\" x=\"753\" y=\"-1301.8\" font-family=\"Helvetica,sans-Serif\" font-size=\"14.00\">class = notckd</text>\n",
       "</g>\n",
       "<!-- 1 -->\n",
       "<g id=\"node2\" class=\"node\">\n",
       "<title>1</title>\n",
       "<path fill=\"#54aae9\" stroke=\"black\" d=\"M776,-1258C776,-1258 683,-1258 683,-1258 677,-1258 671,-1252 671,-1246 671,-1246 671,-1187 671,-1187 671,-1181 677,-1175 683,-1175 683,-1175 776,-1175 776,-1175 782,-1175 788,-1181 788,-1187 788,-1187 788,-1246 788,-1246 788,-1252 782,-1258 776,-1258\"/>\n",
       "<text text-anchor=\"start\" x=\"702\" y=\"-1242.8\" font-family=\"Helvetica,sans-Serif\" font-size=\"14.00\">pcv ≤ 1.5</text>\n",
       "<text text-anchor=\"start\" x=\"682\" y=\"-1227.8\" font-family=\"Helvetica,sans-Serif\" font-size=\"14.00\">entropy = 0.526</text>\n",
       "<text text-anchor=\"start\" x=\"684.5\" y=\"-1212.8\" font-family=\"Helvetica,sans-Serif\" font-size=\"14.00\">samples = 269</text>\n",
       "<text text-anchor=\"start\" x=\"679\" y=\"-1197.8\" font-family=\"Helvetica,sans-Serif\" font-size=\"14.00\">value = [32, 237]</text>\n",
       "<text text-anchor=\"start\" x=\"686\" y=\"-1182.8\" font-family=\"Helvetica,sans-Serif\" font-size=\"14.00\">class = notckd</text>\n",
       "</g>\n",
       "<!-- 0&#45;&gt;1 -->\n",
       "<g id=\"edge1\" class=\"edge\">\n",
       "<title>0&#45;&gt;1</title>\n",
       "<path fill=\"none\" stroke=\"black\" d=\"M773.25,-1293.91C768.27,-1285.2 762.94,-1275.9 757.79,-1266.89\"/>\n",
       "<polygon fill=\"black\" stroke=\"black\" points=\"760.71,-1264.96 752.7,-1258.02 754.64,-1268.44 760.71,-1264.96\"/>\n",
       "<text text-anchor=\"middle\" x=\"746.15\" y=\"-1278.45\" font-family=\"Helvetica,sans-Serif\" font-size=\"14.00\">True</text>\n",
       "</g>\n",
       "<!-- 30 -->\n",
       "<g id=\"node31\" class=\"node\">\n",
       "<title>30</title>\n",
       "<path fill=\"#e88f4f\" stroke=\"black\" d=\"M911,-1258C911,-1258 818,-1258 818,-1258 812,-1258 806,-1252 806,-1246 806,-1246 806,-1187 806,-1187 806,-1181 812,-1175 818,-1175 818,-1175 911,-1175 911,-1175 917,-1175 923,-1181 923,-1187 923,-1187 923,-1246 923,-1246 923,-1252 917,-1258 911,-1258\"/>\n",
       "<text text-anchor=\"start\" x=\"832.5\" y=\"-1242.8\" font-family=\"Helvetica,sans-Serif\" font-size=\"14.00\">sg ≤ 1.017</text>\n",
       "<text text-anchor=\"start\" x=\"817\" y=\"-1227.8\" font-family=\"Helvetica,sans-Serif\" font-size=\"14.00\">entropy = 0.467</text>\n",
       "<text text-anchor=\"start\" x=\"819.5\" y=\"-1212.8\" font-family=\"Helvetica,sans-Serif\" font-size=\"14.00\">samples = 131</text>\n",
       "<text text-anchor=\"start\" x=\"814\" y=\"-1197.8\" font-family=\"Helvetica,sans-Serif\" font-size=\"14.00\">value = [118, 13]</text>\n",
       "<text text-anchor=\"start\" x=\"830.5\" y=\"-1182.8\" font-family=\"Helvetica,sans-Serif\" font-size=\"14.00\">class = ckd</text>\n",
       "</g>\n",
       "<!-- 0&#45;&gt;30 -->\n",
       "<g id=\"edge30\" class=\"edge\">\n",
       "<title>0&#45;&gt;30</title>\n",
       "<path fill=\"none\" stroke=\"black\" d=\"M820.09,-1293.91C825.16,-1285.2 830.56,-1275.9 835.79,-1266.89\"/>\n",
       "<polygon fill=\"black\" stroke=\"black\" points=\"838.95,-1268.43 840.95,-1258.02 832.9,-1264.91 838.95,-1268.43\"/>\n",
       "<text text-anchor=\"middle\" x=\"847.35\" y=\"-1278.49\" font-family=\"Helvetica,sans-Serif\" font-size=\"14.00\">False</text>\n",
       "</g>\n",
       "<!-- 2 -->\n",
       "<g id=\"node3\" class=\"node\">\n",
       "<title>2</title>\n",
       "<path fill=\"#42a1e6\" stroke=\"black\" d=\"M646,-1139C646,-1139 553,-1139 553,-1139 547,-1139 541,-1133 541,-1127 541,-1127 541,-1068 541,-1068 541,-1062 547,-1056 553,-1056 553,-1056 646,-1056 646,-1056 652,-1056 658,-1062 658,-1068 658,-1068 658,-1127 658,-1127 658,-1133 652,-1139 646,-1139\"/>\n",
       "<text text-anchor=\"start\" x=\"567.5\" y=\"-1123.8\" font-family=\"Helvetica,sans-Serif\" font-size=\"14.00\">sg ≤ 1.017</text>\n",
       "<text text-anchor=\"start\" x=\"552\" y=\"-1108.8\" font-family=\"Helvetica,sans-Serif\" font-size=\"14.00\">entropy = 0.248</text>\n",
       "<text text-anchor=\"start\" x=\"554.5\" y=\"-1093.8\" font-family=\"Helvetica,sans-Serif\" font-size=\"14.00\">samples = 242</text>\n",
       "<text text-anchor=\"start\" x=\"549\" y=\"-1078.8\" font-family=\"Helvetica,sans-Serif\" font-size=\"14.00\">value = [10, 232]</text>\n",
       "<text text-anchor=\"start\" x=\"556\" y=\"-1063.8\" font-family=\"Helvetica,sans-Serif\" font-size=\"14.00\">class = notckd</text>\n",
       "</g>\n",
       "<!-- 1&#45;&gt;2 -->\n",
       "<g id=\"edge2\" class=\"edge\">\n",
       "<title>1&#45;&gt;2</title>\n",
       "<path fill=\"none\" stroke=\"black\" d=\"M684.4,-1174.91C674.01,-1165.56 662.88,-1155.54 652.2,-1145.93\"/>\n",
       "<polygon fill=\"black\" stroke=\"black\" points=\"654.3,-1143.11 644.52,-1139.02 649.61,-1148.31 654.3,-1143.11\"/>\n",
       "</g>\n",
       "<!-- 25 -->\n",
       "<g id=\"node26\" class=\"node\">\n",
       "<title>25</title>\n",
       "<path fill=\"#eb9e66\" stroke=\"black\" d=\"M775,-1139C775,-1139 688,-1139 688,-1139 682,-1139 676,-1133 676,-1127 676,-1127 676,-1068 676,-1068 676,-1062 682,-1056 688,-1056 688,-1056 775,-1056 775,-1056 781,-1056 787,-1062 787,-1068 787,-1068 787,-1127 787,-1127 787,-1133 781,-1139 775,-1139\"/>\n",
       "<text text-anchor=\"start\" x=\"707\" y=\"-1123.8\" font-family=\"Helvetica,sans-Serif\" font-size=\"14.00\">pc ≤ 0.5</text>\n",
       "<text text-anchor=\"start\" x=\"684\" y=\"-1108.8\" font-family=\"Helvetica,sans-Serif\" font-size=\"14.00\">entropy = 0.691</text>\n",
       "<text text-anchor=\"start\" x=\"690.5\" y=\"-1093.8\" font-family=\"Helvetica,sans-Serif\" font-size=\"14.00\">samples = 27</text>\n",
       "<text text-anchor=\"start\" x=\"688.5\" y=\"-1078.8\" font-family=\"Helvetica,sans-Serif\" font-size=\"14.00\">value = [22, 5]</text>\n",
       "<text text-anchor=\"start\" x=\"697.5\" y=\"-1063.8\" font-family=\"Helvetica,sans-Serif\" font-size=\"14.00\">class = ckd</text>\n",
       "</g>\n",
       "<!-- 1&#45;&gt;25 -->\n",
       "<g id=\"edge25\" class=\"edge\">\n",
       "<title>1&#45;&gt;25</title>\n",
       "<path fill=\"none\" stroke=\"black\" d=\"M730.19,-1174.91C730.34,-1166.56 730.49,-1157.67 730.64,-1149.02\"/>\n",
       "<polygon fill=\"black\" stroke=\"black\" points=\"734.14,-1149.08 730.81,-1139.02 727.14,-1148.96 734.14,-1149.08\"/>\n",
       "</g>\n",
       "<!-- 3 -->\n",
       "<g id=\"node4\" class=\"node\">\n",
       "<title>3</title>\n",
       "<path fill=\"#399de5\" stroke=\"black\" d=\"M514.5,-1012.5C514.5,-1012.5 428.5,-1012.5 428.5,-1012.5 422.5,-1012.5 416.5,-1006.5 416.5,-1000.5 416.5,-1000.5 416.5,-956.5 416.5,-956.5 416.5,-950.5 422.5,-944.5 428.5,-944.5 428.5,-944.5 514.5,-944.5 514.5,-944.5 520.5,-944.5 526.5,-950.5 526.5,-956.5 526.5,-956.5 526.5,-1000.5 526.5,-1000.5 526.5,-1006.5 520.5,-1012.5 514.5,-1012.5\"/>\n",
       "<text text-anchor=\"start\" x=\"431.5\" y=\"-997.3\" font-family=\"Helvetica,sans-Serif\" font-size=\"14.00\">entropy = 0.0</text>\n",
       "<text text-anchor=\"start\" x=\"426.5\" y=\"-982.3\" font-family=\"Helvetica,sans-Serif\" font-size=\"14.00\">samples = 152</text>\n",
       "<text text-anchor=\"start\" x=\"424.5\" y=\"-967.3\" font-family=\"Helvetica,sans-Serif\" font-size=\"14.00\">value = [0, 152]</text>\n",
       "<text text-anchor=\"start\" x=\"428\" y=\"-952.3\" font-family=\"Helvetica,sans-Serif\" font-size=\"14.00\">class = notckd</text>\n",
       "</g>\n",
       "<!-- 2&#45;&gt;3 -->\n",
       "<g id=\"edge3\" class=\"edge\">\n",
       "<title>2&#45;&gt;3</title>\n",
       "<path fill=\"none\" stroke=\"black\" d=\"M555.09,-1055.91C542.17,-1044.1 528.08,-1031.22 515.21,-1019.45\"/>\n",
       "<polygon fill=\"black\" stroke=\"black\" points=\"517.53,-1016.83 507.79,-1012.67 512.8,-1022 517.53,-1016.83\"/>\n",
       "</g>\n",
       "<!-- 4 -->\n",
       "<g id=\"node5\" class=\"node\">\n",
       "<title>4</title>\n",
       "<path fill=\"#52a9e8\" stroke=\"black\" d=\"M644,-1020C644,-1020 557,-1020 557,-1020 551,-1020 545,-1014 545,-1008 545,-1008 545,-949 545,-949 545,-943 551,-937 557,-937 557,-937 644,-937 644,-937 650,-937 656,-943 656,-949 656,-949 656,-1008 656,-1008 656,-1014 650,-1020 644,-1020\"/>\n",
       "<text text-anchor=\"start\" x=\"574\" y=\"-1004.8\" font-family=\"Helvetica,sans-Serif\" font-size=\"14.00\">htn ≤ 0.5</text>\n",
       "<text text-anchor=\"start\" x=\"553\" y=\"-989.8\" font-family=\"Helvetica,sans-Serif\" font-size=\"14.00\">entropy = 0.503</text>\n",
       "<text text-anchor=\"start\" x=\"559.5\" y=\"-974.8\" font-family=\"Helvetica,sans-Serif\" font-size=\"14.00\">samples = 90</text>\n",
       "<text text-anchor=\"start\" x=\"553.5\" y=\"-959.8\" font-family=\"Helvetica,sans-Serif\" font-size=\"14.00\">value = [10, 80]</text>\n",
       "<text text-anchor=\"start\" x=\"557\" y=\"-944.8\" font-family=\"Helvetica,sans-Serif\" font-size=\"14.00\">class = notckd</text>\n",
       "</g>\n",
       "<!-- 2&#45;&gt;4 -->\n",
       "<g id=\"edge4\" class=\"edge\">\n",
       "<title>2&#45;&gt;4</title>\n",
       "<path fill=\"none\" stroke=\"black\" d=\"M599.85,-1055.91C599.92,-1047.65 599.99,-1038.86 600.07,-1030.3\"/>\n",
       "<polygon fill=\"black\" stroke=\"black\" points=\"603.57,-1030.05 600.15,-1020.02 596.57,-1029.99 603.57,-1030.05\"/>\n",
       "</g>\n",
       "<!-- 5 -->\n",
       "<g id=\"node6\" class=\"node\">\n",
       "<title>5</title>\n",
       "<path fill=\"#85c3ef\" stroke=\"black\" d=\"M521,-901C521,-901 434,-901 434,-901 428,-901 422,-895 422,-889 422,-889 422,-830 422,-830 422,-824 428,-818 434,-818 434,-818 521,-818 521,-818 527,-818 533,-824 533,-830 533,-830 533,-889 533,-889 533,-895 527,-901 521,-901\"/>\n",
       "<text text-anchor=\"start\" x=\"447.5\" y=\"-885.8\" font-family=\"Helvetica,sans-Serif\" font-size=\"14.00\">rbcc ≤ 1.0</text>\n",
       "<text text-anchor=\"start\" x=\"430\" y=\"-870.8\" font-family=\"Helvetica,sans-Serif\" font-size=\"14.00\">entropy = 0.852</text>\n",
       "<text text-anchor=\"start\" x=\"436.5\" y=\"-855.8\" font-family=\"Helvetica,sans-Serif\" font-size=\"14.00\">samples = 36</text>\n",
       "<text text-anchor=\"start\" x=\"430.5\" y=\"-840.8\" font-family=\"Helvetica,sans-Serif\" font-size=\"14.00\">value = [10, 26]</text>\n",
       "<text text-anchor=\"start\" x=\"434\" y=\"-825.8\" font-family=\"Helvetica,sans-Serif\" font-size=\"14.00\">class = notckd</text>\n",
       "</g>\n",
       "<!-- 4&#45;&gt;5 -->\n",
       "<g id=\"edge5\" class=\"edge\">\n",
       "<title>4&#45;&gt;5</title>\n",
       "<path fill=\"none\" stroke=\"black\" d=\"M557.83,-936.91C548,-927.56 537.46,-917.54 527.36,-907.93\"/>\n",
       "<polygon fill=\"black\" stroke=\"black\" points=\"529.76,-905.38 520.1,-901.02 524.93,-910.45 529.76,-905.38\"/>\n",
       "</g>\n",
       "<!-- 24 -->\n",
       "<g id=\"node25\" class=\"node\">\n",
       "<title>24</title>\n",
       "<path fill=\"#399de5\" stroke=\"black\" d=\"M642,-893.5C642,-893.5 563,-893.5 563,-893.5 557,-893.5 551,-887.5 551,-881.5 551,-881.5 551,-837.5 551,-837.5 551,-831.5 557,-825.5 563,-825.5 563,-825.5 642,-825.5 642,-825.5 648,-825.5 654,-831.5 654,-837.5 654,-837.5 654,-881.5 654,-881.5 654,-887.5 648,-893.5 642,-893.5\"/>\n",
       "<text text-anchor=\"start\" x=\"562.5\" y=\"-878.3\" font-family=\"Helvetica,sans-Serif\" font-size=\"14.00\">entropy = 0.0</text>\n",
       "<text text-anchor=\"start\" x=\"561.5\" y=\"-863.3\" font-family=\"Helvetica,sans-Serif\" font-size=\"14.00\">samples = 54</text>\n",
       "<text text-anchor=\"start\" x=\"559.5\" y=\"-848.3\" font-family=\"Helvetica,sans-Serif\" font-size=\"14.00\">value = [0, 54]</text>\n",
       "<text text-anchor=\"start\" x=\"559\" y=\"-833.3\" font-family=\"Helvetica,sans-Serif\" font-size=\"14.00\">class = notckd</text>\n",
       "</g>\n",
       "<!-- 4&#45;&gt;24 -->\n",
       "<g id=\"edge24\" class=\"edge\">\n",
       "<title>4&#45;&gt;24</title>\n",
       "<path fill=\"none\" stroke=\"black\" d=\"M601.19,-936.91C601.38,-926.2 601.57,-914.62 601.76,-903.78\"/>\n",
       "<polygon fill=\"black\" stroke=\"black\" points=\"605.26,-903.73 601.93,-893.67 598.26,-903.61 605.26,-903.73\"/>\n",
       "</g>\n",
       "<!-- 6 -->\n",
       "<g id=\"node7\" class=\"node\">\n",
       "<title>6</title>\n",
       "<path fill=\"#67b4eb\" stroke=\"black\" d=\"M460,-782C460,-782 373,-782 373,-782 367,-782 361,-776 361,-770 361,-770 361,-711 361,-711 361,-705 367,-699 373,-699 373,-699 460,-699 460,-699 466,-699 472,-705 472,-711 472,-711 472,-770 472,-770 472,-776 466,-782 460,-782\"/>\n",
       "<text text-anchor=\"start\" x=\"388.5\" y=\"-766.8\" font-family=\"Helvetica,sans-Serif\" font-size=\"14.00\">sod ≤ 5.5</text>\n",
       "<text text-anchor=\"start\" x=\"369\" y=\"-751.8\" font-family=\"Helvetica,sans-Serif\" font-size=\"14.00\">entropy = 0.696</text>\n",
       "<text text-anchor=\"start\" x=\"375.5\" y=\"-736.8\" font-family=\"Helvetica,sans-Serif\" font-size=\"14.00\">samples = 32</text>\n",
       "<text text-anchor=\"start\" x=\"373.5\" y=\"-721.8\" font-family=\"Helvetica,sans-Serif\" font-size=\"14.00\">value = [6, 26]</text>\n",
       "<text text-anchor=\"start\" x=\"373\" y=\"-706.8\" font-family=\"Helvetica,sans-Serif\" font-size=\"14.00\">class = notckd</text>\n",
       "</g>\n",
       "<!-- 5&#45;&gt;6 -->\n",
       "<g id=\"edge6\" class=\"edge\">\n",
       "<title>5&#45;&gt;6</title>\n",
       "<path fill=\"none\" stroke=\"black\" d=\"M456.34,-817.91C451.79,-809.2 446.95,-799.9 442.25,-790.89\"/>\n",
       "<polygon fill=\"black\" stroke=\"black\" points=\"445.35,-789.27 437.63,-782.02 439.15,-792.51 445.35,-789.27\"/>\n",
       "</g>\n",
       "<!-- 23 -->\n",
       "<g id=\"node24\" class=\"node\">\n",
       "<title>23</title>\n",
       "<path fill=\"#e58139\" stroke=\"black\" d=\"M574.5,-774.5C574.5,-774.5 502.5,-774.5 502.5,-774.5 496.5,-774.5 490.5,-768.5 490.5,-762.5 490.5,-762.5 490.5,-718.5 490.5,-718.5 490.5,-712.5 496.5,-706.5 502.5,-706.5 502.5,-706.5 574.5,-706.5 574.5,-706.5 580.5,-706.5 586.5,-712.5 586.5,-718.5 586.5,-718.5 586.5,-762.5 586.5,-762.5 586.5,-768.5 580.5,-774.5 574.5,-774.5\"/>\n",
       "<text text-anchor=\"start\" x=\"498.5\" y=\"-759.3\" font-family=\"Helvetica,sans-Serif\" font-size=\"14.00\">entropy = 0.0</text>\n",
       "<text text-anchor=\"start\" x=\"501\" y=\"-744.3\" font-family=\"Helvetica,sans-Serif\" font-size=\"14.00\">samples = 4</text>\n",
       "<text text-anchor=\"start\" x=\"499\" y=\"-729.3\" font-family=\"Helvetica,sans-Serif\" font-size=\"14.00\">value = [4, 0]</text>\n",
       "<text text-anchor=\"start\" x=\"504.5\" y=\"-714.3\" font-family=\"Helvetica,sans-Serif\" font-size=\"14.00\">class = ckd</text>\n",
       "</g>\n",
       "<!-- 5&#45;&gt;23 -->\n",
       "<g id=\"edge23\" class=\"edge\">\n",
       "<title>5&#45;&gt;23</title>\n",
       "<path fill=\"none\" stroke=\"black\" d=\"M498.66,-817.91C504.42,-806.87 510.66,-794.9 516.46,-783.77\"/>\n",
       "<polygon fill=\"black\" stroke=\"black\" points=\"519.69,-785.15 521.21,-774.67 513.48,-781.92 519.69,-785.15\"/>\n",
       "</g>\n",
       "<!-- 7 -->\n",
       "<g id=\"node8\" class=\"node\">\n",
       "<title>7</title>\n",
       "<path fill=\"#57ace9\" stroke=\"black\" d=\"M399,-663C399,-663 312,-663 312,-663 306,-663 300,-657 300,-651 300,-651 300,-592 300,-592 300,-586 306,-580 312,-580 312,-580 399,-580 399,-580 405,-580 411,-586 411,-592 411,-592 411,-651 411,-651 411,-657 405,-663 399,-663\"/>\n",
       "<text text-anchor=\"start\" x=\"333\" y=\"-647.8\" font-family=\"Helvetica,sans-Serif\" font-size=\"14.00\">al ≤ 0.5</text>\n",
       "<text text-anchor=\"start\" x=\"308\" y=\"-632.8\" font-family=\"Helvetica,sans-Serif\" font-size=\"14.00\">entropy = 0.567</text>\n",
       "<text text-anchor=\"start\" x=\"314.5\" y=\"-617.8\" font-family=\"Helvetica,sans-Serif\" font-size=\"14.00\">samples = 30</text>\n",
       "<text text-anchor=\"start\" x=\"312.5\" y=\"-602.8\" font-family=\"Helvetica,sans-Serif\" font-size=\"14.00\">value = [4, 26]</text>\n",
       "<text text-anchor=\"start\" x=\"312\" y=\"-587.8\" font-family=\"Helvetica,sans-Serif\" font-size=\"14.00\">class = notckd</text>\n",
       "</g>\n",
       "<!-- 6&#45;&gt;7 -->\n",
       "<g id=\"edge7\" class=\"edge\">\n",
       "<title>6&#45;&gt;7</title>\n",
       "<path fill=\"none\" stroke=\"black\" d=\"M395.34,-698.91C390.79,-690.2 385.95,-680.9 381.25,-671.89\"/>\n",
       "<polygon fill=\"black\" stroke=\"black\" points=\"384.35,-670.27 376.63,-663.02 378.15,-673.51 384.35,-670.27\"/>\n",
       "</g>\n",
       "<!-- 22 -->\n",
       "<g id=\"node23\" class=\"node\">\n",
       "<title>22</title>\n",
       "<path fill=\"#e58139\" stroke=\"black\" d=\"M513.5,-655.5C513.5,-655.5 441.5,-655.5 441.5,-655.5 435.5,-655.5 429.5,-649.5 429.5,-643.5 429.5,-643.5 429.5,-599.5 429.5,-599.5 429.5,-593.5 435.5,-587.5 441.5,-587.5 441.5,-587.5 513.5,-587.5 513.5,-587.5 519.5,-587.5 525.5,-593.5 525.5,-599.5 525.5,-599.5 525.5,-643.5 525.5,-643.5 525.5,-649.5 519.5,-655.5 513.5,-655.5\"/>\n",
       "<text text-anchor=\"start\" x=\"437.5\" y=\"-640.3\" font-family=\"Helvetica,sans-Serif\" font-size=\"14.00\">entropy = 0.0</text>\n",
       "<text text-anchor=\"start\" x=\"440\" y=\"-625.3\" font-family=\"Helvetica,sans-Serif\" font-size=\"14.00\">samples = 2</text>\n",
       "<text text-anchor=\"start\" x=\"438\" y=\"-610.3\" font-family=\"Helvetica,sans-Serif\" font-size=\"14.00\">value = [2, 0]</text>\n",
       "<text text-anchor=\"start\" x=\"443.5\" y=\"-595.3\" font-family=\"Helvetica,sans-Serif\" font-size=\"14.00\">class = ckd</text>\n",
       "</g>\n",
       "<!-- 6&#45;&gt;22 -->\n",
       "<g id=\"edge22\" class=\"edge\">\n",
       "<title>6&#45;&gt;22</title>\n",
       "<path fill=\"none\" stroke=\"black\" d=\"M437.66,-698.91C443.42,-687.87 449.66,-675.9 455.46,-664.77\"/>\n",
       "<polygon fill=\"black\" stroke=\"black\" points=\"458.69,-666.15 460.21,-655.67 452.48,-662.92 458.69,-666.15\"/>\n",
       "</g>\n",
       "<!-- 8 -->\n",
       "<g id=\"node9\" class=\"node\">\n",
       "<title>8</title>\n",
       "<path fill=\"#6eb7ec\" stroke=\"black\" d=\"M337,-544C337,-544 250,-544 250,-544 244,-544 238,-538 238,-532 238,-532 238,-473 238,-473 238,-467 244,-461 250,-461 250,-461 337,-461 337,-461 343,-461 349,-467 349,-473 349,-473 349,-532 349,-532 349,-538 343,-544 337,-544\"/>\n",
       "<text text-anchor=\"start\" x=\"265\" y=\"-528.8\" font-family=\"Helvetica,sans-Serif\" font-size=\"14.00\">age ≤ 0.5</text>\n",
       "<text text-anchor=\"start\" x=\"246\" y=\"-513.8\" font-family=\"Helvetica,sans-Serif\" font-size=\"14.00\">entropy = 0.742</text>\n",
       "<text text-anchor=\"start\" x=\"252.5\" y=\"-498.8\" font-family=\"Helvetica,sans-Serif\" font-size=\"14.00\">samples = 19</text>\n",
       "<text text-anchor=\"start\" x=\"250.5\" y=\"-483.8\" font-family=\"Helvetica,sans-Serif\" font-size=\"14.00\">value = [4, 15]</text>\n",
       "<text text-anchor=\"start\" x=\"250\" y=\"-468.8\" font-family=\"Helvetica,sans-Serif\" font-size=\"14.00\">class = notckd</text>\n",
       "</g>\n",
       "<!-- 7&#45;&gt;8 -->\n",
       "<g id=\"edge8\" class=\"edge\">\n",
       "<title>7&#45;&gt;8</title>\n",
       "<path fill=\"none\" stroke=\"black\" d=\"M333.99,-579.91C329.37,-571.2 324.45,-561.9 319.67,-552.89\"/>\n",
       "<polygon fill=\"black\" stroke=\"black\" points=\"322.75,-551.22 314.97,-544.02 316.56,-554.5 322.75,-551.22\"/>\n",
       "</g>\n",
       "<!-- 21 -->\n",
       "<g id=\"node22\" class=\"node\">\n",
       "<title>21</title>\n",
       "<path fill=\"#399de5\" stroke=\"black\" d=\"M458,-536.5C458,-536.5 379,-536.5 379,-536.5 373,-536.5 367,-530.5 367,-524.5 367,-524.5 367,-480.5 367,-480.5 367,-474.5 373,-468.5 379,-468.5 379,-468.5 458,-468.5 458,-468.5 464,-468.5 470,-474.5 470,-480.5 470,-480.5 470,-524.5 470,-524.5 470,-530.5 464,-536.5 458,-536.5\"/>\n",
       "<text text-anchor=\"start\" x=\"378.5\" y=\"-521.3\" font-family=\"Helvetica,sans-Serif\" font-size=\"14.00\">entropy = 0.0</text>\n",
       "<text text-anchor=\"start\" x=\"377.5\" y=\"-506.3\" font-family=\"Helvetica,sans-Serif\" font-size=\"14.00\">samples = 11</text>\n",
       "<text text-anchor=\"start\" x=\"375.5\" y=\"-491.3\" font-family=\"Helvetica,sans-Serif\" font-size=\"14.00\">value = [0, 11]</text>\n",
       "<text text-anchor=\"start\" x=\"375\" y=\"-476.3\" font-family=\"Helvetica,sans-Serif\" font-size=\"14.00\">class = notckd</text>\n",
       "</g>\n",
       "<!-- 7&#45;&gt;21 -->\n",
       "<g id=\"edge21\" class=\"edge\">\n",
       "<title>7&#45;&gt;21</title>\n",
       "<path fill=\"none\" stroke=\"black\" d=\"M377.36,-579.91C383.3,-568.87 389.75,-556.9 395.74,-545.77\"/>\n",
       "<polygon fill=\"black\" stroke=\"black\" points=\"398.98,-547.13 400.64,-536.67 392.82,-543.81 398.98,-547.13\"/>\n",
       "</g>\n",
       "<!-- 9 -->\n",
       "<g id=\"node10\" class=\"node\">\n",
       "<title>9</title>\n",
       "<path fill=\"#91c9f1\" stroke=\"black\" d=\"M272.5,-425C272.5,-425 192.5,-425 192.5,-425 186.5,-425 180.5,-419 180.5,-413 180.5,-413 180.5,-354 180.5,-354 180.5,-348 186.5,-342 192.5,-342 192.5,-342 272.5,-342 272.5,-342 278.5,-342 284.5,-348 284.5,-354 284.5,-354 284.5,-413 284.5,-413 284.5,-419 278.5,-425 272.5,-425\"/>\n",
       "<text text-anchor=\"start\" x=\"208\" y=\"-409.8\" font-family=\"Helvetica,sans-Serif\" font-size=\"14.00\">bp ≤ 0.5</text>\n",
       "<text text-anchor=\"start\" x=\"188.5\" y=\"-394.8\" font-family=\"Helvetica,sans-Serif\" font-size=\"14.00\">entropy = 0.89</text>\n",
       "<text text-anchor=\"start\" x=\"191.5\" y=\"-379.8\" font-family=\"Helvetica,sans-Serif\" font-size=\"14.00\">samples = 13</text>\n",
       "<text text-anchor=\"start\" x=\"193\" y=\"-364.8\" font-family=\"Helvetica,sans-Serif\" font-size=\"14.00\">value = [4, 9]</text>\n",
       "<text text-anchor=\"start\" x=\"189\" y=\"-349.8\" font-family=\"Helvetica,sans-Serif\" font-size=\"14.00\">class = notckd</text>\n",
       "</g>\n",
       "<!-- 8&#45;&gt;9 -->\n",
       "<g id=\"edge9\" class=\"edge\">\n",
       "<title>8&#45;&gt;9</title>\n",
       "<path fill=\"none\" stroke=\"black\" d=\"M272.34,-460.91C267.79,-452.2 262.95,-442.9 258.25,-433.89\"/>\n",
       "<polygon fill=\"black\" stroke=\"black\" points=\"261.35,-432.27 253.63,-425.02 255.15,-435.51 261.35,-432.27\"/>\n",
       "</g>\n",
       "<!-- 20 -->\n",
       "<g id=\"node21\" class=\"node\">\n",
       "<title>20</title>\n",
       "<path fill=\"#399de5\" stroke=\"black\" d=\"M394,-417.5C394,-417.5 315,-417.5 315,-417.5 309,-417.5 303,-411.5 303,-405.5 303,-405.5 303,-361.5 303,-361.5 303,-355.5 309,-349.5 315,-349.5 315,-349.5 394,-349.5 394,-349.5 400,-349.5 406,-355.5 406,-361.5 406,-361.5 406,-405.5 406,-405.5 406,-411.5 400,-417.5 394,-417.5\"/>\n",
       "<text text-anchor=\"start\" x=\"314.5\" y=\"-402.3\" font-family=\"Helvetica,sans-Serif\" font-size=\"14.00\">entropy = 0.0</text>\n",
       "<text text-anchor=\"start\" x=\"317\" y=\"-387.3\" font-family=\"Helvetica,sans-Serif\" font-size=\"14.00\">samples = 6</text>\n",
       "<text text-anchor=\"start\" x=\"315\" y=\"-372.3\" font-family=\"Helvetica,sans-Serif\" font-size=\"14.00\">value = [0, 6]</text>\n",
       "<text text-anchor=\"start\" x=\"311\" y=\"-357.3\" font-family=\"Helvetica,sans-Serif\" font-size=\"14.00\">class = notckd</text>\n",
       "</g>\n",
       "<!-- 8&#45;&gt;20 -->\n",
       "<g id=\"edge20\" class=\"edge\">\n",
       "<title>8&#45;&gt;20</title>\n",
       "<path fill=\"none\" stroke=\"black\" d=\"M314.66,-460.91C320.42,-449.87 326.66,-437.9 332.46,-426.77\"/>\n",
       "<polygon fill=\"black\" stroke=\"black\" points=\"335.69,-428.15 337.21,-417.67 329.48,-424.92 335.69,-428.15\"/>\n",
       "</g>\n",
       "<!-- 10 -->\n",
       "<g id=\"node11\" class=\"node\">\n",
       "<title>10</title>\n",
       "<path fill=\"#52a9e8\" stroke=\"black\" d=\"M212,-306C212,-306 125,-306 125,-306 119,-306 113,-300 113,-294 113,-294 113,-235 113,-235 113,-229 119,-223 125,-223 125,-223 212,-223 212,-223 218,-223 224,-229 224,-235 224,-235 224,-294 224,-294 224,-300 218,-306 212,-306\"/>\n",
       "<text text-anchor=\"start\" x=\"140.5\" y=\"-290.8\" font-family=\"Helvetica,sans-Serif\" font-size=\"14.00\">sod ≤ 1.5</text>\n",
       "<text text-anchor=\"start\" x=\"121\" y=\"-275.8\" font-family=\"Helvetica,sans-Serif\" font-size=\"14.00\">entropy = 0.503</text>\n",
       "<text text-anchor=\"start\" x=\"131\" y=\"-260.8\" font-family=\"Helvetica,sans-Serif\" font-size=\"14.00\">samples = 9</text>\n",
       "<text text-anchor=\"start\" x=\"129\" y=\"-245.8\" font-family=\"Helvetica,sans-Serif\" font-size=\"14.00\">value = [1, 8]</text>\n",
       "<text text-anchor=\"start\" x=\"125\" y=\"-230.8\" font-family=\"Helvetica,sans-Serif\" font-size=\"14.00\">class = notckd</text>\n",
       "</g>\n",
       "<!-- 9&#45;&gt;10 -->\n",
       "<g id=\"edge10\" class=\"edge\">\n",
       "<title>9&#45;&gt;10</title>\n",
       "<path fill=\"none\" stroke=\"black\" d=\"M210.3,-341.91C205.53,-333.2 200.44,-323.9 195.52,-314.89\"/>\n",
       "<polygon fill=\"black\" stroke=\"black\" points=\"198.53,-313.11 190.67,-306.02 192.39,-316.47 198.53,-313.11\"/>\n",
       "</g>\n",
       "<!-- 15 -->\n",
       "<g id=\"node16\" class=\"node\">\n",
       "<title>15</title>\n",
       "<path fill=\"#eeab7b\" stroke=\"black\" d=\"M341,-306C341,-306 254,-306 254,-306 248,-306 242,-300 242,-294 242,-294 242,-235 242,-235 242,-229 248,-223 254,-223 254,-223 341,-223 341,-223 347,-223 353,-229 353,-235 353,-235 353,-294 353,-294 353,-300 347,-306 341,-306\"/>\n",
       "<text text-anchor=\"start\" x=\"269.5\" y=\"-290.8\" font-family=\"Helvetica,sans-Serif\" font-size=\"14.00\">sod ≤ 4.5</text>\n",
       "<text text-anchor=\"start\" x=\"250\" y=\"-275.8\" font-family=\"Helvetica,sans-Serif\" font-size=\"14.00\">entropy = 0.811</text>\n",
       "<text text-anchor=\"start\" x=\"260\" y=\"-260.8\" font-family=\"Helvetica,sans-Serif\" font-size=\"14.00\">samples = 4</text>\n",
       "<text text-anchor=\"start\" x=\"258\" y=\"-245.8\" font-family=\"Helvetica,sans-Serif\" font-size=\"14.00\">value = [3, 1]</text>\n",
       "<text text-anchor=\"start\" x=\"263.5\" y=\"-230.8\" font-family=\"Helvetica,sans-Serif\" font-size=\"14.00\">class = ckd</text>\n",
       "</g>\n",
       "<!-- 9&#45;&gt;15 -->\n",
       "<g id=\"edge15\" class=\"edge\">\n",
       "<title>9&#45;&gt;15</title>\n",
       "<path fill=\"none\" stroke=\"black\" d=\"M255.05,-341.91C259.89,-333.2 265.06,-323.9 270.06,-314.89\"/>\n",
       "<polygon fill=\"black\" stroke=\"black\" points=\"273.19,-316.46 274.99,-306.02 267.07,-313.06 273.19,-316.46\"/>\n",
       "</g>\n",
       "<!-- 11 -->\n",
       "<g id=\"node12\" class=\"node\">\n",
       "<title>11</title>\n",
       "<path fill=\"#ffffff\" stroke=\"black\" d=\"M89.5,-187C89.5,-187 17.5,-187 17.5,-187 11.5,-187 5.5,-181 5.5,-175 5.5,-175 5.5,-116 5.5,-116 5.5,-110 11.5,-104 17.5,-104 17.5,-104 89.5,-104 89.5,-104 95.5,-104 101.5,-110 101.5,-116 101.5,-116 101.5,-175 101.5,-175 101.5,-181 95.5,-187 89.5,-187\"/>\n",
       "<text text-anchor=\"start\" x=\"26.5\" y=\"-171.8\" font-family=\"Helvetica,sans-Serif\" font-size=\"14.00\">bgr ≤ 0.5</text>\n",
       "<text text-anchor=\"start\" x=\"13.5\" y=\"-156.8\" font-family=\"Helvetica,sans-Serif\" font-size=\"14.00\">entropy = 1.0</text>\n",
       "<text text-anchor=\"start\" x=\"16\" y=\"-141.8\" font-family=\"Helvetica,sans-Serif\" font-size=\"14.00\">samples = 2</text>\n",
       "<text text-anchor=\"start\" x=\"14\" y=\"-126.8\" font-family=\"Helvetica,sans-Serif\" font-size=\"14.00\">value = [1, 1]</text>\n",
       "<text text-anchor=\"start\" x=\"19.5\" y=\"-111.8\" font-family=\"Helvetica,sans-Serif\" font-size=\"14.00\">class = ckd</text>\n",
       "</g>\n",
       "<!-- 10&#45;&gt;11 -->\n",
       "<g id=\"edge11\" class=\"edge\">\n",
       "<title>10&#45;&gt;11</title>\n",
       "<path fill=\"none\" stroke=\"black\" d=\"M128.6,-222.91C119.5,-213.65 109.75,-203.73 100.39,-194.21\"/>\n",
       "<polygon fill=\"black\" stroke=\"black\" points=\"102.83,-191.7 93.33,-187.02 97.84,-196.61 102.83,-191.7\"/>\n",
       "</g>\n",
       "<!-- 14 -->\n",
       "<g id=\"node15\" class=\"node\">\n",
       "<title>14</title>\n",
       "<path fill=\"#399de5\" stroke=\"black\" d=\"M211,-179.5C211,-179.5 132,-179.5 132,-179.5 126,-179.5 120,-173.5 120,-167.5 120,-167.5 120,-123.5 120,-123.5 120,-117.5 126,-111.5 132,-111.5 132,-111.5 211,-111.5 211,-111.5 217,-111.5 223,-117.5 223,-123.5 223,-123.5 223,-167.5 223,-167.5 223,-173.5 217,-179.5 211,-179.5\"/>\n",
       "<text text-anchor=\"start\" x=\"131.5\" y=\"-164.3\" font-family=\"Helvetica,sans-Serif\" font-size=\"14.00\">entropy = 0.0</text>\n",
       "<text text-anchor=\"start\" x=\"134\" y=\"-149.3\" font-family=\"Helvetica,sans-Serif\" font-size=\"14.00\">samples = 7</text>\n",
       "<text text-anchor=\"start\" x=\"132\" y=\"-134.3\" font-family=\"Helvetica,sans-Serif\" font-size=\"14.00\">value = [0, 7]</text>\n",
       "<text text-anchor=\"start\" x=\"128\" y=\"-119.3\" font-family=\"Helvetica,sans-Serif\" font-size=\"14.00\">class = notckd</text>\n",
       "</g>\n",
       "<!-- 10&#45;&gt;14 -->\n",
       "<g id=\"edge14\" class=\"edge\">\n",
       "<title>10&#45;&gt;14</title>\n",
       "<path fill=\"none\" stroke=\"black\" d=\"M169.54,-222.91C169.82,-212.2 170.11,-200.62 170.39,-189.78\"/>\n",
       "<polygon fill=\"black\" stroke=\"black\" points=\"173.89,-189.75 170.65,-179.67 166.89,-189.57 173.89,-189.75\"/>\n",
       "</g>\n",
       "<!-- 12 -->\n",
       "<g id=\"node13\" class=\"node\">\n",
       "<title>12</title>\n",
       "<path fill=\"#399de5\" stroke=\"black\" d=\"M91,-68C91,-68 12,-68 12,-68 6,-68 0,-62 0,-56 0,-56 0,-12 0,-12 0,-6 6,0 12,0 12,0 91,0 91,0 97,0 103,-6 103,-12 103,-12 103,-56 103,-56 103,-62 97,-68 91,-68\"/>\n",
       "<text text-anchor=\"start\" x=\"11.5\" y=\"-52.8\" font-family=\"Helvetica,sans-Serif\" font-size=\"14.00\">entropy = 0.0</text>\n",
       "<text text-anchor=\"start\" x=\"14\" y=\"-37.8\" font-family=\"Helvetica,sans-Serif\" font-size=\"14.00\">samples = 1</text>\n",
       "<text text-anchor=\"start\" x=\"12\" y=\"-22.8\" font-family=\"Helvetica,sans-Serif\" font-size=\"14.00\">value = [0, 1]</text>\n",
       "<text text-anchor=\"start\" x=\"8\" y=\"-7.8\" font-family=\"Helvetica,sans-Serif\" font-size=\"14.00\">class = notckd</text>\n",
       "</g>\n",
       "<!-- 11&#45;&gt;12 -->\n",
       "<g id=\"edge12\" class=\"edge\">\n",
       "<title>11&#45;&gt;12</title>\n",
       "<path fill=\"none\" stroke=\"black\" d=\"M52.76,-103.73C52.61,-95.52 52.45,-86.86 52.3,-78.56\"/>\n",
       "<polygon fill=\"black\" stroke=\"black\" points=\"55.79,-78.23 52.11,-68.3 48.79,-78.36 55.79,-78.23\"/>\n",
       "</g>\n",
       "<!-- 13 -->\n",
       "<g id=\"node14\" class=\"node\">\n",
       "<title>13</title>\n",
       "<path fill=\"#e58139\" stroke=\"black\" d=\"M205.5,-68C205.5,-68 133.5,-68 133.5,-68 127.5,-68 121.5,-62 121.5,-56 121.5,-56 121.5,-12 121.5,-12 121.5,-6 127.5,0 133.5,0 133.5,0 205.5,0 205.5,0 211.5,0 217.5,-6 217.5,-12 217.5,-12 217.5,-56 217.5,-56 217.5,-62 211.5,-68 205.5,-68\"/>\n",
       "<text text-anchor=\"start\" x=\"129.5\" y=\"-52.8\" font-family=\"Helvetica,sans-Serif\" font-size=\"14.00\">entropy = 0.0</text>\n",
       "<text text-anchor=\"start\" x=\"132\" y=\"-37.8\" font-family=\"Helvetica,sans-Serif\" font-size=\"14.00\">samples = 1</text>\n",
       "<text text-anchor=\"start\" x=\"130\" y=\"-22.8\" font-family=\"Helvetica,sans-Serif\" font-size=\"14.00\">value = [1, 0]</text>\n",
       "<text text-anchor=\"start\" x=\"135.5\" y=\"-7.8\" font-family=\"Helvetica,sans-Serif\" font-size=\"14.00\">class = ckd</text>\n",
       "</g>\n",
       "<!-- 11&#45;&gt;13 -->\n",
       "<g id=\"edge13\" class=\"edge\">\n",
       "<title>11&#45;&gt;13</title>\n",
       "<path fill=\"none\" stroke=\"black\" d=\"M96.69,-103.73C106.55,-94.42 117.02,-84.54 126.85,-75.26\"/>\n",
       "<polygon fill=\"black\" stroke=\"black\" points=\"129.35,-77.71 134.22,-68.3 124.55,-72.62 129.35,-77.71\"/>\n",
       "</g>\n",
       "<!-- 16 -->\n",
       "<g id=\"node17\" class=\"node\">\n",
       "<title>16</title>\n",
       "<path fill=\"#e58139\" stroke=\"black\" d=\"M330.5,-179.5C330.5,-179.5 258.5,-179.5 258.5,-179.5 252.5,-179.5 246.5,-173.5 246.5,-167.5 246.5,-167.5 246.5,-123.5 246.5,-123.5 246.5,-117.5 252.5,-111.5 258.5,-111.5 258.5,-111.5 330.5,-111.5 330.5,-111.5 336.5,-111.5 342.5,-117.5 342.5,-123.5 342.5,-123.5 342.5,-167.5 342.5,-167.5 342.5,-173.5 336.5,-179.5 330.5,-179.5\"/>\n",
       "<text text-anchor=\"start\" x=\"254.5\" y=\"-164.3\" font-family=\"Helvetica,sans-Serif\" font-size=\"14.00\">entropy = 0.0</text>\n",
       "<text text-anchor=\"start\" x=\"257\" y=\"-149.3\" font-family=\"Helvetica,sans-Serif\" font-size=\"14.00\">samples = 2</text>\n",
       "<text text-anchor=\"start\" x=\"255\" y=\"-134.3\" font-family=\"Helvetica,sans-Serif\" font-size=\"14.00\">value = [2, 0]</text>\n",
       "<text text-anchor=\"start\" x=\"260.5\" y=\"-119.3\" font-family=\"Helvetica,sans-Serif\" font-size=\"14.00\">class = ckd</text>\n",
       "</g>\n",
       "<!-- 15&#45;&gt;16 -->\n",
       "<g id=\"edge16\" class=\"edge\">\n",
       "<title>15&#45;&gt;16</title>\n",
       "<path fill=\"none\" stroke=\"black\" d=\"M296.46,-222.91C296.18,-212.2 295.89,-200.62 295.61,-189.78\"/>\n",
       "<polygon fill=\"black\" stroke=\"black\" points=\"299.11,-189.57 295.35,-179.67 292.11,-189.75 299.11,-189.57\"/>\n",
       "</g>\n",
       "<!-- 17 -->\n",
       "<g id=\"node18\" class=\"node\">\n",
       "<title>17</title>\n",
       "<path fill=\"#ffffff\" stroke=\"black\" d=\"M444.5,-187C444.5,-187 372.5,-187 372.5,-187 366.5,-187 360.5,-181 360.5,-175 360.5,-175 360.5,-116 360.5,-116 360.5,-110 366.5,-104 372.5,-104 372.5,-104 444.5,-104 444.5,-104 450.5,-104 456.5,-110 456.5,-116 456.5,-116 456.5,-175 456.5,-175 456.5,-181 450.5,-187 444.5,-187\"/>\n",
       "<text text-anchor=\"start\" x=\"376\" y=\"-171.8\" font-family=\"Helvetica,sans-Serif\" font-size=\"14.00\">wbcc ≤ 0.5</text>\n",
       "<text text-anchor=\"start\" x=\"368.5\" y=\"-156.8\" font-family=\"Helvetica,sans-Serif\" font-size=\"14.00\">entropy = 1.0</text>\n",
       "<text text-anchor=\"start\" x=\"371\" y=\"-141.8\" font-family=\"Helvetica,sans-Serif\" font-size=\"14.00\">samples = 2</text>\n",
       "<text text-anchor=\"start\" x=\"369\" y=\"-126.8\" font-family=\"Helvetica,sans-Serif\" font-size=\"14.00\">value = [1, 1]</text>\n",
       "<text text-anchor=\"start\" x=\"374.5\" y=\"-111.8\" font-family=\"Helvetica,sans-Serif\" font-size=\"14.00\">class = ckd</text>\n",
       "</g>\n",
       "<!-- 15&#45;&gt;17 -->\n",
       "<g id=\"edge17\" class=\"edge\">\n",
       "<title>15&#45;&gt;17</title>\n",
       "<path fill=\"none\" stroke=\"black\" d=\"M336.01,-222.91C344.71,-213.74 354.02,-203.93 362.97,-194.49\"/>\n",
       "<polygon fill=\"black\" stroke=\"black\" points=\"365.71,-196.68 370.06,-187.02 360.64,-191.87 365.71,-196.68\"/>\n",
       "</g>\n",
       "<!-- 18 -->\n",
       "<g id=\"node19\" class=\"node\">\n",
       "<title>18</title>\n",
       "<path fill=\"#399de5\" stroke=\"black\" d=\"M385,-68C385,-68 306,-68 306,-68 300,-68 294,-62 294,-56 294,-56 294,-12 294,-12 294,-6 300,0 306,0 306,0 385,0 385,0 391,0 397,-6 397,-12 397,-12 397,-56 397,-56 397,-62 391,-68 385,-68\"/>\n",
       "<text text-anchor=\"start\" x=\"305.5\" y=\"-52.8\" font-family=\"Helvetica,sans-Serif\" font-size=\"14.00\">entropy = 0.0</text>\n",
       "<text text-anchor=\"start\" x=\"308\" y=\"-37.8\" font-family=\"Helvetica,sans-Serif\" font-size=\"14.00\">samples = 1</text>\n",
       "<text text-anchor=\"start\" x=\"306\" y=\"-22.8\" font-family=\"Helvetica,sans-Serif\" font-size=\"14.00\">value = [0, 1]</text>\n",
       "<text text-anchor=\"start\" x=\"302\" y=\"-7.8\" font-family=\"Helvetica,sans-Serif\" font-size=\"14.00\">class = notckd</text>\n",
       "</g>\n",
       "<!-- 17&#45;&gt;18 -->\n",
       "<g id=\"edge18\" class=\"edge\">\n",
       "<title>17&#45;&gt;18</title>\n",
       "<path fill=\"none\" stroke=\"black\" d=\"M385.04,-103.73C380.06,-95.06 374.78,-85.9 369.77,-77.18\"/>\n",
       "<polygon fill=\"black\" stroke=\"black\" points=\"372.68,-75.22 364.66,-68.3 366.61,-78.71 372.68,-75.22\"/>\n",
       "</g>\n",
       "<!-- 19 -->\n",
       "<g id=\"node20\" class=\"node\">\n",
       "<title>19</title>\n",
       "<path fill=\"#e58139\" stroke=\"black\" d=\"M499.5,-68C499.5,-68 427.5,-68 427.5,-68 421.5,-68 415.5,-62 415.5,-56 415.5,-56 415.5,-12 415.5,-12 415.5,-6 421.5,0 427.5,0 427.5,0 499.5,0 499.5,0 505.5,0 511.5,-6 511.5,-12 511.5,-12 511.5,-56 511.5,-56 511.5,-62 505.5,-68 499.5,-68\"/>\n",
       "<text text-anchor=\"start\" x=\"423.5\" y=\"-52.8\" font-family=\"Helvetica,sans-Serif\" font-size=\"14.00\">entropy = 0.0</text>\n",
       "<text text-anchor=\"start\" x=\"426\" y=\"-37.8\" font-family=\"Helvetica,sans-Serif\" font-size=\"14.00\">samples = 1</text>\n",
       "<text text-anchor=\"start\" x=\"424\" y=\"-22.8\" font-family=\"Helvetica,sans-Serif\" font-size=\"14.00\">value = [1, 0]</text>\n",
       "<text text-anchor=\"start\" x=\"429.5\" y=\"-7.8\" font-family=\"Helvetica,sans-Serif\" font-size=\"14.00\">class = ckd</text>\n",
       "</g>\n",
       "<!-- 17&#45;&gt;19 -->\n",
       "<g id=\"edge19\" class=\"edge\">\n",
       "<title>17&#45;&gt;19</title>\n",
       "<path fill=\"none\" stroke=\"black\" d=\"M428.98,-103.73C433.29,-95.15 437.84,-86.09 442.18,-77.46\"/>\n",
       "<polygon fill=\"black\" stroke=\"black\" points=\"445.41,-78.81 446.77,-68.3 439.16,-75.66 445.41,-78.81\"/>\n",
       "</g>\n",
       "<!-- 26 -->\n",
       "<g id=\"node27\" class=\"node\">\n",
       "<title>26</title>\n",
       "<path fill=\"#e78c4b\" stroke=\"black\" d=\"M774,-1020C774,-1020 687,-1020 687,-1020 681,-1020 675,-1014 675,-1008 675,-1008 675,-949 675,-949 675,-943 681,-937 687,-937 687,-937 774,-937 774,-937 780,-937 786,-943 786,-949 786,-949 786,-1008 786,-1008 786,-1014 780,-1020 774,-1020\"/>\n",
       "<text text-anchor=\"start\" x=\"704\" y=\"-1004.8\" font-family=\"Helvetica,sans-Serif\" font-size=\"14.00\">htn ≤ 0.5</text>\n",
       "<text text-anchor=\"start\" x=\"683\" y=\"-989.8\" font-family=\"Helvetica,sans-Serif\" font-size=\"14.00\">entropy = 0.414</text>\n",
       "<text text-anchor=\"start\" x=\"689.5\" y=\"-974.8\" font-family=\"Helvetica,sans-Serif\" font-size=\"14.00\">samples = 24</text>\n",
       "<text text-anchor=\"start\" x=\"687.5\" y=\"-959.8\" font-family=\"Helvetica,sans-Serif\" font-size=\"14.00\">value = [22, 2]</text>\n",
       "<text text-anchor=\"start\" x=\"696.5\" y=\"-944.8\" font-family=\"Helvetica,sans-Serif\" font-size=\"14.00\">class = ckd</text>\n",
       "</g>\n",
       "<!-- 25&#45;&gt;26 -->\n",
       "<g id=\"edge26\" class=\"edge\">\n",
       "<title>25&#45;&gt;26</title>\n",
       "<path fill=\"none\" stroke=\"black\" d=\"M731.15,-1055.91C731.08,-1047.65 731.01,-1038.86 730.93,-1030.3\"/>\n",
       "<polygon fill=\"black\" stroke=\"black\" points=\"734.43,-1029.99 730.85,-1020.02 727.43,-1030.05 734.43,-1029.99\"/>\n",
       "</g>\n",
       "<!-- 29 -->\n",
       "<g id=\"node30\" class=\"node\">\n",
       "<title>29</title>\n",
       "<path fill=\"#399de5\" stroke=\"black\" d=\"M895,-1012.5C895,-1012.5 816,-1012.5 816,-1012.5 810,-1012.5 804,-1006.5 804,-1000.5 804,-1000.5 804,-956.5 804,-956.5 804,-950.5 810,-944.5 816,-944.5 816,-944.5 895,-944.5 895,-944.5 901,-944.5 907,-950.5 907,-956.5 907,-956.5 907,-1000.5 907,-1000.5 907,-1006.5 901,-1012.5 895,-1012.5\"/>\n",
       "<text text-anchor=\"start\" x=\"815.5\" y=\"-997.3\" font-family=\"Helvetica,sans-Serif\" font-size=\"14.00\">entropy = 0.0</text>\n",
       "<text text-anchor=\"start\" x=\"818\" y=\"-982.3\" font-family=\"Helvetica,sans-Serif\" font-size=\"14.00\">samples = 3</text>\n",
       "<text text-anchor=\"start\" x=\"816\" y=\"-967.3\" font-family=\"Helvetica,sans-Serif\" font-size=\"14.00\">value = [0, 3]</text>\n",
       "<text text-anchor=\"start\" x=\"812\" y=\"-952.3\" font-family=\"Helvetica,sans-Serif\" font-size=\"14.00\">class = notckd</text>\n",
       "</g>\n",
       "<!-- 25&#45;&gt;29 -->\n",
       "<g id=\"edge29\" class=\"edge\">\n",
       "<title>25&#45;&gt;29</title>\n",
       "<path fill=\"none\" stroke=\"black\" d=\"M774.52,-1055.91C786.92,-1044.21 800.43,-1031.46 812.81,-1019.78\"/>\n",
       "<polygon fill=\"black\" stroke=\"black\" points=\"815.48,-1022.08 820.35,-1012.67 810.67,-1016.98 815.48,-1022.08\"/>\n",
       "</g>\n",
       "<!-- 27 -->\n",
       "<g id=\"node28\" class=\"node\">\n",
       "<title>27</title>\n",
       "<path fill=\"#e58139\" stroke=\"black\" d=\"M767.5,-893.5C767.5,-893.5 689.5,-893.5 689.5,-893.5 683.5,-893.5 677.5,-887.5 677.5,-881.5 677.5,-881.5 677.5,-837.5 677.5,-837.5 677.5,-831.5 683.5,-825.5 689.5,-825.5 689.5,-825.5 767.5,-825.5 767.5,-825.5 773.5,-825.5 779.5,-831.5 779.5,-837.5 779.5,-837.5 779.5,-881.5 779.5,-881.5 779.5,-887.5 773.5,-893.5 767.5,-893.5\"/>\n",
       "<text text-anchor=\"start\" x=\"688.5\" y=\"-878.3\" font-family=\"Helvetica,sans-Serif\" font-size=\"14.00\">entropy = 0.0</text>\n",
       "<text text-anchor=\"start\" x=\"687.5\" y=\"-863.3\" font-family=\"Helvetica,sans-Serif\" font-size=\"14.00\">samples = 22</text>\n",
       "<text text-anchor=\"start\" x=\"685.5\" y=\"-848.3\" font-family=\"Helvetica,sans-Serif\" font-size=\"14.00\">value = [22, 0]</text>\n",
       "<text text-anchor=\"start\" x=\"694.5\" y=\"-833.3\" font-family=\"Helvetica,sans-Serif\" font-size=\"14.00\">class = ckd</text>\n",
       "</g>\n",
       "<!-- 26&#45;&gt;27 -->\n",
       "<g id=\"edge27\" class=\"edge\">\n",
       "<title>26&#45;&gt;27</title>\n",
       "<path fill=\"none\" stroke=\"black\" d=\"M729.81,-936.91C729.62,-926.2 729.43,-914.62 729.24,-903.78\"/>\n",
       "<polygon fill=\"black\" stroke=\"black\" points=\"732.74,-903.61 729.07,-893.67 725.74,-903.73 732.74,-903.61\"/>\n",
       "</g>\n",
       "<!-- 28 -->\n",
       "<g id=\"node29\" class=\"node\">\n",
       "<title>28</title>\n",
       "<path fill=\"#399de5\" stroke=\"black\" d=\"M889,-893.5C889,-893.5 810,-893.5 810,-893.5 804,-893.5 798,-887.5 798,-881.5 798,-881.5 798,-837.5 798,-837.5 798,-831.5 804,-825.5 810,-825.5 810,-825.5 889,-825.5 889,-825.5 895,-825.5 901,-831.5 901,-837.5 901,-837.5 901,-881.5 901,-881.5 901,-887.5 895,-893.5 889,-893.5\"/>\n",
       "<text text-anchor=\"start\" x=\"809.5\" y=\"-878.3\" font-family=\"Helvetica,sans-Serif\" font-size=\"14.00\">entropy = 0.0</text>\n",
       "<text text-anchor=\"start\" x=\"812\" y=\"-863.3\" font-family=\"Helvetica,sans-Serif\" font-size=\"14.00\">samples = 2</text>\n",
       "<text text-anchor=\"start\" x=\"810\" y=\"-848.3\" font-family=\"Helvetica,sans-Serif\" font-size=\"14.00\">value = [0, 2]</text>\n",
       "<text text-anchor=\"start\" x=\"806\" y=\"-833.3\" font-family=\"Helvetica,sans-Serif\" font-size=\"14.00\">class = notckd</text>\n",
       "</g>\n",
       "<!-- 26&#45;&gt;28 -->\n",
       "<g id=\"edge28\" class=\"edge\">\n",
       "<title>26&#45;&gt;28</title>\n",
       "<path fill=\"none\" stroke=\"black\" d=\"M771.79,-936.91C783.68,-925.21 796.65,-912.46 808.53,-900.78\"/>\n",
       "<polygon fill=\"black\" stroke=\"black\" points=\"811.09,-903.17 815.77,-893.67 806.18,-898.18 811.09,-903.17\"/>\n",
       "</g>\n",
       "<!-- 31 -->\n",
       "<g id=\"node32\" class=\"node\">\n",
       "<title>31</title>\n",
       "<path fill=\"#399de5\" stroke=\"black\" d=\"M901,-1131.5C901,-1131.5 822,-1131.5 822,-1131.5 816,-1131.5 810,-1125.5 810,-1119.5 810,-1119.5 810,-1075.5 810,-1075.5 810,-1069.5 816,-1063.5 822,-1063.5 822,-1063.5 901,-1063.5 901,-1063.5 907,-1063.5 913,-1069.5 913,-1075.5 913,-1075.5 913,-1119.5 913,-1119.5 913,-1125.5 907,-1131.5 901,-1131.5\"/>\n",
       "<text text-anchor=\"start\" x=\"821.5\" y=\"-1116.3\" font-family=\"Helvetica,sans-Serif\" font-size=\"14.00\">entropy = 0.0</text>\n",
       "<text text-anchor=\"start\" x=\"820.5\" y=\"-1101.3\" font-family=\"Helvetica,sans-Serif\" font-size=\"14.00\">samples = 11</text>\n",
       "<text text-anchor=\"start\" x=\"818.5\" y=\"-1086.3\" font-family=\"Helvetica,sans-Serif\" font-size=\"14.00\">value = [0, 11]</text>\n",
       "<text text-anchor=\"start\" x=\"818\" y=\"-1071.3\" font-family=\"Helvetica,sans-Serif\" font-size=\"14.00\">class = notckd</text>\n",
       "</g>\n",
       "<!-- 30&#45;&gt;31 -->\n",
       "<g id=\"edge31\" class=\"edge\">\n",
       "<title>30&#45;&gt;31</title>\n",
       "<path fill=\"none\" stroke=\"black\" d=\"M863.46,-1174.91C863.18,-1164.2 862.89,-1152.62 862.61,-1141.78\"/>\n",
       "<polygon fill=\"black\" stroke=\"black\" points=\"866.11,-1141.57 862.35,-1131.67 859.11,-1141.75 866.11,-1141.57\"/>\n",
       "</g>\n",
       "<!-- 32 -->\n",
       "<g id=\"node33\" class=\"node\">\n",
       "<title>32</title>\n",
       "<path fill=\"#e5833c\" stroke=\"black\" d=\"M1030,-1139C1030,-1139 943,-1139 943,-1139 937,-1139 931,-1133 931,-1127 931,-1127 931,-1068 931,-1068 931,-1062 937,-1056 943,-1056 943,-1056 1030,-1056 1030,-1056 1036,-1056 1042,-1062 1042,-1068 1042,-1068 1042,-1127 1042,-1127 1042,-1133 1036,-1139 1030,-1139\"/>\n",
       "<text text-anchor=\"start\" x=\"960\" y=\"-1123.8\" font-family=\"Helvetica,sans-Serif\" font-size=\"14.00\">htn ≤ 0.5</text>\n",
       "<text text-anchor=\"start\" x=\"939\" y=\"-1108.8\" font-family=\"Helvetica,sans-Serif\" font-size=\"14.00\">entropy = 0.122</text>\n",
       "<text text-anchor=\"start\" x=\"941.5\" y=\"-1093.8\" font-family=\"Helvetica,sans-Serif\" font-size=\"14.00\">samples = 120</text>\n",
       "<text text-anchor=\"start\" x=\"939.5\" y=\"-1078.8\" font-family=\"Helvetica,sans-Serif\" font-size=\"14.00\">value = [118, 2]</text>\n",
       "<text text-anchor=\"start\" x=\"952.5\" y=\"-1063.8\" font-family=\"Helvetica,sans-Serif\" font-size=\"14.00\">class = ckd</text>\n",
       "</g>\n",
       "<!-- 30&#45;&gt;32 -->\n",
       "<g id=\"edge32\" class=\"edge\">\n",
       "<title>30&#45;&gt;32</title>\n",
       "<path fill=\"none\" stroke=\"black\" d=\"M906.83,-1174.91C916.48,-1165.65 926.82,-1155.73 936.75,-1146.21\"/>\n",
       "<polygon fill=\"black\" stroke=\"black\" points=\"939.45,-1148.47 944.25,-1139.02 934.61,-1143.42 939.45,-1148.47\"/>\n",
       "</g>\n",
       "<!-- 33 -->\n",
       "<g id=\"node34\" class=\"node\">\n",
       "<title>33</title>\n",
       "<path fill=\"#e58139\" stroke=\"black\" d=\"M1028.5,-1012.5C1028.5,-1012.5 942.5,-1012.5 942.5,-1012.5 936.5,-1012.5 930.5,-1006.5 930.5,-1000.5 930.5,-1000.5 930.5,-956.5 930.5,-956.5 930.5,-950.5 936.5,-944.5 942.5,-944.5 942.5,-944.5 1028.5,-944.5 1028.5,-944.5 1034.5,-944.5 1040.5,-950.5 1040.5,-956.5 1040.5,-956.5 1040.5,-1000.5 1040.5,-1000.5 1040.5,-1006.5 1034.5,-1012.5 1028.5,-1012.5\"/>\n",
       "<text text-anchor=\"start\" x=\"945.5\" y=\"-997.3\" font-family=\"Helvetica,sans-Serif\" font-size=\"14.00\">entropy = 0.0</text>\n",
       "<text text-anchor=\"start\" x=\"940.5\" y=\"-982.3\" font-family=\"Helvetica,sans-Serif\" font-size=\"14.00\">samples = 118</text>\n",
       "<text text-anchor=\"start\" x=\"938.5\" y=\"-967.3\" font-family=\"Helvetica,sans-Serif\" font-size=\"14.00\">value = [118, 0]</text>\n",
       "<text text-anchor=\"start\" x=\"951.5\" y=\"-952.3\" font-family=\"Helvetica,sans-Serif\" font-size=\"14.00\">class = ckd</text>\n",
       "</g>\n",
       "<!-- 32&#45;&gt;33 -->\n",
       "<g id=\"edge33\" class=\"edge\">\n",
       "<title>32&#45;&gt;33</title>\n",
       "<path fill=\"none\" stroke=\"black\" d=\"M986.15,-1055.91C986.06,-1045.2 985.96,-1033.62 985.87,-1022.78\"/>\n",
       "<polygon fill=\"black\" stroke=\"black\" points=\"989.37,-1022.64 985.78,-1012.67 982.37,-1022.7 989.37,-1022.64\"/>\n",
       "</g>\n",
       "<!-- 34 -->\n",
       "<g id=\"node35\" class=\"node\">\n",
       "<title>34</title>\n",
       "<path fill=\"#399de5\" stroke=\"black\" d=\"M1150,-1012.5C1150,-1012.5 1071,-1012.5 1071,-1012.5 1065,-1012.5 1059,-1006.5 1059,-1000.5 1059,-1000.5 1059,-956.5 1059,-956.5 1059,-950.5 1065,-944.5 1071,-944.5 1071,-944.5 1150,-944.5 1150,-944.5 1156,-944.5 1162,-950.5 1162,-956.5 1162,-956.5 1162,-1000.5 1162,-1000.5 1162,-1006.5 1156,-1012.5 1150,-1012.5\"/>\n",
       "<text text-anchor=\"start\" x=\"1070.5\" y=\"-997.3\" font-family=\"Helvetica,sans-Serif\" font-size=\"14.00\">entropy = 0.0</text>\n",
       "<text text-anchor=\"start\" x=\"1073\" y=\"-982.3\" font-family=\"Helvetica,sans-Serif\" font-size=\"14.00\">samples = 2</text>\n",
       "<text text-anchor=\"start\" x=\"1071\" y=\"-967.3\" font-family=\"Helvetica,sans-Serif\" font-size=\"14.00\">value = [0, 2]</text>\n",
       "<text text-anchor=\"start\" x=\"1067\" y=\"-952.3\" font-family=\"Helvetica,sans-Serif\" font-size=\"14.00\">class = notckd</text>\n",
       "</g>\n",
       "<!-- 32&#45;&gt;34 -->\n",
       "<g id=\"edge34\" class=\"edge\">\n",
       "<title>32&#45;&gt;34</title>\n",
       "<path fill=\"none\" stroke=\"black\" d=\"M1029.52,-1055.91C1041.92,-1044.21 1055.43,-1031.46 1067.81,-1019.78\"/>\n",
       "<polygon fill=\"black\" stroke=\"black\" points=\"1070.48,-1022.08 1075.35,-1012.67 1065.67,-1016.98 1070.48,-1022.08\"/>\n",
       "</g>\n",
       "</g>\n",
       "</svg>\n"
      ],
      "text/plain": [
       "<graphviz.sources.Source at 0x17bce3b50>"
      ]
     },
     "metadata": {},
     "output_type": "display_data"
    }
   ],
   "source": [
    "dot_data = export_graphviz(id3_model, out_file=None, filled=True, rounded=True, special_characters=True, feature_names=columns[:-1], class_names=['ckd', 'notckd'])\n",
    "graph = graphviz.Source(dot_data)\n",
    "graph.render('ID3-tree')\n",
    "display(graph)"
   ]
  },
  {
   "cell_type": "markdown",
   "metadata": {},
   "source": [
    "CART Decision Tree:"
   ]
  },
  {
   "cell_type": "code",
   "execution_count": 18,
   "metadata": {},
   "outputs": [
    {
     "data": {
      "image/svg+xml": [
       "<?xml version=\"1.0\" encoding=\"UTF-8\" standalone=\"no\"?>\n",
       "<!DOCTYPE svg PUBLIC \"-//W3C//DTD SVG 1.1//EN\"\n",
       " \"http://www.w3.org/Graphics/SVG/1.1/DTD/svg11.dtd\">\n",
       "<!-- Generated by graphviz version 2.50.0 (0)\n",
       " -->\n",
       "<!-- Title: Tree Pages: 1 -->\n",
       "<svg width=\"1520pt\" height=\"1504pt\"\n",
       " viewBox=\"0.00 0.00 1520.00 1504.00\" xmlns=\"http://www.w3.org/2000/svg\" xmlns:xlink=\"http://www.w3.org/1999/xlink\">\n",
       "<g id=\"graph0\" class=\"graph\" transform=\"scale(1 1) rotate(0) translate(4 1500)\">\n",
       "<title>Tree</title>\n",
       "<polygon fill=\"white\" stroke=\"transparent\" points=\"-4,4 -4,-1500 1516,-1500 1516,4 -4,4\"/>\n",
       "<!-- 0 -->\n",
       "<g id=\"node1\" class=\"node\">\n",
       "<title>0</title>\n",
       "<path fill=\"#b0d8f5\" stroke=\"black\" d=\"M1198,-1496C1198,-1496 1097,-1496 1097,-1496 1091,-1496 1085,-1490 1085,-1484 1085,-1484 1085,-1425 1085,-1425 1085,-1419 1091,-1413 1097,-1413 1097,-1413 1198,-1413 1198,-1413 1204,-1413 1210,-1419 1210,-1425 1210,-1425 1210,-1484 1210,-1484 1210,-1490 1204,-1496 1198,-1496\"/>\n",
       "<text text-anchor=\"start\" x=\"1113\" y=\"-1480.8\" font-family=\"Helvetica,sans-Serif\" font-size=\"14.00\">hemo ≤ 1.5</text>\n",
       "<text text-anchor=\"start\" x=\"1112\" y=\"-1465.8\" font-family=\"Helvetica,sans-Serif\" font-size=\"14.00\">gini = 0.469</text>\n",
       "<text text-anchor=\"start\" x=\"1102.5\" y=\"-1450.8\" font-family=\"Helvetica,sans-Serif\" font-size=\"14.00\">samples = 400</text>\n",
       "<text text-anchor=\"start\" x=\"1093\" y=\"-1435.8\" font-family=\"Helvetica,sans-Serif\" font-size=\"14.00\">value = [150, 250]</text>\n",
       "<text text-anchor=\"start\" x=\"1104\" y=\"-1420.8\" font-family=\"Helvetica,sans-Serif\" font-size=\"14.00\">class = notckd</text>\n",
       "</g>\n",
       "<!-- 1 -->\n",
       "<g id=\"node2\" class=\"node\">\n",
       "<title>1</title>\n",
       "<path fill=\"#54aae9\" stroke=\"black\" d=\"M1127,-1377C1127,-1377 1034,-1377 1034,-1377 1028,-1377 1022,-1371 1022,-1365 1022,-1365 1022,-1306 1022,-1306 1022,-1300 1028,-1294 1034,-1294 1034,-1294 1127,-1294 1127,-1294 1133,-1294 1139,-1300 1139,-1306 1139,-1306 1139,-1365 1139,-1365 1139,-1371 1133,-1377 1127,-1377\"/>\n",
       "<text text-anchor=\"start\" x=\"1053\" y=\"-1361.8\" font-family=\"Helvetica,sans-Serif\" font-size=\"14.00\">pcv ≤ 1.5</text>\n",
       "<text text-anchor=\"start\" x=\"1048.5\" y=\"-1346.8\" font-family=\"Helvetica,sans-Serif\" font-size=\"14.00\">gini = 0.21</text>\n",
       "<text text-anchor=\"start\" x=\"1035.5\" y=\"-1331.8\" font-family=\"Helvetica,sans-Serif\" font-size=\"14.00\">samples = 269</text>\n",
       "<text text-anchor=\"start\" x=\"1030\" y=\"-1316.8\" font-family=\"Helvetica,sans-Serif\" font-size=\"14.00\">value = [32, 237]</text>\n",
       "<text text-anchor=\"start\" x=\"1037\" y=\"-1301.8\" font-family=\"Helvetica,sans-Serif\" font-size=\"14.00\">class = notckd</text>\n",
       "</g>\n",
       "<!-- 0&#45;&gt;1 -->\n",
       "<g id=\"edge1\" class=\"edge\">\n",
       "<title>0&#45;&gt;1</title>\n",
       "<path fill=\"none\" stroke=\"black\" d=\"M1124.25,-1412.91C1119.27,-1404.2 1113.94,-1394.9 1108.79,-1385.89\"/>\n",
       "<polygon fill=\"black\" stroke=\"black\" points=\"1111.71,-1383.96 1103.7,-1377.02 1105.64,-1387.44 1111.71,-1383.96\"/>\n",
       "<text text-anchor=\"middle\" x=\"1097.15\" y=\"-1397.45\" font-family=\"Helvetica,sans-Serif\" font-size=\"14.00\">True</text>\n",
       "</g>\n",
       "<!-- 40 -->\n",
       "<g id=\"node41\" class=\"node\">\n",
       "<title>40</title>\n",
       "<path fill=\"#e88f4f\" stroke=\"black\" d=\"M1262,-1377C1262,-1377 1169,-1377 1169,-1377 1163,-1377 1157,-1371 1157,-1365 1157,-1365 1157,-1306 1157,-1306 1157,-1300 1163,-1294 1169,-1294 1169,-1294 1262,-1294 1262,-1294 1268,-1294 1274,-1300 1274,-1306 1274,-1306 1274,-1365 1274,-1365 1274,-1371 1268,-1377 1262,-1377\"/>\n",
       "<text text-anchor=\"start\" x=\"1183.5\" y=\"-1361.8\" font-family=\"Helvetica,sans-Serif\" font-size=\"14.00\">sg ≤ 1.017</text>\n",
       "<text text-anchor=\"start\" x=\"1180\" y=\"-1346.8\" font-family=\"Helvetica,sans-Serif\" font-size=\"14.00\">gini = 0.179</text>\n",
       "<text text-anchor=\"start\" x=\"1170.5\" y=\"-1331.8\" font-family=\"Helvetica,sans-Serif\" font-size=\"14.00\">samples = 131</text>\n",
       "<text text-anchor=\"start\" x=\"1165\" y=\"-1316.8\" font-family=\"Helvetica,sans-Serif\" font-size=\"14.00\">value = [118, 13]</text>\n",
       "<text text-anchor=\"start\" x=\"1181.5\" y=\"-1301.8\" font-family=\"Helvetica,sans-Serif\" font-size=\"14.00\">class = ckd</text>\n",
       "</g>\n",
       "<!-- 0&#45;&gt;40 -->\n",
       "<g id=\"edge40\" class=\"edge\">\n",
       "<title>0&#45;&gt;40</title>\n",
       "<path fill=\"none\" stroke=\"black\" d=\"M1171.09,-1412.91C1176.16,-1404.2 1181.56,-1394.9 1186.79,-1385.89\"/>\n",
       "<polygon fill=\"black\" stroke=\"black\" points=\"1189.95,-1387.43 1191.95,-1377.02 1183.9,-1383.91 1189.95,-1387.43\"/>\n",
       "<text text-anchor=\"middle\" x=\"1198.35\" y=\"-1397.49\" font-family=\"Helvetica,sans-Serif\" font-size=\"14.00\">False</text>\n",
       "</g>\n",
       "<!-- 2 -->\n",
       "<g id=\"node3\" class=\"node\">\n",
       "<title>2</title>\n",
       "<path fill=\"#42a1e6\" stroke=\"black\" d=\"M946,-1258C946,-1258 853,-1258 853,-1258 847,-1258 841,-1252 841,-1246 841,-1246 841,-1187 841,-1187 841,-1181 847,-1175 853,-1175 853,-1175 946,-1175 946,-1175 952,-1175 958,-1181 958,-1187 958,-1187 958,-1246 958,-1246 958,-1252 952,-1258 946,-1258\"/>\n",
       "<text text-anchor=\"start\" x=\"869.5\" y=\"-1242.8\" font-family=\"Helvetica,sans-Serif\" font-size=\"14.00\">rbcc ≤ 1.5</text>\n",
       "<text text-anchor=\"start\" x=\"864\" y=\"-1227.8\" font-family=\"Helvetica,sans-Serif\" font-size=\"14.00\">gini = 0.079</text>\n",
       "<text text-anchor=\"start\" x=\"854.5\" y=\"-1212.8\" font-family=\"Helvetica,sans-Serif\" font-size=\"14.00\">samples = 242</text>\n",
       "<text text-anchor=\"start\" x=\"849\" y=\"-1197.8\" font-family=\"Helvetica,sans-Serif\" font-size=\"14.00\">value = [10, 232]</text>\n",
       "<text text-anchor=\"start\" x=\"856\" y=\"-1182.8\" font-family=\"Helvetica,sans-Serif\" font-size=\"14.00\">class = notckd</text>\n",
       "</g>\n",
       "<!-- 1&#45;&gt;2 -->\n",
       "<g id=\"edge2\" class=\"edge\">\n",
       "<title>1&#45;&gt;2</title>\n",
       "<path fill=\"none\" stroke=\"black\" d=\"M1021.73,-1296.51C1004.26,-1285.22 984.98,-1272.75 966.99,-1261.13\"/>\n",
       "<polygon fill=\"black\" stroke=\"black\" points=\"968.58,-1257.99 958.28,-1255.5 964.78,-1263.86 968.58,-1257.99\"/>\n",
       "</g>\n",
       "<!-- 33 -->\n",
       "<g id=\"node34\" class=\"node\">\n",
       "<title>33</title>\n",
       "<path fill=\"#eb9e66\" stroke=\"black\" d=\"M1121.5,-1258C1121.5,-1258 1043.5,-1258 1043.5,-1258 1037.5,-1258 1031.5,-1252 1031.5,-1246 1031.5,-1246 1031.5,-1187 1031.5,-1187 1031.5,-1181 1037.5,-1175 1043.5,-1175 1043.5,-1175 1121.5,-1175 1121.5,-1175 1127.5,-1175 1133.5,-1181 1133.5,-1187 1133.5,-1187 1133.5,-1246 1133.5,-1246 1133.5,-1252 1127.5,-1258 1121.5,-1258\"/>\n",
       "<text text-anchor=\"start\" x=\"1055.5\" y=\"-1242.8\" font-family=\"Helvetica,sans-Serif\" font-size=\"14.00\">dm ≤ 0.5</text>\n",
       "<text text-anchor=\"start\" x=\"1047\" y=\"-1227.8\" font-family=\"Helvetica,sans-Serif\" font-size=\"14.00\">gini = 0.302</text>\n",
       "<text text-anchor=\"start\" x=\"1041.5\" y=\"-1212.8\" font-family=\"Helvetica,sans-Serif\" font-size=\"14.00\">samples = 27</text>\n",
       "<text text-anchor=\"start\" x=\"1039.5\" y=\"-1197.8\" font-family=\"Helvetica,sans-Serif\" font-size=\"14.00\">value = [22, 5]</text>\n",
       "<text text-anchor=\"start\" x=\"1048.5\" y=\"-1182.8\" font-family=\"Helvetica,sans-Serif\" font-size=\"14.00\">class = ckd</text>\n",
       "</g>\n",
       "<!-- 1&#45;&gt;33 -->\n",
       "<g id=\"edge33\" class=\"edge\">\n",
       "<title>1&#45;&gt;33</title>\n",
       "<path fill=\"none\" stroke=\"black\" d=\"M1081.19,-1293.91C1081.34,-1285.56 1081.49,-1276.67 1081.64,-1268.02\"/>\n",
       "<polygon fill=\"black\" stroke=\"black\" points=\"1085.14,-1268.08 1081.81,-1258.02 1078.14,-1267.96 1085.14,-1268.08\"/>\n",
       "</g>\n",
       "<!-- 3 -->\n",
       "<g id=\"node4\" class=\"node\">\n",
       "<title>3</title>\n",
       "<path fill=\"#3ea0e6\" stroke=\"black\" d=\"M711.5,-1139C711.5,-1139 625.5,-1139 625.5,-1139 619.5,-1139 613.5,-1133 613.5,-1127 613.5,-1127 613.5,-1068 613.5,-1068 613.5,-1062 619.5,-1056 625.5,-1056 625.5,-1056 711.5,-1056 711.5,-1056 717.5,-1056 723.5,-1062 723.5,-1068 723.5,-1068 723.5,-1127 723.5,-1127 723.5,-1133 717.5,-1139 711.5,-1139\"/>\n",
       "<text text-anchor=\"start\" x=\"640.5\" y=\"-1123.8\" font-family=\"Helvetica,sans-Serif\" font-size=\"14.00\">sod ≤ 5.5</text>\n",
       "<text text-anchor=\"start\" x=\"636.5\" y=\"-1108.8\" font-family=\"Helvetica,sans-Serif\" font-size=\"14.00\">gini = 0.05</text>\n",
       "<text text-anchor=\"start\" x=\"623.5\" y=\"-1093.8\" font-family=\"Helvetica,sans-Serif\" font-size=\"14.00\">samples = 232</text>\n",
       "<text text-anchor=\"start\" x=\"621.5\" y=\"-1078.8\" font-family=\"Helvetica,sans-Serif\" font-size=\"14.00\">value = [6, 226]</text>\n",
       "<text text-anchor=\"start\" x=\"625\" y=\"-1063.8\" font-family=\"Helvetica,sans-Serif\" font-size=\"14.00\">class = notckd</text>\n",
       "</g>\n",
       "<!-- 2&#45;&gt;3 -->\n",
       "<g id=\"edge3\" class=\"edge\">\n",
       "<title>2&#45;&gt;3</title>\n",
       "<path fill=\"none\" stroke=\"black\" d=\"M840.91,-1185.82C808.04,-1169.18 766.98,-1148.38 733.18,-1131.26\"/>\n",
       "<polygon fill=\"black\" stroke=\"black\" points=\"734.35,-1127.93 723.85,-1126.53 731.19,-1134.17 734.35,-1127.93\"/>\n",
       "</g>\n",
       "<!-- 28 -->\n",
       "<g id=\"node29\" class=\"node\">\n",
       "<title>28</title>\n",
       "<path fill=\"#bddef6\" stroke=\"black\" d=\"M939,-1139C939,-1139 860,-1139 860,-1139 854,-1139 848,-1133 848,-1127 848,-1127 848,-1068 848,-1068 848,-1062 854,-1056 860,-1056 860,-1056 939,-1056 939,-1056 945,-1056 951,-1062 951,-1068 951,-1068 951,-1127 951,-1127 951,-1133 945,-1139 939,-1139\"/>\n",
       "<text text-anchor=\"start\" x=\"873\" y=\"-1123.8\" font-family=\"Helvetica,sans-Serif\" font-size=\"14.00\">htn ≤ 0.5</text>\n",
       "<text text-anchor=\"start\" x=\"867.5\" y=\"-1108.8\" font-family=\"Helvetica,sans-Serif\" font-size=\"14.00\">gini = 0.48</text>\n",
       "<text text-anchor=\"start\" x=\"858.5\" y=\"-1093.8\" font-family=\"Helvetica,sans-Serif\" font-size=\"14.00\">samples = 10</text>\n",
       "<text text-anchor=\"start\" x=\"860\" y=\"-1078.8\" font-family=\"Helvetica,sans-Serif\" font-size=\"14.00\">value = [4, 6]</text>\n",
       "<text text-anchor=\"start\" x=\"856\" y=\"-1063.8\" font-family=\"Helvetica,sans-Serif\" font-size=\"14.00\">class = notckd</text>\n",
       "</g>\n",
       "<!-- 2&#45;&gt;28 -->\n",
       "<g id=\"edge28\" class=\"edge\">\n",
       "<title>2&#45;&gt;28</title>\n",
       "<path fill=\"none\" stroke=\"black\" d=\"M899.5,-1174.91C899.5,-1166.65 899.5,-1157.86 899.5,-1149.3\"/>\n",
       "<polygon fill=\"black\" stroke=\"black\" points=\"903,-1149.02 899.5,-1139.02 896,-1149.02 903,-1149.02\"/>\n",
       "</g>\n",
       "<!-- 4 -->\n",
       "<g id=\"node5\" class=\"node\">\n",
       "<title>4</title>\n",
       "<path fill=\"#3d9fe5\" stroke=\"black\" d=\"M536.5,-1020C536.5,-1020 450.5,-1020 450.5,-1020 444.5,-1020 438.5,-1014 438.5,-1008 438.5,-1008 438.5,-949 438.5,-949 438.5,-943 444.5,-937 450.5,-937 450.5,-937 536.5,-937 536.5,-937 542.5,-937 548.5,-943 548.5,-949 548.5,-949 548.5,-1008 548.5,-1008 548.5,-1014 542.5,-1020 536.5,-1020\"/>\n",
       "<text text-anchor=\"start\" x=\"461.5\" y=\"-1004.8\" font-family=\"Helvetica,sans-Serif\" font-size=\"14.00\">sg ≤ 1.017</text>\n",
       "<text text-anchor=\"start\" x=\"458\" y=\"-989.8\" font-family=\"Helvetica,sans-Serif\" font-size=\"14.00\">gini = 0.035</text>\n",
       "<text text-anchor=\"start\" x=\"448.5\" y=\"-974.8\" font-family=\"Helvetica,sans-Serif\" font-size=\"14.00\">samples = 226</text>\n",
       "<text text-anchor=\"start\" x=\"446.5\" y=\"-959.8\" font-family=\"Helvetica,sans-Serif\" font-size=\"14.00\">value = [4, 222]</text>\n",
       "<text text-anchor=\"start\" x=\"450\" y=\"-944.8\" font-family=\"Helvetica,sans-Serif\" font-size=\"14.00\">class = notckd</text>\n",
       "</g>\n",
       "<!-- 3&#45;&gt;4 -->\n",
       "<g id=\"edge4\" class=\"edge\">\n",
       "<title>3&#45;&gt;4</title>\n",
       "<path fill=\"none\" stroke=\"black\" d=\"M613.13,-1059.48C595.24,-1047.52 575.27,-1034.17 556.85,-1021.86\"/>\n",
       "<polygon fill=\"black\" stroke=\"black\" points=\"558.77,-1018.93 548.51,-1016.28 554.88,-1024.75 558.77,-1018.93\"/>\n",
       "</g>\n",
       "<!-- 23 -->\n",
       "<g id=\"node24\" class=\"node\">\n",
       "<title>23</title>\n",
       "<path fill=\"#9ccef2\" stroke=\"black\" d=\"M708,-1020C708,-1020 629,-1020 629,-1020 623,-1020 617,-1014 617,-1008 617,-1008 617,-949 617,-949 617,-943 623,-937 629,-937 629,-937 708,-937 708,-937 714,-937 720,-943 720,-949 720,-949 720,-1008 720,-1008 720,-1014 714,-1020 708,-1020\"/>\n",
       "<text text-anchor=\"start\" x=\"642\" y=\"-1004.8\" font-family=\"Helvetica,sans-Serif\" font-size=\"14.00\">pot ≤ 2.0</text>\n",
       "<text text-anchor=\"start\" x=\"633\" y=\"-989.8\" font-family=\"Helvetica,sans-Serif\" font-size=\"14.00\">gini = 0.444</text>\n",
       "<text text-anchor=\"start\" x=\"631\" y=\"-974.8\" font-family=\"Helvetica,sans-Serif\" font-size=\"14.00\">samples = 6</text>\n",
       "<text text-anchor=\"start\" x=\"629\" y=\"-959.8\" font-family=\"Helvetica,sans-Serif\" font-size=\"14.00\">value = [2, 4]</text>\n",
       "<text text-anchor=\"start\" x=\"625\" y=\"-944.8\" font-family=\"Helvetica,sans-Serif\" font-size=\"14.00\">class = notckd</text>\n",
       "</g>\n",
       "<!-- 3&#45;&gt;23 -->\n",
       "<g id=\"edge23\" class=\"edge\">\n",
       "<title>3&#45;&gt;23</title>\n",
       "<path fill=\"none\" stroke=\"black\" d=\"M668.5,-1055.91C668.5,-1047.65 668.5,-1038.86 668.5,-1030.3\"/>\n",
       "<polygon fill=\"black\" stroke=\"black\" points=\"672,-1030.02 668.5,-1020.02 665,-1030.02 672,-1030.02\"/>\n",
       "</g>\n",
       "<!-- 5 -->\n",
       "<g id=\"node6\" class=\"node\">\n",
       "<title>5</title>\n",
       "<path fill=\"#399de5\" stroke=\"black\" d=\"M411.5,-893.5C411.5,-893.5 325.5,-893.5 325.5,-893.5 319.5,-893.5 313.5,-887.5 313.5,-881.5 313.5,-881.5 313.5,-837.5 313.5,-837.5 313.5,-831.5 319.5,-825.5 325.5,-825.5 325.5,-825.5 411.5,-825.5 411.5,-825.5 417.5,-825.5 423.5,-831.5 423.5,-837.5 423.5,-837.5 423.5,-881.5 423.5,-881.5 423.5,-887.5 417.5,-893.5 411.5,-893.5\"/>\n",
       "<text text-anchor=\"start\" x=\"340.5\" y=\"-878.3\" font-family=\"Helvetica,sans-Serif\" font-size=\"14.00\">gini = 0.0</text>\n",
       "<text text-anchor=\"start\" x=\"323.5\" y=\"-863.3\" font-family=\"Helvetica,sans-Serif\" font-size=\"14.00\">samples = 146</text>\n",
       "<text text-anchor=\"start\" x=\"321.5\" y=\"-848.3\" font-family=\"Helvetica,sans-Serif\" font-size=\"14.00\">value = [0, 146]</text>\n",
       "<text text-anchor=\"start\" x=\"325\" y=\"-833.3\" font-family=\"Helvetica,sans-Serif\" font-size=\"14.00\">class = notckd</text>\n",
       "</g>\n",
       "<!-- 4&#45;&gt;5 -->\n",
       "<g id=\"edge5\" class=\"edge\">\n",
       "<title>4&#45;&gt;5</title>\n",
       "<path fill=\"none\" stroke=\"black\" d=\"M450.13,-936.91C437.64,-925.21 424.01,-912.46 411.53,-900.78\"/>\n",
       "<polygon fill=\"black\" stroke=\"black\" points=\"413.63,-897.95 403.93,-893.67 408.84,-903.06 413.63,-897.95\"/>\n",
       "</g>\n",
       "<!-- 6 -->\n",
       "<g id=\"node7\" class=\"node\">\n",
       "<title>6</title>\n",
       "<path fill=\"#43a2e6\" stroke=\"black\" d=\"M533,-901C533,-901 454,-901 454,-901 448,-901 442,-895 442,-889 442,-889 442,-830 442,-830 442,-824 448,-818 454,-818 454,-818 533,-818 533,-818 539,-818 545,-824 545,-830 545,-830 545,-889 545,-889 545,-895 539,-901 533,-901\"/>\n",
       "<text text-anchor=\"start\" x=\"467\" y=\"-885.8\" font-family=\"Helvetica,sans-Serif\" font-size=\"14.00\">htn ≤ 0.5</text>\n",
       "<text text-anchor=\"start\" x=\"458\" y=\"-870.8\" font-family=\"Helvetica,sans-Serif\" font-size=\"14.00\">gini = 0.095</text>\n",
       "<text text-anchor=\"start\" x=\"452.5\" y=\"-855.8\" font-family=\"Helvetica,sans-Serif\" font-size=\"14.00\">samples = 80</text>\n",
       "<text text-anchor=\"start\" x=\"450.5\" y=\"-840.8\" font-family=\"Helvetica,sans-Serif\" font-size=\"14.00\">value = [4, 76]</text>\n",
       "<text text-anchor=\"start\" x=\"450\" y=\"-825.8\" font-family=\"Helvetica,sans-Serif\" font-size=\"14.00\">class = notckd</text>\n",
       "</g>\n",
       "<!-- 4&#45;&gt;6 -->\n",
       "<g id=\"edge6\" class=\"edge\">\n",
       "<title>4&#45;&gt;6</title>\n",
       "<path fill=\"none\" stroke=\"black\" d=\"M493.5,-936.91C493.5,-928.65 493.5,-919.86 493.5,-911.3\"/>\n",
       "<polygon fill=\"black\" stroke=\"black\" points=\"497,-911.02 493.5,-901.02 490,-911.02 497,-911.02\"/>\n",
       "</g>\n",
       "<!-- 7 -->\n",
       "<g id=\"node8\" class=\"node\">\n",
       "<title>7</title>\n",
       "<path fill=\"#57ace9\" stroke=\"black\" d=\"M442,-782C442,-782 363,-782 363,-782 357,-782 351,-776 351,-770 351,-770 351,-711 351,-711 351,-705 357,-699 363,-699 363,-699 442,-699 442,-699 448,-699 454,-705 454,-711 454,-711 454,-770 454,-770 454,-776 448,-782 442,-782\"/>\n",
       "<text text-anchor=\"start\" x=\"380\" y=\"-766.8\" font-family=\"Helvetica,sans-Serif\" font-size=\"14.00\">al ≤ 0.5</text>\n",
       "<text text-anchor=\"start\" x=\"367\" y=\"-751.8\" font-family=\"Helvetica,sans-Serif\" font-size=\"14.00\">gini = 0.231</text>\n",
       "<text text-anchor=\"start\" x=\"361.5\" y=\"-736.8\" font-family=\"Helvetica,sans-Serif\" font-size=\"14.00\">samples = 30</text>\n",
       "<text text-anchor=\"start\" x=\"359.5\" y=\"-721.8\" font-family=\"Helvetica,sans-Serif\" font-size=\"14.00\">value = [4, 26]</text>\n",
       "<text text-anchor=\"start\" x=\"359\" y=\"-706.8\" font-family=\"Helvetica,sans-Serif\" font-size=\"14.00\">class = notckd</text>\n",
       "</g>\n",
       "<!-- 6&#45;&gt;7 -->\n",
       "<g id=\"edge7\" class=\"edge\">\n",
       "<title>6&#45;&gt;7</title>\n",
       "<path fill=\"none\" stroke=\"black\" d=\"M461.93,-817.91C454.94,-808.92 447.47,-799.32 440.26,-790.05\"/>\n",
       "<polygon fill=\"black\" stroke=\"black\" points=\"442.92,-787.77 434.02,-782.02 437.39,-792.06 442.92,-787.77\"/>\n",
       "</g>\n",
       "<!-- 22 -->\n",
       "<g id=\"node23\" class=\"node\">\n",
       "<title>22</title>\n",
       "<path fill=\"#399de5\" stroke=\"black\" d=\"M563,-774.5C563,-774.5 484,-774.5 484,-774.5 478,-774.5 472,-768.5 472,-762.5 472,-762.5 472,-718.5 472,-718.5 472,-712.5 478,-706.5 484,-706.5 484,-706.5 563,-706.5 563,-706.5 569,-706.5 575,-712.5 575,-718.5 575,-718.5 575,-762.5 575,-762.5 575,-768.5 569,-774.5 563,-774.5\"/>\n",
       "<text text-anchor=\"start\" x=\"495.5\" y=\"-759.3\" font-family=\"Helvetica,sans-Serif\" font-size=\"14.00\">gini = 0.0</text>\n",
       "<text text-anchor=\"start\" x=\"482.5\" y=\"-744.3\" font-family=\"Helvetica,sans-Serif\" font-size=\"14.00\">samples = 50</text>\n",
       "<text text-anchor=\"start\" x=\"480.5\" y=\"-729.3\" font-family=\"Helvetica,sans-Serif\" font-size=\"14.00\">value = [0, 50]</text>\n",
       "<text text-anchor=\"start\" x=\"480\" y=\"-714.3\" font-family=\"Helvetica,sans-Serif\" font-size=\"14.00\">class = notckd</text>\n",
       "</g>\n",
       "<!-- 6&#45;&gt;22 -->\n",
       "<g id=\"edge22\" class=\"edge\">\n",
       "<title>6&#45;&gt;22</title>\n",
       "<path fill=\"none\" stroke=\"black\" d=\"M503.91,-817.91C506.68,-807.09 509.69,-795.38 512.49,-784.44\"/>\n",
       "<polygon fill=\"black\" stroke=\"black\" points=\"515.9,-785.22 515,-774.67 509.12,-783.48 515.9,-785.22\"/>\n",
       "</g>\n",
       "<!-- 8 -->\n",
       "<g id=\"node9\" class=\"node\">\n",
       "<title>8</title>\n",
       "<path fill=\"#6eb7ec\" stroke=\"black\" d=\"M382,-663C382,-663 303,-663 303,-663 297,-663 291,-657 291,-651 291,-651 291,-592 291,-592 291,-586 297,-580 303,-580 303,-580 382,-580 382,-580 388,-580 394,-586 394,-592 394,-592 394,-651 394,-651 394,-657 388,-663 382,-663\"/>\n",
       "<text text-anchor=\"start\" x=\"310.5\" y=\"-647.8\" font-family=\"Helvetica,sans-Serif\" font-size=\"14.00\">sg ≤ 1.022</text>\n",
       "<text text-anchor=\"start\" x=\"307\" y=\"-632.8\" font-family=\"Helvetica,sans-Serif\" font-size=\"14.00\">gini = 0.332</text>\n",
       "<text text-anchor=\"start\" x=\"301.5\" y=\"-617.8\" font-family=\"Helvetica,sans-Serif\" font-size=\"14.00\">samples = 19</text>\n",
       "<text text-anchor=\"start\" x=\"299.5\" y=\"-602.8\" font-family=\"Helvetica,sans-Serif\" font-size=\"14.00\">value = [4, 15]</text>\n",
       "<text text-anchor=\"start\" x=\"299\" y=\"-587.8\" font-family=\"Helvetica,sans-Serif\" font-size=\"14.00\">class = notckd</text>\n",
       "</g>\n",
       "<!-- 7&#45;&gt;8 -->\n",
       "<g id=\"edge8\" class=\"edge\">\n",
       "<title>7&#45;&gt;8</title>\n",
       "<path fill=\"none\" stroke=\"black\" d=\"M381.68,-698.91C377.26,-690.29 372.55,-681.09 367.97,-672.17\"/>\n",
       "<polygon fill=\"black\" stroke=\"black\" points=\"370.96,-670.32 363.28,-663.02 364.73,-673.52 370.96,-670.32\"/>\n",
       "</g>\n",
       "<!-- 21 -->\n",
       "<g id=\"node22\" class=\"node\">\n",
       "<title>21</title>\n",
       "<path fill=\"#399de5\" stroke=\"black\" d=\"M503,-655.5C503,-655.5 424,-655.5 424,-655.5 418,-655.5 412,-649.5 412,-643.5 412,-643.5 412,-599.5 412,-599.5 412,-593.5 418,-587.5 424,-587.5 424,-587.5 503,-587.5 503,-587.5 509,-587.5 515,-593.5 515,-599.5 515,-599.5 515,-643.5 515,-643.5 515,-649.5 509,-655.5 503,-655.5\"/>\n",
       "<text text-anchor=\"start\" x=\"435.5\" y=\"-640.3\" font-family=\"Helvetica,sans-Serif\" font-size=\"14.00\">gini = 0.0</text>\n",
       "<text text-anchor=\"start\" x=\"422.5\" y=\"-625.3\" font-family=\"Helvetica,sans-Serif\" font-size=\"14.00\">samples = 11</text>\n",
       "<text text-anchor=\"start\" x=\"420.5\" y=\"-610.3\" font-family=\"Helvetica,sans-Serif\" font-size=\"14.00\">value = [0, 11]</text>\n",
       "<text text-anchor=\"start\" x=\"420\" y=\"-595.3\" font-family=\"Helvetica,sans-Serif\" font-size=\"14.00\">class = notckd</text>\n",
       "</g>\n",
       "<!-- 7&#45;&gt;21 -->\n",
       "<g id=\"edge21\" class=\"edge\">\n",
       "<title>7&#45;&gt;21</title>\n",
       "<path fill=\"none\" stroke=\"black\" d=\"M423.66,-698.91C429.42,-687.87 435.66,-675.9 441.46,-664.77\"/>\n",
       "<polygon fill=\"black\" stroke=\"black\" points=\"444.69,-666.15 446.21,-655.67 438.48,-662.92 444.69,-666.15\"/>\n",
       "</g>\n",
       "<!-- 9 -->\n",
       "<g id=\"node10\" class=\"node\">\n",
       "<title>9</title>\n",
       "<path fill=\"#61b1ea\" stroke=\"black\" d=\"M324,-544C324,-544 245,-544 245,-544 239,-544 233,-538 233,-532 233,-532 233,-473 233,-473 233,-467 239,-461 245,-461 245,-461 324,-461 324,-461 330,-461 336,-467 336,-473 336,-473 336,-532 336,-532 336,-538 330,-544 324,-544\"/>\n",
       "<text text-anchor=\"start\" x=\"256\" y=\"-528.8\" font-family=\"Helvetica,sans-Serif\" font-size=\"14.00\">age ≤ 0.5</text>\n",
       "<text text-anchor=\"start\" x=\"249\" y=\"-513.8\" font-family=\"Helvetica,sans-Serif\" font-size=\"14.00\">gini = 0.278</text>\n",
       "<text text-anchor=\"start\" x=\"243.5\" y=\"-498.8\" font-family=\"Helvetica,sans-Serif\" font-size=\"14.00\">samples = 18</text>\n",
       "<text text-anchor=\"start\" x=\"241.5\" y=\"-483.8\" font-family=\"Helvetica,sans-Serif\" font-size=\"14.00\">value = [3, 15]</text>\n",
       "<text text-anchor=\"start\" x=\"241\" y=\"-468.8\" font-family=\"Helvetica,sans-Serif\" font-size=\"14.00\">class = notckd</text>\n",
       "</g>\n",
       "<!-- 8&#45;&gt;9 -->\n",
       "<g id=\"edge9\" class=\"edge\">\n",
       "<title>8&#45;&gt;9</title>\n",
       "<path fill=\"none\" stroke=\"black\" d=\"M322.38,-579.91C318.1,-571.29 313.54,-562.09 309.13,-553.17\"/>\n",
       "<polygon fill=\"black\" stroke=\"black\" points=\"312.16,-551.43 304.59,-544.02 305.89,-554.53 312.16,-551.43\"/>\n",
       "</g>\n",
       "<!-- 20 -->\n",
       "<g id=\"node21\" class=\"node\">\n",
       "<title>20</title>\n",
       "<path fill=\"#e58139\" stroke=\"black\" d=\"M437,-536.5C437,-536.5 366,-536.5 366,-536.5 360,-536.5 354,-530.5 354,-524.5 354,-524.5 354,-480.5 354,-480.5 354,-474.5 360,-468.5 366,-468.5 366,-468.5 437,-468.5 437,-468.5 443,-468.5 449,-474.5 449,-480.5 449,-480.5 449,-524.5 449,-524.5 449,-530.5 443,-536.5 437,-536.5\"/>\n",
       "<text text-anchor=\"start\" x=\"373.5\" y=\"-521.3\" font-family=\"Helvetica,sans-Serif\" font-size=\"14.00\">gini = 0.0</text>\n",
       "<text text-anchor=\"start\" x=\"364\" y=\"-506.3\" font-family=\"Helvetica,sans-Serif\" font-size=\"14.00\">samples = 1</text>\n",
       "<text text-anchor=\"start\" x=\"362\" y=\"-491.3\" font-family=\"Helvetica,sans-Serif\" font-size=\"14.00\">value = [1, 0]</text>\n",
       "<text text-anchor=\"start\" x=\"367.5\" y=\"-476.3\" font-family=\"Helvetica,sans-Serif\" font-size=\"14.00\">class = ckd</text>\n",
       "</g>\n",
       "<!-- 8&#45;&gt;20 -->\n",
       "<g id=\"edge20\" class=\"edge\">\n",
       "<title>8&#45;&gt;20</title>\n",
       "<path fill=\"none\" stroke=\"black\" d=\"M362.97,-579.91C368.53,-568.87 374.57,-556.9 380.18,-545.77\"/>\n",
       "<polygon fill=\"black\" stroke=\"black\" points=\"383.4,-547.17 384.77,-536.67 377.15,-544.02 383.4,-547.17\"/>\n",
       "</g>\n",
       "<!-- 10 -->\n",
       "<g id=\"node11\" class=\"node\">\n",
       "<title>10</title>\n",
       "<path fill=\"#7bbeee\" stroke=\"black\" d=\"M264,-425C264,-425 185,-425 185,-425 179,-425 173,-419 173,-413 173,-413 173,-354 173,-354 173,-348 179,-342 185,-342 185,-342 264,-342 264,-342 270,-342 276,-348 276,-354 276,-354 276,-413 276,-413 276,-419 270,-425 264,-425\"/>\n",
       "<text text-anchor=\"start\" x=\"196.5\" y=\"-409.8\" font-family=\"Helvetica,sans-Serif\" font-size=\"14.00\">sod ≤ 1.5</text>\n",
       "<text text-anchor=\"start\" x=\"189\" y=\"-394.8\" font-family=\"Helvetica,sans-Serif\" font-size=\"14.00\">gini = 0.375</text>\n",
       "<text text-anchor=\"start\" x=\"183.5\" y=\"-379.8\" font-family=\"Helvetica,sans-Serif\" font-size=\"14.00\">samples = 12</text>\n",
       "<text text-anchor=\"start\" x=\"185\" y=\"-364.8\" font-family=\"Helvetica,sans-Serif\" font-size=\"14.00\">value = [3, 9]</text>\n",
       "<text text-anchor=\"start\" x=\"181\" y=\"-349.8\" font-family=\"Helvetica,sans-Serif\" font-size=\"14.00\">class = notckd</text>\n",
       "</g>\n",
       "<!-- 9&#45;&gt;10 -->\n",
       "<g id=\"edge10\" class=\"edge\">\n",
       "<title>9&#45;&gt;10</title>\n",
       "<path fill=\"none\" stroke=\"black\" d=\"M263.68,-460.91C259.26,-452.29 254.55,-443.09 249.97,-434.17\"/>\n",
       "<polygon fill=\"black\" stroke=\"black\" points=\"252.96,-432.32 245.28,-425.02 246.73,-435.52 252.96,-432.32\"/>\n",
       "</g>\n",
       "<!-- 19 -->\n",
       "<g id=\"node20\" class=\"node\">\n",
       "<title>19</title>\n",
       "<path fill=\"#399de5\" stroke=\"black\" d=\"M385,-417.5C385,-417.5 306,-417.5 306,-417.5 300,-417.5 294,-411.5 294,-405.5 294,-405.5 294,-361.5 294,-361.5 294,-355.5 300,-349.5 306,-349.5 306,-349.5 385,-349.5 385,-349.5 391,-349.5 397,-355.5 397,-361.5 397,-361.5 397,-405.5 397,-405.5 397,-411.5 391,-417.5 385,-417.5\"/>\n",
       "<text text-anchor=\"start\" x=\"317.5\" y=\"-402.3\" font-family=\"Helvetica,sans-Serif\" font-size=\"14.00\">gini = 0.0</text>\n",
       "<text text-anchor=\"start\" x=\"308\" y=\"-387.3\" font-family=\"Helvetica,sans-Serif\" font-size=\"14.00\">samples = 6</text>\n",
       "<text text-anchor=\"start\" x=\"306\" y=\"-372.3\" font-family=\"Helvetica,sans-Serif\" font-size=\"14.00\">value = [0, 6]</text>\n",
       "<text text-anchor=\"start\" x=\"302\" y=\"-357.3\" font-family=\"Helvetica,sans-Serif\" font-size=\"14.00\">class = notckd</text>\n",
       "</g>\n",
       "<!-- 9&#45;&gt;19 -->\n",
       "<g id=\"edge19\" class=\"edge\">\n",
       "<title>9&#45;&gt;19</title>\n",
       "<path fill=\"none\" stroke=\"black\" d=\"M305.66,-460.91C311.42,-449.87 317.66,-437.9 323.46,-426.77\"/>\n",
       "<polygon fill=\"black\" stroke=\"black\" points=\"326.69,-428.15 328.21,-417.67 320.48,-424.92 326.69,-428.15\"/>\n",
       "</g>\n",
       "<!-- 11 -->\n",
       "<g id=\"node12\" class=\"node\">\n",
       "<title>11</title>\n",
       "<path fill=\"#f2c09c\" stroke=\"black\" d=\"M200,-306C200,-306 129,-306 129,-306 123,-306 117,-300 117,-294 117,-294 117,-235 117,-235 117,-229 123,-223 129,-223 129,-223 200,-223 200,-223 206,-223 212,-229 212,-235 212,-235 212,-294 212,-294 212,-300 206,-306 200,-306\"/>\n",
       "<text text-anchor=\"start\" x=\"140\" y=\"-290.8\" font-family=\"Helvetica,sans-Serif\" font-size=\"14.00\">pe ≤ 0.5</text>\n",
       "<text text-anchor=\"start\" x=\"129\" y=\"-275.8\" font-family=\"Helvetica,sans-Serif\" font-size=\"14.00\">gini = 0.444</text>\n",
       "<text text-anchor=\"start\" x=\"127\" y=\"-260.8\" font-family=\"Helvetica,sans-Serif\" font-size=\"14.00\">samples = 3</text>\n",
       "<text text-anchor=\"start\" x=\"125\" y=\"-245.8\" font-family=\"Helvetica,sans-Serif\" font-size=\"14.00\">value = [2, 1]</text>\n",
       "<text text-anchor=\"start\" x=\"130.5\" y=\"-230.8\" font-family=\"Helvetica,sans-Serif\" font-size=\"14.00\">class = ckd</text>\n",
       "</g>\n",
       "<!-- 10&#45;&gt;11 -->\n",
       "<g id=\"edge11\" class=\"edge\">\n",
       "<title>10&#45;&gt;11</title>\n",
       "<path fill=\"none\" stroke=\"black\" d=\"M203.68,-341.91C199.26,-333.29 194.55,-324.09 189.97,-315.17\"/>\n",
       "<polygon fill=\"black\" stroke=\"black\" points=\"192.96,-313.32 185.28,-306.02 186.73,-316.52 192.96,-313.32\"/>\n",
       "</g>\n",
       "<!-- 14 -->\n",
       "<g id=\"node15\" class=\"node\">\n",
       "<title>14</title>\n",
       "<path fill=\"#52a9e8\" stroke=\"black\" d=\"M325,-306C325,-306 246,-306 246,-306 240,-306 234,-300 234,-294 234,-294 234,-235 234,-235 234,-229 240,-223 246,-223 246,-223 325,-223 325,-223 331,-223 337,-229 337,-235 337,-235 337,-294 337,-294 337,-300 331,-306 325,-306\"/>\n",
       "<text text-anchor=\"start\" x=\"261\" y=\"-290.8\" font-family=\"Helvetica,sans-Serif\" font-size=\"14.00\">bp ≤ 0.5</text>\n",
       "<text text-anchor=\"start\" x=\"250\" y=\"-275.8\" font-family=\"Helvetica,sans-Serif\" font-size=\"14.00\">gini = 0.198</text>\n",
       "<text text-anchor=\"start\" x=\"248\" y=\"-260.8\" font-family=\"Helvetica,sans-Serif\" font-size=\"14.00\">samples = 9</text>\n",
       "<text text-anchor=\"start\" x=\"246\" y=\"-245.8\" font-family=\"Helvetica,sans-Serif\" font-size=\"14.00\">value = [1, 8]</text>\n",
       "<text text-anchor=\"start\" x=\"242\" y=\"-230.8\" font-family=\"Helvetica,sans-Serif\" font-size=\"14.00\">class = notckd</text>\n",
       "</g>\n",
       "<!-- 10&#45;&gt;14 -->\n",
       "<g id=\"edge14\" class=\"edge\">\n",
       "<title>10&#45;&gt;14</title>\n",
       "<path fill=\"none\" stroke=\"black\" d=\"M245.66,-341.91C250.21,-333.2 255.05,-323.9 259.75,-314.89\"/>\n",
       "<polygon fill=\"black\" stroke=\"black\" points=\"262.85,-316.51 264.37,-306.02 256.65,-313.27 262.85,-316.51\"/>\n",
       "</g>\n",
       "<!-- 12 -->\n",
       "<g id=\"node13\" class=\"node\">\n",
       "<title>12</title>\n",
       "<path fill=\"#e58139\" stroke=\"black\" d=\"M83,-179.5C83,-179.5 12,-179.5 12,-179.5 6,-179.5 0,-173.5 0,-167.5 0,-167.5 0,-123.5 0,-123.5 0,-117.5 6,-111.5 12,-111.5 12,-111.5 83,-111.5 83,-111.5 89,-111.5 95,-117.5 95,-123.5 95,-123.5 95,-167.5 95,-167.5 95,-173.5 89,-179.5 83,-179.5\"/>\n",
       "<text text-anchor=\"start\" x=\"19.5\" y=\"-164.3\" font-family=\"Helvetica,sans-Serif\" font-size=\"14.00\">gini = 0.0</text>\n",
       "<text text-anchor=\"start\" x=\"10\" y=\"-149.3\" font-family=\"Helvetica,sans-Serif\" font-size=\"14.00\">samples = 2</text>\n",
       "<text text-anchor=\"start\" x=\"8\" y=\"-134.3\" font-family=\"Helvetica,sans-Serif\" font-size=\"14.00\">value = [2, 0]</text>\n",
       "<text text-anchor=\"start\" x=\"13.5\" y=\"-119.3\" font-family=\"Helvetica,sans-Serif\" font-size=\"14.00\">class = ckd</text>\n",
       "</g>\n",
       "<!-- 11&#45;&gt;12 -->\n",
       "<g id=\"edge12\" class=\"edge\">\n",
       "<title>11&#45;&gt;12</title>\n",
       "<path fill=\"none\" stroke=\"black\" d=\"M123.91,-222.91C112.21,-211.21 99.46,-198.46 87.78,-186.78\"/>\n",
       "<polygon fill=\"black\" stroke=\"black\" points=\"90.21,-184.26 80.67,-179.67 85.26,-189.21 90.21,-184.26\"/>\n",
       "</g>\n",
       "<!-- 13 -->\n",
       "<g id=\"node14\" class=\"node\">\n",
       "<title>13</title>\n",
       "<path fill=\"#399de5\" stroke=\"black\" d=\"M204,-179.5C204,-179.5 125,-179.5 125,-179.5 119,-179.5 113,-173.5 113,-167.5 113,-167.5 113,-123.5 113,-123.5 113,-117.5 119,-111.5 125,-111.5 125,-111.5 204,-111.5 204,-111.5 210,-111.5 216,-117.5 216,-123.5 216,-123.5 216,-167.5 216,-167.5 216,-173.5 210,-179.5 204,-179.5\"/>\n",
       "<text text-anchor=\"start\" x=\"136.5\" y=\"-164.3\" font-family=\"Helvetica,sans-Serif\" font-size=\"14.00\">gini = 0.0</text>\n",
       "<text text-anchor=\"start\" x=\"127\" y=\"-149.3\" font-family=\"Helvetica,sans-Serif\" font-size=\"14.00\">samples = 1</text>\n",
       "<text text-anchor=\"start\" x=\"125\" y=\"-134.3\" font-family=\"Helvetica,sans-Serif\" font-size=\"14.00\">value = [0, 1]</text>\n",
       "<text text-anchor=\"start\" x=\"121\" y=\"-119.3\" font-family=\"Helvetica,sans-Serif\" font-size=\"14.00\">class = notckd</text>\n",
       "</g>\n",
       "<!-- 11&#45;&gt;13 -->\n",
       "<g id=\"edge13\" class=\"edge\">\n",
       "<title>11&#45;&gt;13</title>\n",
       "<path fill=\"none\" stroke=\"black\" d=\"M164.5,-222.91C164.5,-212.2 164.5,-200.62 164.5,-189.78\"/>\n",
       "<polygon fill=\"black\" stroke=\"black\" points=\"168,-189.67 164.5,-179.67 161,-189.67 168,-189.67\"/>\n",
       "</g>\n",
       "<!-- 15 -->\n",
       "<g id=\"node16\" class=\"node\">\n",
       "<title>15</title>\n",
       "<path fill=\"#399de5\" stroke=\"black\" d=\"M325,-179.5C325,-179.5 246,-179.5 246,-179.5 240,-179.5 234,-173.5 234,-167.5 234,-167.5 234,-123.5 234,-123.5 234,-117.5 240,-111.5 246,-111.5 246,-111.5 325,-111.5 325,-111.5 331,-111.5 337,-117.5 337,-123.5 337,-123.5 337,-167.5 337,-167.5 337,-173.5 331,-179.5 325,-179.5\"/>\n",
       "<text text-anchor=\"start\" x=\"257.5\" y=\"-164.3\" font-family=\"Helvetica,sans-Serif\" font-size=\"14.00\">gini = 0.0</text>\n",
       "<text text-anchor=\"start\" x=\"248\" y=\"-149.3\" font-family=\"Helvetica,sans-Serif\" font-size=\"14.00\">samples = 7</text>\n",
       "<text text-anchor=\"start\" x=\"246\" y=\"-134.3\" font-family=\"Helvetica,sans-Serif\" font-size=\"14.00\">value = [0, 7]</text>\n",
       "<text text-anchor=\"start\" x=\"242\" y=\"-119.3\" font-family=\"Helvetica,sans-Serif\" font-size=\"14.00\">class = notckd</text>\n",
       "</g>\n",
       "<!-- 14&#45;&gt;15 -->\n",
       "<g id=\"edge15\" class=\"edge\">\n",
       "<title>14&#45;&gt;15</title>\n",
       "<path fill=\"none\" stroke=\"black\" d=\"M285.5,-222.91C285.5,-212.2 285.5,-200.62 285.5,-189.78\"/>\n",
       "<polygon fill=\"black\" stroke=\"black\" points=\"289,-189.67 285.5,-179.67 282,-189.67 289,-189.67\"/>\n",
       "</g>\n",
       "<!-- 16 -->\n",
       "<g id=\"node17\" class=\"node\">\n",
       "<title>16</title>\n",
       "<path fill=\"#ffffff\" stroke=\"black\" d=\"M438,-187C438,-187 367,-187 367,-187 361,-187 355,-181 355,-175 355,-175 355,-116 355,-116 355,-110 361,-104 367,-104 367,-104 438,-104 438,-104 444,-104 450,-110 450,-116 450,-116 450,-175 450,-175 450,-181 444,-187 438,-187\"/>\n",
       "<text text-anchor=\"start\" x=\"376\" y=\"-171.8\" font-family=\"Helvetica,sans-Serif\" font-size=\"14.00\">pot ≤ 0.5</text>\n",
       "<text text-anchor=\"start\" x=\"374.5\" y=\"-156.8\" font-family=\"Helvetica,sans-Serif\" font-size=\"14.00\">gini = 0.5</text>\n",
       "<text text-anchor=\"start\" x=\"365\" y=\"-141.8\" font-family=\"Helvetica,sans-Serif\" font-size=\"14.00\">samples = 2</text>\n",
       "<text text-anchor=\"start\" x=\"363\" y=\"-126.8\" font-family=\"Helvetica,sans-Serif\" font-size=\"14.00\">value = [1, 1]</text>\n",
       "<text text-anchor=\"start\" x=\"368.5\" y=\"-111.8\" font-family=\"Helvetica,sans-Serif\" font-size=\"14.00\">class = ckd</text>\n",
       "</g>\n",
       "<!-- 14&#45;&gt;16 -->\n",
       "<g id=\"edge16\" class=\"edge\">\n",
       "<title>14&#45;&gt;16</title>\n",
       "<path fill=\"none\" stroke=\"black\" d=\"M326.09,-222.91C335.35,-213.65 345.27,-203.73 354.79,-194.21\"/>\n",
       "<polygon fill=\"black\" stroke=\"black\" points=\"357.38,-196.57 361.98,-187.02 352.43,-191.62 357.38,-196.57\"/>\n",
       "</g>\n",
       "<!-- 17 -->\n",
       "<g id=\"node18\" class=\"node\">\n",
       "<title>17</title>\n",
       "<path fill=\"#399de5\" stroke=\"black\" d=\"M383,-68C383,-68 304,-68 304,-68 298,-68 292,-62 292,-56 292,-56 292,-12 292,-12 292,-6 298,0 304,0 304,0 383,0 383,0 389,0 395,-6 395,-12 395,-12 395,-56 395,-56 395,-62 389,-68 383,-68\"/>\n",
       "<text text-anchor=\"start\" x=\"315.5\" y=\"-52.8\" font-family=\"Helvetica,sans-Serif\" font-size=\"14.00\">gini = 0.0</text>\n",
       "<text text-anchor=\"start\" x=\"306\" y=\"-37.8\" font-family=\"Helvetica,sans-Serif\" font-size=\"14.00\">samples = 1</text>\n",
       "<text text-anchor=\"start\" x=\"304\" y=\"-22.8\" font-family=\"Helvetica,sans-Serif\" font-size=\"14.00\">value = [0, 1]</text>\n",
       "<text text-anchor=\"start\" x=\"300\" y=\"-7.8\" font-family=\"Helvetica,sans-Serif\" font-size=\"14.00\">class = notckd</text>\n",
       "</g>\n",
       "<!-- 16&#45;&gt;17 -->\n",
       "<g id=\"edge17\" class=\"edge\">\n",
       "<title>16&#45;&gt;17</title>\n",
       "<path fill=\"none\" stroke=\"black\" d=\"M380.53,-103.73C375.86,-95.06 370.92,-85.9 366.23,-77.18\"/>\n",
       "<polygon fill=\"black\" stroke=\"black\" points=\"369.27,-75.44 361.44,-68.3 363.1,-78.76 369.27,-75.44\"/>\n",
       "</g>\n",
       "<!-- 18 -->\n",
       "<g id=\"node19\" class=\"node\">\n",
       "<title>18</title>\n",
       "<path fill=\"#e58139\" stroke=\"black\" d=\"M496,-68C496,-68 425,-68 425,-68 419,-68 413,-62 413,-56 413,-56 413,-12 413,-12 413,-6 419,0 425,0 425,0 496,0 496,0 502,0 508,-6 508,-12 508,-12 508,-56 508,-56 508,-62 502,-68 496,-68\"/>\n",
       "<text text-anchor=\"start\" x=\"432.5\" y=\"-52.8\" font-family=\"Helvetica,sans-Serif\" font-size=\"14.00\">gini = 0.0</text>\n",
       "<text text-anchor=\"start\" x=\"423\" y=\"-37.8\" font-family=\"Helvetica,sans-Serif\" font-size=\"14.00\">samples = 1</text>\n",
       "<text text-anchor=\"start\" x=\"421\" y=\"-22.8\" font-family=\"Helvetica,sans-Serif\" font-size=\"14.00\">value = [1, 0]</text>\n",
       "<text text-anchor=\"start\" x=\"426.5\" y=\"-7.8\" font-family=\"Helvetica,sans-Serif\" font-size=\"14.00\">class = ckd</text>\n",
       "</g>\n",
       "<!-- 16&#45;&gt;18 -->\n",
       "<g id=\"edge18\" class=\"edge\">\n",
       "<title>16&#45;&gt;18</title>\n",
       "<path fill=\"none\" stroke=\"black\" d=\"M424.1,-103.73C428.69,-95.06 433.54,-85.9 438.16,-77.18\"/>\n",
       "<polygon fill=\"black\" stroke=\"black\" points=\"441.27,-78.77 442.86,-68.3 435.09,-75.5 441.27,-78.77\"/>\n",
       "</g>\n",
       "<!-- 24 -->\n",
       "<g id=\"node25\" class=\"node\">\n",
       "<title>24</title>\n",
       "<path fill=\"#399de5\" stroke=\"black\" d=\"M654,-893.5C654,-893.5 575,-893.5 575,-893.5 569,-893.5 563,-887.5 563,-881.5 563,-881.5 563,-837.5 563,-837.5 563,-831.5 569,-825.5 575,-825.5 575,-825.5 654,-825.5 654,-825.5 660,-825.5 666,-831.5 666,-837.5 666,-837.5 666,-881.5 666,-881.5 666,-887.5 660,-893.5 654,-893.5\"/>\n",
       "<text text-anchor=\"start\" x=\"586.5\" y=\"-878.3\" font-family=\"Helvetica,sans-Serif\" font-size=\"14.00\">gini = 0.0</text>\n",
       "<text text-anchor=\"start\" x=\"577\" y=\"-863.3\" font-family=\"Helvetica,sans-Serif\" font-size=\"14.00\">samples = 3</text>\n",
       "<text text-anchor=\"start\" x=\"575\" y=\"-848.3\" font-family=\"Helvetica,sans-Serif\" font-size=\"14.00\">value = [0, 3]</text>\n",
       "<text text-anchor=\"start\" x=\"571\" y=\"-833.3\" font-family=\"Helvetica,sans-Serif\" font-size=\"14.00\">class = notckd</text>\n",
       "</g>\n",
       "<!-- 23&#45;&gt;24 -->\n",
       "<g id=\"edge24\" class=\"edge\">\n",
       "<title>23&#45;&gt;24</title>\n",
       "<path fill=\"none\" stroke=\"black\" d=\"M649.76,-936.91C644.67,-925.87 639.15,-913.9 634.01,-902.77\"/>\n",
       "<polygon fill=\"black\" stroke=\"black\" points=\"637.18,-901.28 629.81,-893.67 630.82,-904.21 637.18,-901.28\"/>\n",
       "</g>\n",
       "<!-- 25 -->\n",
       "<g id=\"node26\" class=\"node\">\n",
       "<title>25</title>\n",
       "<path fill=\"#f2c09c\" stroke=\"black\" d=\"M767,-901C767,-901 696,-901 696,-901 690,-901 684,-895 684,-889 684,-889 684,-830 684,-830 684,-824 690,-818 696,-818 696,-818 767,-818 767,-818 773,-818 779,-824 779,-830 779,-830 779,-889 779,-889 779,-895 773,-901 767,-901\"/>\n",
       "<text text-anchor=\"start\" x=\"697\" y=\"-885.8\" font-family=\"Helvetica,sans-Serif\" font-size=\"14.00\">hemo ≤ 0.5</text>\n",
       "<text text-anchor=\"start\" x=\"696\" y=\"-870.8\" font-family=\"Helvetica,sans-Serif\" font-size=\"14.00\">gini = 0.444</text>\n",
       "<text text-anchor=\"start\" x=\"694\" y=\"-855.8\" font-family=\"Helvetica,sans-Serif\" font-size=\"14.00\">samples = 3</text>\n",
       "<text text-anchor=\"start\" x=\"692\" y=\"-840.8\" font-family=\"Helvetica,sans-Serif\" font-size=\"14.00\">value = [2, 1]</text>\n",
       "<text text-anchor=\"start\" x=\"697.5\" y=\"-825.8\" font-family=\"Helvetica,sans-Serif\" font-size=\"14.00\">class = ckd</text>\n",
       "</g>\n",
       "<!-- 23&#45;&gt;25 -->\n",
       "<g id=\"edge25\" class=\"edge\">\n",
       "<title>23&#45;&gt;25</title>\n",
       "<path fill=\"none\" stroke=\"black\" d=\"M690.36,-936.91C695.05,-928.2 700.06,-918.9 704.9,-909.89\"/>\n",
       "<polygon fill=\"black\" stroke=\"black\" points=\"708.02,-911.48 709.68,-901.02 701.86,-908.17 708.02,-911.48\"/>\n",
       "</g>\n",
       "<!-- 26 -->\n",
       "<g id=\"node27\" class=\"node\">\n",
       "<title>26</title>\n",
       "<path fill=\"#399de5\" stroke=\"black\" d=\"M742,-774.5C742,-774.5 663,-774.5 663,-774.5 657,-774.5 651,-768.5 651,-762.5 651,-762.5 651,-718.5 651,-718.5 651,-712.5 657,-706.5 663,-706.5 663,-706.5 742,-706.5 742,-706.5 748,-706.5 754,-712.5 754,-718.5 754,-718.5 754,-762.5 754,-762.5 754,-768.5 748,-774.5 742,-774.5\"/>\n",
       "<text text-anchor=\"start\" x=\"674.5\" y=\"-759.3\" font-family=\"Helvetica,sans-Serif\" font-size=\"14.00\">gini = 0.0</text>\n",
       "<text text-anchor=\"start\" x=\"665\" y=\"-744.3\" font-family=\"Helvetica,sans-Serif\" font-size=\"14.00\">samples = 1</text>\n",
       "<text text-anchor=\"start\" x=\"663\" y=\"-729.3\" font-family=\"Helvetica,sans-Serif\" font-size=\"14.00\">value = [0, 1]</text>\n",
       "<text text-anchor=\"start\" x=\"659\" y=\"-714.3\" font-family=\"Helvetica,sans-Serif\" font-size=\"14.00\">class = notckd</text>\n",
       "</g>\n",
       "<!-- 25&#45;&gt;26 -->\n",
       "<g id=\"edge26\" class=\"edge\">\n",
       "<title>25&#45;&gt;26</title>\n",
       "<path fill=\"none\" stroke=\"black\" d=\"M721.44,-817.91C718.76,-807.09 715.85,-795.38 713.14,-784.44\"/>\n",
       "<polygon fill=\"black\" stroke=\"black\" points=\"716.52,-783.53 710.72,-774.67 709.73,-785.22 716.52,-783.53\"/>\n",
       "</g>\n",
       "<!-- 27 -->\n",
       "<g id=\"node28\" class=\"node\">\n",
       "<title>27</title>\n",
       "<path fill=\"#e58139\" stroke=\"black\" d=\"M855,-774.5C855,-774.5 784,-774.5 784,-774.5 778,-774.5 772,-768.5 772,-762.5 772,-762.5 772,-718.5 772,-718.5 772,-712.5 778,-706.5 784,-706.5 784,-706.5 855,-706.5 855,-706.5 861,-706.5 867,-712.5 867,-718.5 867,-718.5 867,-762.5 867,-762.5 867,-768.5 861,-774.5 855,-774.5\"/>\n",
       "<text text-anchor=\"start\" x=\"791.5\" y=\"-759.3\" font-family=\"Helvetica,sans-Serif\" font-size=\"14.00\">gini = 0.0</text>\n",
       "<text text-anchor=\"start\" x=\"782\" y=\"-744.3\" font-family=\"Helvetica,sans-Serif\" font-size=\"14.00\">samples = 2</text>\n",
       "<text text-anchor=\"start\" x=\"780\" y=\"-729.3\" font-family=\"Helvetica,sans-Serif\" font-size=\"14.00\">value = [2, 0]</text>\n",
       "<text text-anchor=\"start\" x=\"785.5\" y=\"-714.3\" font-family=\"Helvetica,sans-Serif\" font-size=\"14.00\">class = ckd</text>\n",
       "</g>\n",
       "<!-- 25&#45;&gt;27 -->\n",
       "<g id=\"edge27\" class=\"edge\">\n",
       "<title>25&#45;&gt;27</title>\n",
       "<path fill=\"none\" stroke=\"black\" d=\"M762.03,-817.91C770.58,-806.54 779.88,-794.18 788.46,-782.77\"/>\n",
       "<polygon fill=\"black\" stroke=\"black\" points=\"791.34,-784.76 794.55,-774.67 785.75,-780.55 791.34,-784.76\"/>\n",
       "</g>\n",
       "<!-- 29 -->\n",
       "<g id=\"node30\" class=\"node\">\n",
       "<title>29</title>\n",
       "<path fill=\"#eca06a\" stroke=\"black\" d=\"M880,-1020C880,-1020 809,-1020 809,-1020 803,-1020 797,-1014 797,-1008 797,-1008 797,-949 797,-949 797,-943 803,-937 809,-937 809,-937 880,-937 880,-937 886,-937 892,-943 892,-949 892,-949 892,-1008 892,-1008 892,-1014 886,-1020 880,-1020\"/>\n",
       "<text text-anchor=\"start\" x=\"820\" y=\"-1004.8\" font-family=\"Helvetica,sans-Serif\" font-size=\"14.00\">su ≤ 1.0</text>\n",
       "<text text-anchor=\"start\" x=\"812.5\" y=\"-989.8\" font-family=\"Helvetica,sans-Serif\" font-size=\"14.00\">gini = 0.32</text>\n",
       "<text text-anchor=\"start\" x=\"807\" y=\"-974.8\" font-family=\"Helvetica,sans-Serif\" font-size=\"14.00\">samples = 5</text>\n",
       "<text text-anchor=\"start\" x=\"805\" y=\"-959.8\" font-family=\"Helvetica,sans-Serif\" font-size=\"14.00\">value = [4, 1]</text>\n",
       "<text text-anchor=\"start\" x=\"810.5\" y=\"-944.8\" font-family=\"Helvetica,sans-Serif\" font-size=\"14.00\">class = ckd</text>\n",
       "</g>\n",
       "<!-- 28&#45;&gt;29 -->\n",
       "<g id=\"edge29\" class=\"edge\">\n",
       "<title>28&#45;&gt;29</title>\n",
       "<path fill=\"none\" stroke=\"black\" d=\"M880.42,-1055.91C876.37,-1047.29 872.04,-1038.09 867.85,-1029.17\"/>\n",
       "<polygon fill=\"black\" stroke=\"black\" points=\"870.97,-1027.58 863.55,-1020.02 864.64,-1030.56 870.97,-1027.58\"/>\n",
       "</g>\n",
       "<!-- 32 -->\n",
       "<g id=\"node33\" class=\"node\">\n",
       "<title>32</title>\n",
       "<path fill=\"#399de5\" stroke=\"black\" d=\"M1001,-1012.5C1001,-1012.5 922,-1012.5 922,-1012.5 916,-1012.5 910,-1006.5 910,-1000.5 910,-1000.5 910,-956.5 910,-956.5 910,-950.5 916,-944.5 922,-944.5 922,-944.5 1001,-944.5 1001,-944.5 1007,-944.5 1013,-950.5 1013,-956.5 1013,-956.5 1013,-1000.5 1013,-1000.5 1013,-1006.5 1007,-1012.5 1001,-1012.5\"/>\n",
       "<text text-anchor=\"start\" x=\"933.5\" y=\"-997.3\" font-family=\"Helvetica,sans-Serif\" font-size=\"14.00\">gini = 0.0</text>\n",
       "<text text-anchor=\"start\" x=\"924\" y=\"-982.3\" font-family=\"Helvetica,sans-Serif\" font-size=\"14.00\">samples = 5</text>\n",
       "<text text-anchor=\"start\" x=\"922\" y=\"-967.3\" font-family=\"Helvetica,sans-Serif\" font-size=\"14.00\">value = [0, 5]</text>\n",
       "<text text-anchor=\"start\" x=\"918\" y=\"-952.3\" font-family=\"Helvetica,sans-Serif\" font-size=\"14.00\">class = notckd</text>\n",
       "</g>\n",
       "<!-- 28&#45;&gt;32 -->\n",
       "<g id=\"edge32\" class=\"edge\">\n",
       "<title>28&#45;&gt;32</title>\n",
       "<path fill=\"none\" stroke=\"black\" d=\"M921.01,-1055.91C926.86,-1044.87 933.2,-1032.9 939.1,-1021.77\"/>\n",
       "<polygon fill=\"black\" stroke=\"black\" points=\"942.33,-1023.14 943.92,-1012.67 936.15,-1019.86 942.33,-1023.14\"/>\n",
       "</g>\n",
       "<!-- 30 -->\n",
       "<g id=\"node31\" class=\"node\">\n",
       "<title>30</title>\n",
       "<path fill=\"#e58139\" stroke=\"black\" d=\"M880,-893.5C880,-893.5 809,-893.5 809,-893.5 803,-893.5 797,-887.5 797,-881.5 797,-881.5 797,-837.5 797,-837.5 797,-831.5 803,-825.5 809,-825.5 809,-825.5 880,-825.5 880,-825.5 886,-825.5 892,-831.5 892,-837.5 892,-837.5 892,-881.5 892,-881.5 892,-887.5 886,-893.5 880,-893.5\"/>\n",
       "<text text-anchor=\"start\" x=\"816.5\" y=\"-878.3\" font-family=\"Helvetica,sans-Serif\" font-size=\"14.00\">gini = 0.0</text>\n",
       "<text text-anchor=\"start\" x=\"807\" y=\"-863.3\" font-family=\"Helvetica,sans-Serif\" font-size=\"14.00\">samples = 4</text>\n",
       "<text text-anchor=\"start\" x=\"805\" y=\"-848.3\" font-family=\"Helvetica,sans-Serif\" font-size=\"14.00\">value = [4, 0]</text>\n",
       "<text text-anchor=\"start\" x=\"810.5\" y=\"-833.3\" font-family=\"Helvetica,sans-Serif\" font-size=\"14.00\">class = ckd</text>\n",
       "</g>\n",
       "<!-- 29&#45;&gt;30 -->\n",
       "<g id=\"edge30\" class=\"edge\">\n",
       "<title>29&#45;&gt;30</title>\n",
       "<path fill=\"none\" stroke=\"black\" d=\"M844.5,-936.91C844.5,-926.2 844.5,-914.62 844.5,-903.78\"/>\n",
       "<polygon fill=\"black\" stroke=\"black\" points=\"848,-903.67 844.5,-893.67 841,-903.67 848,-903.67\"/>\n",
       "</g>\n",
       "<!-- 31 -->\n",
       "<g id=\"node32\" class=\"node\">\n",
       "<title>31</title>\n",
       "<path fill=\"#399de5\" stroke=\"black\" d=\"M1001,-893.5C1001,-893.5 922,-893.5 922,-893.5 916,-893.5 910,-887.5 910,-881.5 910,-881.5 910,-837.5 910,-837.5 910,-831.5 916,-825.5 922,-825.5 922,-825.5 1001,-825.5 1001,-825.5 1007,-825.5 1013,-831.5 1013,-837.5 1013,-837.5 1013,-881.5 1013,-881.5 1013,-887.5 1007,-893.5 1001,-893.5\"/>\n",
       "<text text-anchor=\"start\" x=\"933.5\" y=\"-878.3\" font-family=\"Helvetica,sans-Serif\" font-size=\"14.00\">gini = 0.0</text>\n",
       "<text text-anchor=\"start\" x=\"924\" y=\"-863.3\" font-family=\"Helvetica,sans-Serif\" font-size=\"14.00\">samples = 1</text>\n",
       "<text text-anchor=\"start\" x=\"922\" y=\"-848.3\" font-family=\"Helvetica,sans-Serif\" font-size=\"14.00\">value = [0, 1]</text>\n",
       "<text text-anchor=\"start\" x=\"918\" y=\"-833.3\" font-family=\"Helvetica,sans-Serif\" font-size=\"14.00\">class = notckd</text>\n",
       "</g>\n",
       "<!-- 29&#45;&gt;31 -->\n",
       "<g id=\"edge31\" class=\"edge\">\n",
       "<title>29&#45;&gt;31</title>\n",
       "<path fill=\"none\" stroke=\"black\" d=\"M885.09,-936.91C896.79,-925.21 909.54,-912.46 921.22,-900.78\"/>\n",
       "<polygon fill=\"black\" stroke=\"black\" points=\"923.74,-903.21 928.33,-893.67 918.79,-898.26 923.74,-903.21\"/>\n",
       "</g>\n",
       "<!-- 34 -->\n",
       "<g id=\"node35\" class=\"node\">\n",
       "<title>34</title>\n",
       "<path fill=\"#e78c4b\" stroke=\"black\" d=\"M1121.5,-1139C1121.5,-1139 1043.5,-1139 1043.5,-1139 1037.5,-1139 1031.5,-1133 1031.5,-1127 1031.5,-1127 1031.5,-1068 1031.5,-1068 1031.5,-1062 1037.5,-1056 1043.5,-1056 1043.5,-1056 1121.5,-1056 1121.5,-1056 1127.5,-1056 1133.5,-1062 1133.5,-1068 1133.5,-1068 1133.5,-1127 1133.5,-1127 1133.5,-1133 1127.5,-1139 1121.5,-1139\"/>\n",
       "<text text-anchor=\"start\" x=\"1060\" y=\"-1123.8\" font-family=\"Helvetica,sans-Serif\" font-size=\"14.00\">al ≤ 1.0</text>\n",
       "<text text-anchor=\"start\" x=\"1047\" y=\"-1108.8\" font-family=\"Helvetica,sans-Serif\" font-size=\"14.00\">gini = 0.153</text>\n",
       "<text text-anchor=\"start\" x=\"1041.5\" y=\"-1093.8\" font-family=\"Helvetica,sans-Serif\" font-size=\"14.00\">samples = 24</text>\n",
       "<text text-anchor=\"start\" x=\"1039.5\" y=\"-1078.8\" font-family=\"Helvetica,sans-Serif\" font-size=\"14.00\">value = [22, 2]</text>\n",
       "<text text-anchor=\"start\" x=\"1048.5\" y=\"-1063.8\" font-family=\"Helvetica,sans-Serif\" font-size=\"14.00\">class = ckd</text>\n",
       "</g>\n",
       "<!-- 33&#45;&gt;34 -->\n",
       "<g id=\"edge34\" class=\"edge\">\n",
       "<title>33&#45;&gt;34</title>\n",
       "<path fill=\"none\" stroke=\"black\" d=\"M1082.5,-1174.91C1082.5,-1166.65 1082.5,-1157.86 1082.5,-1149.3\"/>\n",
       "<polygon fill=\"black\" stroke=\"black\" points=\"1086,-1149.02 1082.5,-1139.02 1079,-1149.02 1086,-1149.02\"/>\n",
       "</g>\n",
       "<!-- 39 -->\n",
       "<g id=\"node40\" class=\"node\">\n",
       "<title>39</title>\n",
       "<path fill=\"#399de5\" stroke=\"black\" d=\"M1243,-1131.5C1243,-1131.5 1164,-1131.5 1164,-1131.5 1158,-1131.5 1152,-1125.5 1152,-1119.5 1152,-1119.5 1152,-1075.5 1152,-1075.5 1152,-1069.5 1158,-1063.5 1164,-1063.5 1164,-1063.5 1243,-1063.5 1243,-1063.5 1249,-1063.5 1255,-1069.5 1255,-1075.5 1255,-1075.5 1255,-1119.5 1255,-1119.5 1255,-1125.5 1249,-1131.5 1243,-1131.5\"/>\n",
       "<text text-anchor=\"start\" x=\"1175.5\" y=\"-1116.3\" font-family=\"Helvetica,sans-Serif\" font-size=\"14.00\">gini = 0.0</text>\n",
       "<text text-anchor=\"start\" x=\"1166\" y=\"-1101.3\" font-family=\"Helvetica,sans-Serif\" font-size=\"14.00\">samples = 3</text>\n",
       "<text text-anchor=\"start\" x=\"1164\" y=\"-1086.3\" font-family=\"Helvetica,sans-Serif\" font-size=\"14.00\">value = [0, 3]</text>\n",
       "<text text-anchor=\"start\" x=\"1160\" y=\"-1071.3\" font-family=\"Helvetica,sans-Serif\" font-size=\"14.00\">class = notckd</text>\n",
       "</g>\n",
       "<!-- 33&#45;&gt;39 -->\n",
       "<g id=\"edge39\" class=\"edge\">\n",
       "<title>33&#45;&gt;39</title>\n",
       "<path fill=\"none\" stroke=\"black\" d=\"M1124.48,-1174.91C1136.58,-1163.21 1149.77,-1150.46 1161.84,-1138.78\"/>\n",
       "<polygon fill=\"black\" stroke=\"black\" points=\"1164.44,-1141.13 1169.2,-1131.67 1159.58,-1136.1 1164.44,-1141.13\"/>\n",
       "</g>\n",
       "<!-- 35 -->\n",
       "<g id=\"node36\" class=\"node\">\n",
       "<title>35</title>\n",
       "<path fill=\"#e68742\" stroke=\"black\" d=\"M1121.5,-1020C1121.5,-1020 1043.5,-1020 1043.5,-1020 1037.5,-1020 1031.5,-1014 1031.5,-1008 1031.5,-1008 1031.5,-949 1031.5,-949 1031.5,-943 1037.5,-937 1043.5,-937 1043.5,-937 1121.5,-937 1121.5,-937 1127.5,-937 1133.5,-943 1133.5,-949 1133.5,-949 1133.5,-1008 1133.5,-1008 1133.5,-1014 1127.5,-1020 1121.5,-1020\"/>\n",
       "<text text-anchor=\"start\" x=\"1054\" y=\"-1004.8\" font-family=\"Helvetica,sans-Serif\" font-size=\"14.00\">ane ≤ 0.5</text>\n",
       "<text text-anchor=\"start\" x=\"1047\" y=\"-989.8\" font-family=\"Helvetica,sans-Serif\" font-size=\"14.00\">gini = 0.083</text>\n",
       "<text text-anchor=\"start\" x=\"1041.5\" y=\"-974.8\" font-family=\"Helvetica,sans-Serif\" font-size=\"14.00\">samples = 23</text>\n",
       "<text text-anchor=\"start\" x=\"1039.5\" y=\"-959.8\" font-family=\"Helvetica,sans-Serif\" font-size=\"14.00\">value = [22, 1]</text>\n",
       "<text text-anchor=\"start\" x=\"1048.5\" y=\"-944.8\" font-family=\"Helvetica,sans-Serif\" font-size=\"14.00\">class = ckd</text>\n",
       "</g>\n",
       "<!-- 34&#45;&gt;35 -->\n",
       "<g id=\"edge35\" class=\"edge\">\n",
       "<title>34&#45;&gt;35</title>\n",
       "<path fill=\"none\" stroke=\"black\" d=\"M1082.5,-1055.91C1082.5,-1047.65 1082.5,-1038.86 1082.5,-1030.3\"/>\n",
       "<polygon fill=\"black\" stroke=\"black\" points=\"1086,-1030.02 1082.5,-1020.02 1079,-1030.02 1086,-1030.02\"/>\n",
       "</g>\n",
       "<!-- 38 -->\n",
       "<g id=\"node39\" class=\"node\">\n",
       "<title>38</title>\n",
       "<path fill=\"#399de5\" stroke=\"black\" d=\"M1243,-1012.5C1243,-1012.5 1164,-1012.5 1164,-1012.5 1158,-1012.5 1152,-1006.5 1152,-1000.5 1152,-1000.5 1152,-956.5 1152,-956.5 1152,-950.5 1158,-944.5 1164,-944.5 1164,-944.5 1243,-944.5 1243,-944.5 1249,-944.5 1255,-950.5 1255,-956.5 1255,-956.5 1255,-1000.5 1255,-1000.5 1255,-1006.5 1249,-1012.5 1243,-1012.5\"/>\n",
       "<text text-anchor=\"start\" x=\"1175.5\" y=\"-997.3\" font-family=\"Helvetica,sans-Serif\" font-size=\"14.00\">gini = 0.0</text>\n",
       "<text text-anchor=\"start\" x=\"1166\" y=\"-982.3\" font-family=\"Helvetica,sans-Serif\" font-size=\"14.00\">samples = 1</text>\n",
       "<text text-anchor=\"start\" x=\"1164\" y=\"-967.3\" font-family=\"Helvetica,sans-Serif\" font-size=\"14.00\">value = [0, 1]</text>\n",
       "<text text-anchor=\"start\" x=\"1160\" y=\"-952.3\" font-family=\"Helvetica,sans-Serif\" font-size=\"14.00\">class = notckd</text>\n",
       "</g>\n",
       "<!-- 34&#45;&gt;38 -->\n",
       "<g id=\"edge38\" class=\"edge\">\n",
       "<title>34&#45;&gt;38</title>\n",
       "<path fill=\"none\" stroke=\"black\" d=\"M1124.48,-1055.91C1136.58,-1044.21 1149.77,-1031.46 1161.84,-1019.78\"/>\n",
       "<polygon fill=\"black\" stroke=\"black\" points=\"1164.44,-1022.13 1169.2,-1012.67 1159.58,-1017.1 1164.44,-1022.13\"/>\n",
       "</g>\n",
       "<!-- 36 -->\n",
       "<g id=\"node37\" class=\"node\">\n",
       "<title>36</title>\n",
       "<path fill=\"#e58139\" stroke=\"black\" d=\"M1121.5,-893.5C1121.5,-893.5 1043.5,-893.5 1043.5,-893.5 1037.5,-893.5 1031.5,-887.5 1031.5,-881.5 1031.5,-881.5 1031.5,-837.5 1031.5,-837.5 1031.5,-831.5 1037.5,-825.5 1043.5,-825.5 1043.5,-825.5 1121.5,-825.5 1121.5,-825.5 1127.5,-825.5 1133.5,-831.5 1133.5,-837.5 1133.5,-837.5 1133.5,-881.5 1133.5,-881.5 1133.5,-887.5 1127.5,-893.5 1121.5,-893.5\"/>\n",
       "<text text-anchor=\"start\" x=\"1054.5\" y=\"-878.3\" font-family=\"Helvetica,sans-Serif\" font-size=\"14.00\">gini = 0.0</text>\n",
       "<text text-anchor=\"start\" x=\"1041.5\" y=\"-863.3\" font-family=\"Helvetica,sans-Serif\" font-size=\"14.00\">samples = 22</text>\n",
       "<text text-anchor=\"start\" x=\"1039.5\" y=\"-848.3\" font-family=\"Helvetica,sans-Serif\" font-size=\"14.00\">value = [22, 0]</text>\n",
       "<text text-anchor=\"start\" x=\"1048.5\" y=\"-833.3\" font-family=\"Helvetica,sans-Serif\" font-size=\"14.00\">class = ckd</text>\n",
       "</g>\n",
       "<!-- 35&#45;&gt;36 -->\n",
       "<g id=\"edge36\" class=\"edge\">\n",
       "<title>35&#45;&gt;36</title>\n",
       "<path fill=\"none\" stroke=\"black\" d=\"M1082.5,-936.91C1082.5,-926.2 1082.5,-914.62 1082.5,-903.78\"/>\n",
       "<polygon fill=\"black\" stroke=\"black\" points=\"1086,-903.67 1082.5,-893.67 1079,-903.67 1086,-903.67\"/>\n",
       "</g>\n",
       "<!-- 37 -->\n",
       "<g id=\"node38\" class=\"node\">\n",
       "<title>37</title>\n",
       "<path fill=\"#399de5\" stroke=\"black\" d=\"M1243,-893.5C1243,-893.5 1164,-893.5 1164,-893.5 1158,-893.5 1152,-887.5 1152,-881.5 1152,-881.5 1152,-837.5 1152,-837.5 1152,-831.5 1158,-825.5 1164,-825.5 1164,-825.5 1243,-825.5 1243,-825.5 1249,-825.5 1255,-831.5 1255,-837.5 1255,-837.5 1255,-881.5 1255,-881.5 1255,-887.5 1249,-893.5 1243,-893.5\"/>\n",
       "<text text-anchor=\"start\" x=\"1175.5\" y=\"-878.3\" font-family=\"Helvetica,sans-Serif\" font-size=\"14.00\">gini = 0.0</text>\n",
       "<text text-anchor=\"start\" x=\"1166\" y=\"-863.3\" font-family=\"Helvetica,sans-Serif\" font-size=\"14.00\">samples = 1</text>\n",
       "<text text-anchor=\"start\" x=\"1164\" y=\"-848.3\" font-family=\"Helvetica,sans-Serif\" font-size=\"14.00\">value = [0, 1]</text>\n",
       "<text text-anchor=\"start\" x=\"1160\" y=\"-833.3\" font-family=\"Helvetica,sans-Serif\" font-size=\"14.00\">class = notckd</text>\n",
       "</g>\n",
       "<!-- 35&#45;&gt;37 -->\n",
       "<g id=\"edge37\" class=\"edge\">\n",
       "<title>35&#45;&gt;37</title>\n",
       "<path fill=\"none\" stroke=\"black\" d=\"M1124.48,-936.91C1136.58,-925.21 1149.77,-912.46 1161.84,-900.78\"/>\n",
       "<polygon fill=\"black\" stroke=\"black\" points=\"1164.44,-903.13 1169.2,-893.67 1159.58,-898.1 1164.44,-903.13\"/>\n",
       "</g>\n",
       "<!-- 41 -->\n",
       "<g id=\"node42\" class=\"node\">\n",
       "<title>41</title>\n",
       "<path fill=\"#399de5\" stroke=\"black\" d=\"M1252,-1250.5C1252,-1250.5 1173,-1250.5 1173,-1250.5 1167,-1250.5 1161,-1244.5 1161,-1238.5 1161,-1238.5 1161,-1194.5 1161,-1194.5 1161,-1188.5 1167,-1182.5 1173,-1182.5 1173,-1182.5 1252,-1182.5 1252,-1182.5 1258,-1182.5 1264,-1188.5 1264,-1194.5 1264,-1194.5 1264,-1238.5 1264,-1238.5 1264,-1244.5 1258,-1250.5 1252,-1250.5\"/>\n",
       "<text text-anchor=\"start\" x=\"1184.5\" y=\"-1235.3\" font-family=\"Helvetica,sans-Serif\" font-size=\"14.00\">gini = 0.0</text>\n",
       "<text text-anchor=\"start\" x=\"1171.5\" y=\"-1220.3\" font-family=\"Helvetica,sans-Serif\" font-size=\"14.00\">samples = 11</text>\n",
       "<text text-anchor=\"start\" x=\"1169.5\" y=\"-1205.3\" font-family=\"Helvetica,sans-Serif\" font-size=\"14.00\">value = [0, 11]</text>\n",
       "<text text-anchor=\"start\" x=\"1169\" y=\"-1190.3\" font-family=\"Helvetica,sans-Serif\" font-size=\"14.00\">class = notckd</text>\n",
       "</g>\n",
       "<!-- 40&#45;&gt;41 -->\n",
       "<g id=\"edge41\" class=\"edge\">\n",
       "<title>40&#45;&gt;41</title>\n",
       "<path fill=\"none\" stroke=\"black\" d=\"M1214.46,-1293.91C1214.18,-1283.2 1213.89,-1271.62 1213.61,-1260.78\"/>\n",
       "<polygon fill=\"black\" stroke=\"black\" points=\"1217.11,-1260.57 1213.35,-1250.67 1210.11,-1260.75 1217.11,-1260.57\"/>\n",
       "</g>\n",
       "<!-- 42 -->\n",
       "<g id=\"node43\" class=\"node\">\n",
       "<title>42</title>\n",
       "<path fill=\"#e5833c\" stroke=\"black\" d=\"M1380.5,-1258C1380.5,-1258 1294.5,-1258 1294.5,-1258 1288.5,-1258 1282.5,-1252 1282.5,-1246 1282.5,-1246 1282.5,-1187 1282.5,-1187 1282.5,-1181 1288.5,-1175 1294.5,-1175 1294.5,-1175 1380.5,-1175 1380.5,-1175 1386.5,-1175 1392.5,-1181 1392.5,-1187 1392.5,-1187 1392.5,-1246 1392.5,-1246 1392.5,-1252 1386.5,-1258 1380.5,-1258\"/>\n",
       "<text text-anchor=\"start\" x=\"1311\" y=\"-1242.8\" font-family=\"Helvetica,sans-Serif\" font-size=\"14.00\">htn ≤ 0.5</text>\n",
       "<text text-anchor=\"start\" x=\"1302\" y=\"-1227.8\" font-family=\"Helvetica,sans-Serif\" font-size=\"14.00\">gini = 0.033</text>\n",
       "<text text-anchor=\"start\" x=\"1292.5\" y=\"-1212.8\" font-family=\"Helvetica,sans-Serif\" font-size=\"14.00\">samples = 120</text>\n",
       "<text text-anchor=\"start\" x=\"1290.5\" y=\"-1197.8\" font-family=\"Helvetica,sans-Serif\" font-size=\"14.00\">value = [118, 2]</text>\n",
       "<text text-anchor=\"start\" x=\"1303.5\" y=\"-1182.8\" font-family=\"Helvetica,sans-Serif\" font-size=\"14.00\">class = ckd</text>\n",
       "</g>\n",
       "<!-- 40&#45;&gt;42 -->\n",
       "<g id=\"edge42\" class=\"edge\">\n",
       "<title>40&#45;&gt;42</title>\n",
       "<path fill=\"none\" stroke=\"black\" d=\"M1257.83,-1293.91C1267.48,-1284.65 1277.82,-1274.73 1287.75,-1265.21\"/>\n",
       "<polygon fill=\"black\" stroke=\"black\" points=\"1290.45,-1267.47 1295.25,-1258.02 1285.61,-1262.42 1290.45,-1267.47\"/>\n",
       "</g>\n",
       "<!-- 43 -->\n",
       "<g id=\"node44\" class=\"node\">\n",
       "<title>43</title>\n",
       "<path fill=\"#e58139\" stroke=\"black\" d=\"M1378.5,-1131.5C1378.5,-1131.5 1292.5,-1131.5 1292.5,-1131.5 1286.5,-1131.5 1280.5,-1125.5 1280.5,-1119.5 1280.5,-1119.5 1280.5,-1075.5 1280.5,-1075.5 1280.5,-1069.5 1286.5,-1063.5 1292.5,-1063.5 1292.5,-1063.5 1378.5,-1063.5 1378.5,-1063.5 1384.5,-1063.5 1390.5,-1069.5 1390.5,-1075.5 1390.5,-1075.5 1390.5,-1119.5 1390.5,-1119.5 1390.5,-1125.5 1384.5,-1131.5 1378.5,-1131.5\"/>\n",
       "<text text-anchor=\"start\" x=\"1307.5\" y=\"-1116.3\" font-family=\"Helvetica,sans-Serif\" font-size=\"14.00\">gini = 0.0</text>\n",
       "<text text-anchor=\"start\" x=\"1290.5\" y=\"-1101.3\" font-family=\"Helvetica,sans-Serif\" font-size=\"14.00\">samples = 118</text>\n",
       "<text text-anchor=\"start\" x=\"1288.5\" y=\"-1086.3\" font-family=\"Helvetica,sans-Serif\" font-size=\"14.00\">value = [118, 0]</text>\n",
       "<text text-anchor=\"start\" x=\"1301.5\" y=\"-1071.3\" font-family=\"Helvetica,sans-Serif\" font-size=\"14.00\">class = ckd</text>\n",
       "</g>\n",
       "<!-- 42&#45;&gt;43 -->\n",
       "<g id=\"edge43\" class=\"edge\">\n",
       "<title>42&#45;&gt;43</title>\n",
       "<path fill=\"none\" stroke=\"black\" d=\"M1336.81,-1174.91C1336.62,-1164.2 1336.43,-1152.62 1336.24,-1141.78\"/>\n",
       "<polygon fill=\"black\" stroke=\"black\" points=\"1339.74,-1141.61 1336.07,-1131.67 1332.74,-1141.73 1339.74,-1141.61\"/>\n",
       "</g>\n",
       "<!-- 44 -->\n",
       "<g id=\"node45\" class=\"node\">\n",
       "<title>44</title>\n",
       "<path fill=\"#399de5\" stroke=\"black\" d=\"M1500,-1131.5C1500,-1131.5 1421,-1131.5 1421,-1131.5 1415,-1131.5 1409,-1125.5 1409,-1119.5 1409,-1119.5 1409,-1075.5 1409,-1075.5 1409,-1069.5 1415,-1063.5 1421,-1063.5 1421,-1063.5 1500,-1063.5 1500,-1063.5 1506,-1063.5 1512,-1069.5 1512,-1075.5 1512,-1075.5 1512,-1119.5 1512,-1119.5 1512,-1125.5 1506,-1131.5 1500,-1131.5\"/>\n",
       "<text text-anchor=\"start\" x=\"1432.5\" y=\"-1116.3\" font-family=\"Helvetica,sans-Serif\" font-size=\"14.00\">gini = 0.0</text>\n",
       "<text text-anchor=\"start\" x=\"1423\" y=\"-1101.3\" font-family=\"Helvetica,sans-Serif\" font-size=\"14.00\">samples = 2</text>\n",
       "<text text-anchor=\"start\" x=\"1421\" y=\"-1086.3\" font-family=\"Helvetica,sans-Serif\" font-size=\"14.00\">value = [0, 2]</text>\n",
       "<text text-anchor=\"start\" x=\"1417\" y=\"-1071.3\" font-family=\"Helvetica,sans-Serif\" font-size=\"14.00\">class = notckd</text>\n",
       "</g>\n",
       "<!-- 42&#45;&gt;44 -->\n",
       "<g id=\"edge44\" class=\"edge\">\n",
       "<title>42&#45;&gt;44</title>\n",
       "<path fill=\"none\" stroke=\"black\" d=\"M1380.17,-1174.91C1392.47,-1163.21 1405.88,-1150.46 1418.15,-1138.78\"/>\n",
       "<polygon fill=\"black\" stroke=\"black\" points=\"1420.8,-1141.1 1425.63,-1131.67 1415.97,-1136.02 1420.8,-1141.1\"/>\n",
       "</g>\n",
       "</g>\n",
       "</svg>\n"
      ],
      "text/plain": [
       "<graphviz.sources.Source at 0x17b44e110>"
      ]
     },
     "metadata": {},
     "output_type": "display_data"
    }
   ],
   "source": [
    "dot_data = export_graphviz(cart_model, out_file=None, filled=True, rounded=True, special_characters=True, feature_names=columns[:-1], class_names=['ckd', 'notckd'])\n",
    "graph = graphviz.Source(dot_data)\n",
    "graph.render('CART-tree')\n",
    "display(graph)"
   ]
  },
  {
   "cell_type": "markdown",
   "metadata": {},
   "source": [
    "## A Comperative Analysis of Potential Options for Conducting Data Mining"
   ]
  },
  {
   "cell_type": "markdown",
   "metadata": {},
   "source": [
    "### Logistic Regression"
   ]
  },
  {
   "cell_type": "markdown",
   "metadata": {},
   "source": [
    "A statistical model employed for forecasting a categorical class from either categorical or numerical attributes, which provides the likelihood of association with a particular class."
   ]
  },
  {
   "cell_type": "markdown",
   "metadata": {},
   "source": [
    "- **Advantages** - easy to implement and use, and conveniently presentable. Moreover, the algorithm does not require any prior assumptions about the distribution of the random variables in the feature space, and can handle both numerical and categorical values. <br>\n",
    "- **Disadvantages** - the model tends to overfit/underfit if the number of examples is big/small compared to the number of features. In addition, the model is not recommended when the features are co-linear."
   ]
  },
  {
   "cell_type": "code",
   "execution_count": 19,
   "metadata": {},
   "outputs": [
    {
     "name": "stdout",
     "output_type": "stream",
     "text": [
      "Logistic Regression Accuracy:  0.9432946569214931\n",
      "Logistic Regression Coefficients:  [[-0.13281419  0.78417721 -0.13992138  1.93669127  0.78343707  0.76505715\n",
      "   1.02046221  0.11655374  0.03116259  0.82906555  0.48521819  1.71212667\n",
      "  -0.52999121 -0.02832705 -2.87146726 -2.47645456  0.54610705 -1.69103193\n",
      "   1.67961939  2.03783148  0.1036677  -1.39858539  1.12204881  0.84495154]]\n"
     ]
    }
   ],
   "source": [
    "print(\"Logistic Regression Accuracy: \", logreg_accuracy)\n",
    "print(\"Logistic Regression Coefficients: \", logreg_coeff)"
   ]
  },
  {
   "cell_type": "markdown",
   "metadata": {},
   "source": [
    "### Information Gain based Decision Tree"
   ]
  },
  {
   "cell_type": "markdown",
   "metadata": {},
   "source": [
    "A supervised learning model designed for classification tasks, which iteratively divides the data based on the features, in relation to the measure of _information gain_."
   ]
  },
  {
   "cell_type": "markdown",
   "metadata": {},
   "source": [
    "- **Constraints** - a discretization task must be done for each continuous feature.\n",
    "- **Advantages** - easy to implement and use, and conveniently presentable. Moreover, the algorithm can handle noisy data and missing values, by pruning the tree.\n",
    "- **Disadvantages** - the _information gain_ metric generally favors attributes with a broader spectrum of values. Moreover, the algorithm could be quite demanding in terms of computational resources."
   ]
  },
  {
   "cell_type": "code",
   "execution_count": 20,
   "metadata": {},
   "outputs": [
    {
     "name": "stdout",
     "output_type": "stream",
     "text": [
      "ID3 Accuracy:  0.9501813064459361\n"
     ]
    }
   ],
   "source": [
    "print(\"ID3 Accuracy: \", id3_accuracy)"
   ]
  },
  {
   "cell_type": "markdown",
   "metadata": {},
   "source": [
    "### Gini Index based Decision Tree (CART)"
   ]
  },
  {
   "cell_type": "markdown",
   "metadata": {},
   "source": [
    "An algorithm that constructs a binary decision tree, which iteratively divides the data into two based on the features, utilizing the _Gini index_ metric, so that each split results in two subgroups that are as similar in size as feasible."
   ]
  },
  {
   "cell_type": "markdown",
   "metadata": {},
   "source": [
    "- **Advantages** - can manage both numerical and categorical data, along with missing values. Furthermore, the resulting tree is typically more concise compared to other decision tree algorithms.\n",
    "- **Disadvantages** - the _Gini index_ measure tends to prefer features with larger range of values, and the running time is longer, compared to other decision tree algorithms."
   ]
  },
  {
   "cell_type": "code",
   "execution_count": 21,
   "metadata": {},
   "outputs": [
    {
     "name": "stdout",
     "output_type": "stream",
     "text": [
      "CART Accuracy:  0.9618231051766472\n"
     ]
    }
   ],
   "source": [
    "print(\"CART Accuracy: \", cart_accuracy)"
   ]
  },
  {
   "cell_type": "markdown",
   "metadata": {},
   "source": [
    "### Random Forest"
   ]
  },
  {
   "cell_type": "markdown",
   "metadata": {},
   "source": [
    "A classifier that combines the outcomes of numerous decision trees to attain the best possible results."
   ]
  },
  {
   "cell_type": "markdown",
   "metadata": {},
   "source": [
    "- **Advantages** - can manage high-dimensional, extensive datasets, including those with missing values. It also has the ability to decrease the data's variance, thereby preventing overfitting, by averaging the predictions generated by the various trees it constructs.\n",
    "- **Disadvantages** - an algorithm that operates slowly, particularly on extensive datasets, and it has a tendency to favor features with a greater number of degrees. Additionally, this classifier is not as easily representable as a solitary decision tree."
   ]
  },
  {
   "cell_type": "markdown",
   "metadata": {},
   "source": [
    "## Describe the Stages of Data Preperations"
   ]
  },
  {
   "cell_type": "markdown",
   "metadata": {},
   "source": [
    "### Handling Missing Values"
   ]
  },
  {
   "cell_type": "markdown",
   "metadata": {},
   "source": [
    "Given that the dataset contains 24 features, any example with more than a third (8) of its features missing will be removed. If not, the missing values will be replaced with the **mean** (for numerical values) or the **mode** (for categorical values)."
   ]
  },
  {
   "cell_type": "markdown",
   "metadata": {},
   "source": [
    "### Data Transformation"
   ]
  },
  {
   "cell_type": "markdown",
   "metadata": {},
   "source": [
    "Transform all categorical values into nominal variables based on their value (for instance, 'yes' will be assigned the value $1$, etc.), and convert these values into `float` type (real numbers).\n",
    "Implement transformations in accordance with the selected classification algorithm:"
   ]
  },
  {
   "cell_type": "markdown",
   "metadata": {},
   "source": [
    "For the `Logistic Regression` algorithm, normalize the nominal data using `min-max` method, so that the new range will be $[0,1]$."
   ]
  },
  {
   "cell_type": "markdown",
   "metadata": {},
   "source": [
    "However, for the `Random Forest` algorithm, discretize the numerical values by splitting the data to intervals with equal frequency, so that each values group will get equal representation."
   ]
  },
  {
   "cell_type": "markdown",
   "metadata": {},
   "source": [
    "Furthermore, we'll consider the possibility of errors in the data entry process, such as an extra '0' added, or a missed decimal point, etc. Hence, for features with a high standard deviation or abnormal minimum/maximum values relative to the mean, we'll manually adjust their values."
   ]
  },
  {
   "cell_type": "markdown",
   "metadata": {},
   "source": [
    "## Classification"
   ]
  },
  {
   "cell_type": "markdown",
   "metadata": {},
   "source": [
    "### Select Two Techniques for Data Classification"
   ]
  },
  {
   "cell_type": "markdown",
   "metadata": {},
   "source": [
    "The chosen techniques are `Logistic Regression` and `Random Forest`."
   ]
  },
  {
   "cell_type": "markdown",
   "metadata": {},
   "source": [
    "#### Logistic Regression"
   ]
  },
  {
   "cell_type": "markdown",
   "metadata": {},
   "source": [
    "A classification algorithm that estimates the likelihoods of association with a certain prediction class, in our scenario - the presence of chronic kidney disease. The algorithm examines the relationships between one or more independent variables (we'll operate under the assumption that the features are indeed independent). The model employs a logistic function to scrutinize the conditional probabilities among the features, implying it computes the probability of class membership given the values of a particular feature."
   ]
  },
  {
   "cell_type": "markdown",
   "metadata": {},
   "source": [
    "#### Random Forest"
   ]
  },
  {
   "cell_type": "markdown",
   "metadata": {},
   "source": [
    "An ensemble algorithm that combines the outcomes achieved by executing numerous decision trees, and delivers an optimal classification based on the majority vote from the results of the decision trees. In the majority of instances, the classification obtained is more precise than that derived from a single decision tree."
   ]
  },
  {
   "cell_type": "markdown",
   "metadata": {},
   "source": [
    "### Describe the Steps of the Chosen Techniques"
   ]
  },
  {
   "cell_type": "markdown",
   "metadata": {},
   "source": [
    "For both techniques, I employed _10-fold cross-validation_ and _bootstrap sampling_ to obtain more precise predictions. Each method was trained using the same examples, but the examples were processed differently for each algorithm."
   ]
  },
  {
   "cell_type": "markdown",
   "metadata": {},
   "source": [
    "#### Logistic Regression"
   ]
  },
  {
   "cell_type": "markdown",
   "metadata": {},
   "source": [
    "The algorithm seeks a set of weights that would minimize prediction error. After data cleansing, we'll normalize it using the `min-max` method to ensure all values fall within the $[0,1]$ range, preventing any value from having an undue influence. The model will be trained using iterative methods, like `Gradient Descent`, to find the optimal weights that minimize the in-sample error, defined as the least squares loss (_l2-loss_). Additionally, we'll employ regularization to prevent overfitting."
   ]
  },
  {
   "cell_type": "markdown",
   "metadata": {},
   "source": [
    "#### Random Forest"
   ]
  },
  {
   "cell_type": "markdown",
   "metadata": {},
   "source": [
    "The data will be discretized through binning into intervals of equal frequency, ensuring each feature value gets equal representation among the other values. I've determined that in each algorithm run, 100 decision trees will be generated, and each split will depend on at most the square root of the total feature count. The splitting criterion will be grounded on the _Gini index_."
   ]
  },
  {
   "cell_type": "code",
   "execution_count": 22,
   "metadata": {},
   "outputs": [],
   "source": [
    "def random_forest_model(X, y, k): # random forest model\n",
    "    accuracy = []\n",
    "    sum = 0\n",
    "    randfor = RandomForestClassifier(bootstrap=False)\n",
    "    \n",
    "    for i in range(k): # k-fold cross validation\n",
    "        X_train, y_train, indices = bootstrap_sample(X, y, int(len(X) * 0.8)) # bootstrap sampling for 80% of the data\n",
    "        X_test, y_test = [], []\n",
    "        score = 0 # accuracy score\n",
    "        \n",
    "        for j in range(len(indices)):\n",
    "            if indices[j] == 0:\n",
    "                X_test.append(X[j])\n",
    "                y_test.append(y[j])\n",
    "                \n",
    "        randfor = randfor.fit(X_train, y_train)\n",
    "        y_pred = randfor.predict(X_test)\n",
    "        length = len(y_pred)\n",
    "        \n",
    "        for j in range(length):\n",
    "            if y_pred[j] == y_test[j]: # if prediction is correct\n",
    "                score += 1\n",
    "        \n",
    "        accuracy.append(score / length)\n",
    "\n",
    "    for i in range(len(accuracy)):\n",
    "        sum += accuracy[i]\n",
    "    accuracy = sum / len(accuracy) # average accuracy\n",
    "    randfor = randfor.fit(X, y) # fit the model with all the data\n",
    "    importance = randfor.feature_importances_\n",
    "    fpr, tpr, thresholds = roc_curve(y_test, y_pred)\n",
    "    auc = roc_auc_score(y_test, y_pred)\n",
    "    \n",
    "    print(\"Detailed accuracy: \\n\", detailed_accuracy(y_test, y_pred, fpr, tpr, auc))\n",
    "    \n",
    "    return randfor, accuracy, importance"
   ]
  },
  {
   "cell_type": "code",
   "execution_count": 23,
   "metadata": {},
   "outputs": [
    {
     "name": "stdout",
     "output_type": "stream",
     "text": [
      "Detailed accuracy: \n",
      "     TP FP Precision    Recall F-Measure       AUC   Class  Accuracy Error Rate\n",
      "1  128  3  0.977099  0.984615  0.980843  0.970692     ckd                     \n",
      "2   54  2  0.964286  0.947368  0.980843  0.970692  notckd                     \n",
      "3                                                  Total:  0.973262   0.026738\n"
     ]
    }
   ],
   "source": [
    "randfor_model, randfor_accuracy, randfor_importance = random_forest_model(df_x_dt, df_y_dt, k)"
   ]
  },
  {
   "cell_type": "code",
   "execution_count": 24,
   "metadata": {},
   "outputs": [
    {
     "name": "stdout",
     "output_type": "stream",
     "text": [
      "Random Forest Accuracy:  0.9866954236409681\n"
     ]
    }
   ],
   "source": [
    "print(\"Random Forest Accuracy: \", randfor_accuracy)"
   ]
  },
  {
   "cell_type": "code",
   "execution_count": 25,
   "metadata": {},
   "outputs": [
    {
     "data": {
      "image/png": "[encoded data removed]",
      "text/plain": [
       "<Figure size 640x480 with 1 Axes>"
      ]
     },
     "metadata": {},
     "output_type": "display_data"
    }
   ],
   "source": [
    "feature_names = [f\"{col}\" for col in columns if col != 'class']\n",
    "forest_importances = pd.Series(randfor_importance, index=feature_names)   \n",
    "std = np.std([tree.feature_importances_ for tree in randfor_model.estimators_], axis=0)\n",
    "\n",
    "fig, ax = plt.subplots()\n",
    "forest_importances.plot.bar(yerr=std, ax=ax)\n",
    "ax.set_title(\"Feature importances using MDI\")\n",
    "ax.set_ylabel(\"Mean decrease in impurity\")\n",
    "fig.tight_layout()\n",
    "\n",
    "plt.show()"
   ]
  },
  {
   "cell_type": "markdown",
   "metadata": {},
   "source": [
    "## Bayesian and Observational Learning"
   ]
  },
  {
   "cell_type": "markdown",
   "metadata": {},
   "source": [
    "### Describe and Analyze Your Choice"
   ]
  },
  {
   "cell_type": "markdown",
   "metadata": {},
   "source": [
    "The selected algorithm is `Naïve-Bayes` due to its relative simplicity when compared to the `Bayesian network`. The latter accounts for all feature interdependencies, while `Naïve-Bayes` operates under the assumption of feature independence, yet still delivers commendable results in practice. A `Bayesian network` requires a larger database to infer feature dependencies. Given that the preprocessed database only contains 378 examples, the `Naïve-Bayes` algorithm, which can handle smaller databases, is the preferred choice. Furthermore, as the `Bayesian network` necessitates numerous computations, opting for `Naïve-Bayes` provides a simpler algorithm with significantly faster training and execution times.\n"
   ]
  },
  {
   "cell_type": "markdown",
   "metadata": {},
   "source": [
    "However, `Naïve-Bayes` performance could be compromised if there are correlated features, prompting us to carry out dimensionality reduction (for instance, by using the `PCA` algorithm) to obtain a dataset with reduced correlation."
   ]
  },
  {
   "cell_type": "markdown",
   "metadata": {},
   "source": [
    "The algorithm computes the conditional probabilities of each feature given the classification class, and then, for any new unseen example, it calculates the product of the relevant conditional probabilities for each class. The class that yields the highest probability becomes the final classification of the algorithm."
   ]
  },
  {
   "cell_type": "markdown",
   "metadata": {},
   "source": [
    "### Describe and Analyze the Task Using K-NN Algorithm"
   ]
  },
  {
   "cell_type": "markdown",
   "metadata": {},
   "source": [
    "`K-NN` is a classification algorithm that views the data as points within a space, the dimension of which equals the number of features."
   ]
  },
  {
   "cell_type": "markdown",
   "metadata": {},
   "source": [
    "This algorithm doesn't necessitate training as each example is computed independently of others, but in relation to its $k$ nearest examples, based on a certain distance function. Hence, the algorithm is straightforward to implement and time-efficient. To execute it, all that's required is to compute the distances between all points, then identify the nearest neighbors and classify the new example based on them."
   ]
  },
  {
   "cell_type": "markdown",
   "metadata": {},
   "source": [
    "Given that it necessitates these calculations, we can deduce that for larger databases or a high number of features, it won't be as effective, as it calculates the distance from all points for each new classification. Additionally, the values of each feature need to be normalized to prevent the algorithm from favoring features with higher values."
   ]
  },
  {
   "cell_type": "markdown",
   "metadata": {},
   "source": [
    "To classify a new example, the algorithm computes the distance between the new point and all other points in the database, selecting the $k$ closest points. Following this, the classification is immediate and is determined by the majority vote among all the neighbors."
   ]
  },
  {
   "cell_type": "markdown",
   "metadata": {},
   "source": [
    "### Choose One Method and Explain Your Choice"
   ]
  },
  {
   "cell_type": "markdown",
   "metadata": {},
   "source": [
    "The chosen algorithm is `Naïve-Bayes`, primarily because it's generally faster to train and classify than `KNN`. This is because it calculates probabilities under the assumption of independence, unlike `KNN` which necessitates storing and computing the distances of all examples for the classification task. Moreover, the assumption of independence simplifies the model as it pertains to a smaller set of hypotheses, only those where the features are independent, unlike `KNN` which doesn't make any simplifying assumptions. Additionally, the `Naïve-Bayes` algorithm is easier to interpret than `KNN` since the model's decisions are based solely on conditional probabilities between each feature and class, making it clear how a result is obtained. Conversely, `KNN` requires calculating distance and then classifies based on majority vote, making the classification task less intuitive to understand."
   ]
  },
  {
   "cell_type": "code",
   "execution_count": 26,
   "metadata": {},
   "outputs": [],
   "source": [
    "def naive_bayes_model(X, y, k): # naive bayes model\n",
    "    accuracy = []\n",
    "    sum = 0\n",
    "    nb = GaussianNB()\n",
    "    \n",
    "    for i in range(k): # k-fold cross validation\n",
    "        X_train, y_train, indices = bootstrap_sample(X, y, int(len(X) * 0.8)) # bootstrap sampling for 80% of the data\n",
    "        X_test, y_test = [], []\n",
    "        score = 0 # accuracy score\n",
    "        \n",
    "        for j in range(len(indices)):\n",
    "            if indices[j] == 0:\n",
    "                X_test.append(X[j])\n",
    "                y_test.append(y[j])\n",
    "        \n",
    "        nb.fit(X_train, y_train)\n",
    "        y_pred = nb.predict(X_test)\n",
    "        length = len(y_pred)\n",
    "        \n",
    "        for j in range(length):\n",
    "            if y_pred[j] == y_test[j]: # if prediction is correct\n",
    "                score += 1\n",
    "        \n",
    "        accuracy.append(score / length)\n",
    "        \n",
    "    for i in range(len(accuracy)):\n",
    "        sum += accuracy[i]\n",
    "    accuracy = sum / len(accuracy) # average accuracy\n",
    "    nb.fit(X, y) # fit the model with all the data\n",
    "    \n",
    "    fpr, tpr, thresholds = roc_curve(y_test, y_pred)\n",
    "    auc = roc_auc_score(y_test, y_pred)\n",
    "    \n",
    "    print(\"Detailed accuracy: \\n\", detailed_accuracy(y_test, y_pred, fpr, tpr, auc))\n",
    "    \n",
    "    return nb, accuracy  "
   ]
  },
  {
   "cell_type": "markdown",
   "metadata": {},
   "source": [
    "### Run and Report the Results of the Algorithm"
   ]
  },
  {
   "cell_type": "markdown",
   "metadata": {},
   "source": [
    "I utilized `Python` to execute the algorithm. Analogous to the classification conducted using the previous algorithms, I implemented _k-fold cross-validation_ with $k=10$. In each iteration, we carry out _bootstrap sampling_ to obtain the training set, while the remainder forms the test set."
   ]
  },
  {
   "cell_type": "code",
   "execution_count": 27,
   "metadata": {},
   "outputs": [
    {
     "name": "stdout",
     "output_type": "stream",
     "text": [
      "Detailed accuracy: \n",
      "     TP FP Precision    Recall F-Measure       AUC   Class  Accuracy Error Rate\n",
      "1  110  5  0.956522       1.0  0.977778  0.978261     ckd                     \n",
      "2   62  0       1.0  0.925373  0.977778  0.978261  notckd                     \n",
      "3                                                  Total:  0.971751   0.028249\n",
      "Naive Bayes Accuracy:  0.959979658287881\n"
     ]
    }
   ],
   "source": [
    "nb_model, nb_accuracy = naive_bayes_model(df_x_dt, df_y_dt, k)\n",
    "print(\"Naive Bayes Accuracy: \", nb_accuracy)"
   ]
  },
  {
   "cell_type": "markdown",
   "metadata": {},
   "source": [
    "## Cluster Analysis"
   ]
  },
  {
   "cell_type": "markdown",
   "metadata": {},
   "source": [
    "### Define Quality Measures for Clustering"
   ]
  },
  {
   "cell_type": "markdown",
   "metadata": {},
   "source": [
    "In order to evaluate the quality of a cluster created by a cluster analysis algorithm, we'll use the next measurements:"
   ]
  },
  {
   "cell_type": "markdown",
   "metadata": {},
   "source": [
    "- **Intra-cluster Distance** - we aim for all elements within a cluster to be as similar as possible. This is achieved by calculating the sum of squared distances between each pair of points within the cluster, with the goal of minimizing this sum.\n",
    "- **Inter-cluster Distance** - we aim for each cluster to be as distinct as possible from other clusters. We perform the same calculation as before, but this time we aim for the sum to be maximal.\n",
    "- **Homogeneity** - we desire each cluster to contain elements that belong to the same class.\n",
    "- **Completeness** - we want examples that are classified to the same class to belong to the same cluster.\n",
    "- **V-measure** - the harmonic mean between _homogeneity_ and _completeness_, which describes the trade-off between these two.\n",
    "- **ARI Measurement** - assesses the similarity between _actual_ and _predicted_ classifications, and the _degree of randomness_ in classifying new examples.\n",
    "- **AMI Measurement** - evaluates the mutual information between the _actual_ and _predicted_ classifications, similar to _ARI measurement_.\n",
    "- **Silhouette** - examines the degree to which an example matches the cluster to which it belongs based on the distance from points within the cluster and points in nearby clusters."
   ]
  },
  {
   "cell_type": "markdown",
   "metadata": {},
   "source": [
    "### Choose One Method for Cluster Analysis"
   ]
  },
  {
   "cell_type": "markdown",
   "metadata": {},
   "source": [
    "The selected algorithm is `DBScan`. This is a density-based clustering algorithm that operates under the assumption that clusters are high-density areas separated by lower-density areas. As it identifies clusters based on density rather than distance, it can detect clusters of arbitrary shapes, not necessarily elliptical. Furthermore, it doesn't make assumptions about the data distribution. This robust algorithm is not sensitive to outliers or noise. However, it is computationally expensive as it iterates through all points and calculates distances between them for every _core point_. Given that our database doesn't contain a large number of observations, we can overlook the computational cost of the algorithm and, in return, achieve more accurate clusters."
   ]
  },
  {
   "cell_type": "code",
   "execution_count": 28,
   "metadata": {},
   "outputs": [],
   "source": [
    "def dbscan_model(X, y, k): # DBSCAN model  \n",
    "    accuracy = []\n",
    "    sum = 0\n",
    "    dbscan = DBSCAN(eps=0.5, min_samples=6)\n",
    "    \n",
    "    for i in range(k): # k-fold cross validation\n",
    "        X_train, y_train, indices = bootstrap_sample(X, y, int(len(X) * 0.8)) # bootstrap sampling for 80% of the data\n",
    "        X_test, y_test = [], []\n",
    "        score = 0 # accuracy score\n",
    "        \n",
    "        for j in range(len(indices)):\n",
    "            if indices[j] == 0:\n",
    "                X_test.append(X[j])\n",
    "                y_test.append(y[j])\n",
    "    \n",
    "        dbscan.fit(X_train, y_train)\n",
    "        y_pred = dbscan.fit_predict(X_test)\n",
    "        length = len(y_pred)\n",
    "        \n",
    "        for j in range(length):\n",
    "            if y_pred[j] == y_test[j]: # if prediction is correct\n",
    "                score += 1\n",
    "        \n",
    "        accuracy.append(score / length)\n",
    "        \n",
    "    for i in range(len(accuracy)):\n",
    "        sum += accuracy[i]\n",
    "    accuracy = sum / len(accuracy) # average accuracy\n",
    "    dbscan.fit(X, y) # fit the model with all the data\n",
    "    labels = dbscan.labels_ # cluster labels\n",
    "    \n",
    "    n_clusters_ = len(set(labels)) - (1 if -1 in labels else 0) # number of clusters\n",
    "    n_noise_ = list(labels).count(-1) # number of noise points\n",
    "    homogenity = homogeneity_score(y, labels) # homogenity score\n",
    "    completeness = completeness_score(y, labels) # completeness score\n",
    "    v_measure = v_measure_score(y, labels) # v-measure score\n",
    "    adjusted_rand = adjusted_rand_score(y, labels) # adjusted rand score\n",
    "    adjusted_mutual_info = adjusted_mutual_info_score(y, labels) # adjusted mutual info score\n",
    "    silhouette = silhouette_score(X, labels) # silhouette score\n",
    "    \n",
    "    print('Estimated number of clusters: %d' % n_clusters_)\n",
    "    print('Estimated number of noise points: %d' % n_noise_)\n",
    "    print('Homogenity: %0.3f' % homogenity)\n",
    "    print('Completeness: %0.3f' % completeness)\n",
    "    print('V-measure: %0.3f' % v_measure)\n",
    "    print('Adjusted Rand Index: %0.3f' % adjusted_rand)\n",
    "    print('Adjusted Mutual Information: %0.3f' % adjusted_mutual_info)\n",
    "    print('Silhouette Coefficient: %0.3f' % silhouette)\n",
    "    \n",
    "    return dbscan, accuracy"
   ]
  },
  {
   "cell_type": "markdown",
   "metadata": {},
   "source": [
    "### Describe the Cluster Analysis Steps for the Chosen Approach"
   ]
  },
  {
   "cell_type": "markdown",
   "metadata": {},
   "source": [
    "To run `DBScan`, we need to preprocess the data. This involves handling missing values (either by completion or deletion), converting values to numerical values (even though the algorithm can handle categorical values), and normalizing the data so that features like _Age_ don't have undue importance in the classification task. To achieve clearer, easily interpretable clusters, we'll apply a dimensionality reduction algorithm, such as `Principal Component Analysis` (PCA). The `PCA` algorithm essentially projects the data into a lower-dimensional vector space to maximize variance. It does this by calculating the _eigenvalues_ of each feature and retaining the $n$ largest ones, where $n$ is the desired dimension."
   ]
  },
  {
   "cell_type": "markdown",
   "metadata": {},
   "source": [
    "Given that we are working with the optimized database, there's no need for further data processing as the data already meet our requirements, with the exception of dimensionality reduction."
   ]
  },
  {
   "cell_type": "markdown",
   "metadata": {},
   "source": [
    "The `DBScan` algorithm doesn't necessitate the user to provide the expected number of clusters. However, it does use a parameter $\\varepsilon$ that defines the neighborhood radius of each point, and a parameter _MinPts_, which, as the name implies, is the minimum number of points required in the $\\varepsilon$-neighborhood of a point."
   ]
  },
  {
   "cell_type": "markdown",
   "metadata": {},
   "source": [
    "The algorithm categorizes points into three groups - **core** points, **border** points, and **noise** points, characterized by the following features:\n",
    "\n",
    "- A point $p$ is a **core point** if there are at least _MinPts_ points within its $\\varepsilon$-neighborhood.\n",
    "- If the distance between points $p$ and $q$, where $p$ is a core point, is less than $\\varepsilon$, we say that $q$ is _directly reachable_ from $p$.\n",
    "- If there's a path between $p$ and $q$ where each pair of consecutive points are directly reachable, we say that $q$ is _reachable_ from $p$.\n",
    "- Any point that isn't reachable is considered an **outlier** or **noise point**."
   ]
  },
  {
   "cell_type": "markdown",
   "metadata": {},
   "source": [
    "The algorithm operates as follows:\n",
    "\n",
    "1. For each point, identify all points within its $\\varepsilon$-neighborhood.\n",
    "2. If the number of points found exceeds _MinPts_, mark this point as a **core point**.\n",
    "3. For each core point, find all its reachable neighbors.\n",
    "4. Continue this process until there are no more core points to check."
   ]
  },
  {
   "cell_type": "markdown",
   "metadata": {},
   "source": [
    "### Run and Report the Results of the Algorithm"
   ]
  },
  {
   "cell_type": "markdown",
   "metadata": {},
   "source": [
    "I utilized Python to execute the algorithm. The necessary parameters are defined as _MinPts_=6, $\\varepsilon$=0.5, and we apply `PCA` to reduce the dimensions from 24 to 2 for visibility purposes."
   ]
  },
  {
   "cell_type": "code",
   "execution_count": 29,
   "metadata": {},
   "outputs": [
    {
     "name": "stdout",
     "output_type": "stream",
     "text": [
      "Estimated number of clusters: 1\n",
      "Estimated number of noise points: 62\n",
      "Homogenity: 0.123\n",
      "Completeness: 0.188\n",
      "V-measure: 0.149\n",
      "Adjusted Rand Index: -0.028\n",
      "Adjusted Mutual Information: 0.147\n",
      "Silhouette Coefficient: 0.590\n",
      "DBSCAN Accuracy:  0.36373979897755004\n"
     ]
    }
   ],
   "source": [
    "pca = PCA(n_components=2) # PCA\n",
    "df_x_pca = pca.fit_transform(df_x_lr) # dimensionality reduction to 2D for visualization\n",
    "dbs_model, dbs_accuracy = dbscan_model(df_x_pca, df_y_lr, k)\n",
    "print(\"DBSCAN Accuracy: \", dbs_accuracy)"
   ]
  },
  {
   "cell_type": "code",
   "execution_count": 30,
   "metadata": {},
   "outputs": [
    {
     "data": {
      "image/png": "[encoded data removed]",
      "text/plain": [
       "<Figure size 640x480 with 1 Axes>"
      ]
     },
     "metadata": {},
     "output_type": "display_data"
    }
   ],
   "source": [
    "plt.scatter(df_x_pca[:, 0], df_x_pca[:, 1], c=dbs_model.labels_, cmap='rainbow')\n",
    "plt.title('DBSCAN Clusters')\n",
    "plt.xlabel('PCA 1')\n",
    "plt.ylabel('PCA 2')\n",
    "plt.show()"
   ]
  },
  {
   "cell_type": "markdown",
   "metadata": {},
   "source": [
    "## Artificial Neural Networks"
   ]
  },
  {
   "cell_type": "markdown",
   "metadata": {},
   "source": [
    "### Define the Network Architecture"
   ]
  },
  {
   "cell_type": "markdown",
   "metadata": {},
   "source": [
    "The neural network is defined as follows. The network will consist of three types of layers:\n",
    "\n",
    "- **Input layer** - contains 24 neurons, corresponding to the data being taken from a 24-dimensional space.\n",
    "- **Hidden layers** - these are situated between the input and output layers. After a process of trial and error, we choose _two_ hidden layers, each containing 10 neurons.\n",
    "- **Output layer** - this is the final layer in the network and contains two neurons, corresponding to the number of classes in our task.\n",
    "\n",
    "The network is defined as a _feed-forward_, _fully-connected_ network, meaning that the direction of the network is strictly forward, from the input layer to the output layer, and each neuron in a layer is connected to all neurons in the subsequent layer.\n",
    "\n",
    "The activation function will be `ReLU`.\n",
    "\n",
    "The loss function will be `Cross-entropy`, with optimization performed using `Stochastic Gradient Descent` (SGD). The loss function is defined as follows:\n",
    "\n",
    "$H_p (q) = -1/N \\cdot \\sum_{n=1}^N (y_n \\cdot log (p(y_n)) + (1-y_n) \\cdot log (1-p(y_n)))$\n",
    "\n",
    "\n",
    "where $p(y_n)$ is the predicted probability of the $n$-th example belonging to class $y_n$, and $y_n$ is the actual class of the $n$th example."
   ]
  },
  {
   "cell_type": "code",
   "execution_count": 31,
   "metadata": {},
   "outputs": [],
   "source": [
    "def mean_squared_error(Y_test, Y_pred): # mean squared error\n",
    "    length = len(Y_test)\n",
    "    sum = 0\n",
    "    \n",
    "    for i in range(length):\n",
    "        sum += (Y_test[i] - Y_pred[i]) ** 2\n",
    "    \n",
    "    return sum / length"
   ]
  },
  {
   "cell_type": "code",
   "execution_count": 32,
   "metadata": {},
   "outputs": [],
   "source": [
    "def neural_network_model(X, y, k): # neural network model\n",
    "    accuracy = []\n",
    "    train_accuracies = []\n",
    "    val_accuracies = []\n",
    "    sum = 0\n",
    "    nn = MLPClassifier(activation='relu', solver='sgd', alpha=1e-5, hidden_layer_sizes=[10], random_state=1, max_iter=1000, early_stopping=False)\n",
    "    \n",
    "    X_train, X_test, y_train, y_test = train_test_split(X, y, test_size=0.2) # 80% training, 20% testing\n",
    "    \n",
    "    for i in range(k): # k-fold cross validation\n",
    "        X_train, X_val, y_train, y_val = train_test_split(X_train, y_train, test_size=0.2) # 80% training, 20% validation   \n",
    "        \n",
    "        nn.fit(X_train, y_train)\n",
    "        y_pred = nn.predict(X_test)\n",
    "        \n",
    "        score = nn.score(X_val, y_val)\n",
    "        accuracy.append(score)\n",
    "        \n",
    "        train_accuracy = accuracy_score(y_train, nn.predict(X_train))\n",
    "        train_accuracies.append(train_accuracy)\n",
    "        \n",
    "        val_accuracy = accuracy_score(y_val, nn.predict(X_val))\n",
    "        val_accuracies.append(val_accuracy)\n",
    "        \n",
    "    for i in range(len(accuracy)):\n",
    "        sum += accuracy[i]\n",
    "    accuracy = sum / len(accuracy) # average accuracy\n",
    "    \n",
    "    nn.fit(X_train, y_train)\n",
    "    y_pred = nn.predict(X_test)\n",
    "    fpr, tpr, thresholds = roc_curve(y_test, y_pred)\n",
    "    auc = roc_auc_score(y_test, y_pred)\n",
    "    \n",
    "    plt.figure(figsize=(10, 3))\n",
    "    \n",
    "    sub1 = plt.subplot(1, 2, 1)\n",
    "    sub1.plot(nn.loss_curve_)\n",
    "    sub1.title.set_text('Neural Network Training Set Loss')\n",
    "    plt.ylabel('loss')\n",
    "    plt.xlabel('epoch')\n",
    "    plt.legend(['Training'], loc='upper left')\n",
    "    \n",
    "    sub2 = plt.subplot(1, 2, 2)\n",
    "    sub2.plot(train_accuracies, label='Training Accuracy')\n",
    "    sub2.plot(val_accuracies, label='Validation Accuracy')\n",
    "    plt.legend()\n",
    "    \n",
    "    plt.show()    \n",
    "    \n",
    "    \n",
    "    print(\"Detailed accuracy: \\n\", detailed_accuracy(y_test, y_pred, fpr, tpr, auc))\n",
    "    print(\"Mean squared error: %.2f\" % mean_squared_error(y_test, y_pred))\n",
    "    \n",
    "    nn.fit(X, y) # fit the model with all the data\n",
    "    return nn, accuracy"
   ]
  },
  {
   "cell_type": "markdown",
   "metadata": {},
   "source": [
    "### Define the Optimization Parameters"
   ]
  },
  {
   "cell_type": "markdown",
   "metadata": {},
   "source": [
    "The optimization parameters include the batch size, learning rate, regularization parameters, and optimization algorithm. As previously stated, we've chosen `SGD` as the optimization algorithm, with each batch being of size 100. The regularization parameter will remain at $α=0.0001$, and the learning rate will be $l=0.001$, in line with the default values in the `SKLearn` library."
   ]
  },
  {
   "cell_type": "markdown",
   "metadata": {},
   "source": [
    "### Run and Report the Results of the Algorithm"
   ]
  },
  {
   "cell_type": "markdown",
   "metadata": {},
   "source": [
    "I utilized Python to run the network. Initially, we split the dataset into a training set ($80%$) and a test set ($20%$). We then perform _k-fold cross-validation_, where in each fold we further divide the training set into a training set ($80%$) and a validation set ($20%$). This allows us to measure the classifier's accuracy."
   ]
  },
  {
   "cell_type": "code",
   "execution_count": 33,
   "metadata": {},
   "outputs": [
    {
     "data": {
      "image/png": "[encoded data removed]",
      "text/plain": [
       "<Figure size 1000x300 with 2 Axes>"
      ]
     },
     "metadata": {},
     "output_type": "display_data"
    },
    {
     "name": "stdout",
     "output_type": "stream",
     "text": [
      "Detailed accuracy: \n",
      "    TP FP Precision    Recall F-Measure       AUC   Class Accuracy Error Rate\n",
      "1  41  5  0.891304       1.0  0.942529  0.945652     ckd                    \n",
      "2  34  0       1.0  0.871795  0.942529  0.945652  notckd                    \n",
      "3                                                 Total:   0.9375     0.0625\n",
      "Mean squared error: 0.06\n",
      "Neural Network Accuracy:  0.9407425061388477\n"
     ]
    }
   ],
   "source": [
    "nn_model, nn_accuracy = neural_network_model(df_x_lr, df_y_lr, k)\n",
    "print(\"Neural Network Accuracy: \", nn_accuracy)"
   ]
  }
 ],
 "metadata": {
  "kernelspec": {
   "display_name": "base",
   "language": "python",
   "name": "python3"
  },
  "language_info": {
   "codemirror_mode": {
    "name": "ipython",
    "version": 3
   },
   "file_extension": ".py",
   "mimetype": "text/x-python",
   "name": "python",
   "nbconvert_exporter": "python",
   "pygments_lexer": "ipython3",
   "version": "3.11.5"
  }
 },
 "nbformat": 4,
 "nbformat_minor": 2
}
